{
  "nbformat": 4,
  "nbformat_minor": 0,
  "metadata": {
    "colab": {
      "provenance": [],
      "include_colab_link": true
    },
    "kernelspec": {
      "name": "python3",
      "display_name": "Python 3"
    },
    "language_info": {
      "name": "python"
    }
  },
  "cells": [
    {
      "cell_type": "markdown",
      "metadata": {
        "id": "view-in-github",
        "colab_type": "text"
      },
      "source": [
        "<a href=\"https://colab.research.google.com/github/mindymj777/DataMining_DecisionTree/blob/main/data_mining.ipynb\" target=\"_parent\"><img src=\"https://colab.research.google.com/assets/colab-badge.svg\" alt=\"Open In Colab\"/></a>"
      ]
    },
    {
      "cell_type": "code",
      "execution_count": null,
      "metadata": {
        "id": "ru-KQQro_65g"
      },
      "outputs": [],
      "source": [
        "import pandas as pd\n",
        "import numpy as np\n",
        "from google.colab import files\n",
        "import seaborn as sns\n",
        "from sklearn.tree import DecisionTreeClassifier,plot_tree,export_text,export_graphviz\n",
        "import matplotlib.pyplot as plt\n",
        "from sklearn.metrics import accuracy_score,confusion_matrix,classification_report\n",
        "from sklearn.model_selection import cross_val_score,train_test_split\n",
        "from sklearn import linear_model,svm,ensemble\n"
      ]
    },
    {
      "cell_type": "markdown",
      "source": [
        "讀取檔案並且將不需要的feature去除(id)"
      ],
      "metadata": {
        "id": "hts1VT8vEvso"
      }
    },
    {
      "cell_type": "code",
      "source": [
        "df=pd.read_csv('Bank_Customer.csv')\n",
        "df =df.drop('customer_id', axis=1)"
      ],
      "metadata": {
        "id": "JeFZWkZgBWS-"
      },
      "execution_count": null,
      "outputs": []
    },
    {
      "cell_type": "markdown",
      "source": [
        "共10000筆資料,前十行為model的features,最後一行為欲預測的標籤(churn)"
      ],
      "metadata": {
        "id": "p0SdVDnr-HQm"
      }
    },
    {
      "cell_type": "code",
      "source": [
        "df"
      ],
      "metadata": {
        "colab": {
          "base_uri": "https://localhost:8080/",
          "height": 488
        },
        "id": "qH9zQXWZFjvP",
        "outputId": "4786d865-64b8-4971-b65c-982c294d1ff7"
      },
      "execution_count": null,
      "outputs": [
        {
          "output_type": "execute_result",
          "data": {
            "text/plain": [
              "      credit_score  country  gender  age  tenure    balance  products_number  \\\n",
              "0              619   France  Female   42       2       0.00                1   \n",
              "1              608    Spain  Female   41       1   83807.86                1   \n",
              "2              502   France  Female   42       8  159660.80                3   \n",
              "3              699   France  Female   39       1       0.00                2   \n",
              "4              850    Spain  Female   43       2  125510.82                1   \n",
              "...            ...      ...     ...  ...     ...        ...              ...   \n",
              "9995           771   France    Male   39       5       0.00                2   \n",
              "9996           516   France    Male   35      10   57369.61                1   \n",
              "9997           709   France  Female   36       7       0.00                1   \n",
              "9998           772  Germany    Male   42       3   75075.31                2   \n",
              "9999           792   France  Female   28       4  130142.79                1   \n",
              "\n",
              "      credit_card  active_member  estimated_salary  churn  \n",
              "0               1              1         101348.88      1  \n",
              "1               0              1         112542.58      0  \n",
              "2               1              0         113931.57      1  \n",
              "3               0              0          93826.63      0  \n",
              "4               1              1          79084.10      0  \n",
              "...           ...            ...               ...    ...  \n",
              "9995            1              0          96270.64      0  \n",
              "9996            1              1         101699.77      0  \n",
              "9997            0              1          42085.58      1  \n",
              "9998            1              0          92888.52      1  \n",
              "9999            1              0          38190.78      0  \n",
              "\n",
              "[10000 rows x 11 columns]"
            ],
            "text/html": [
              "\n",
              "  <div id=\"df-6dc6d25b-30a3-49b9-8224-730e7ed4677d\">\n",
              "    <div class=\"colab-df-container\">\n",
              "      <div>\n",
              "<style scoped>\n",
              "    .dataframe tbody tr th:only-of-type {\n",
              "        vertical-align: middle;\n",
              "    }\n",
              "\n",
              "    .dataframe tbody tr th {\n",
              "        vertical-align: top;\n",
              "    }\n",
              "\n",
              "    .dataframe thead th {\n",
              "        text-align: right;\n",
              "    }\n",
              "</style>\n",
              "<table border=\"1\" class=\"dataframe\">\n",
              "  <thead>\n",
              "    <tr style=\"text-align: right;\">\n",
              "      <th></th>\n",
              "      <th>credit_score</th>\n",
              "      <th>country</th>\n",
              "      <th>gender</th>\n",
              "      <th>age</th>\n",
              "      <th>tenure</th>\n",
              "      <th>balance</th>\n",
              "      <th>products_number</th>\n",
              "      <th>credit_card</th>\n",
              "      <th>active_member</th>\n",
              "      <th>estimated_salary</th>\n",
              "      <th>churn</th>\n",
              "    </tr>\n",
              "  </thead>\n",
              "  <tbody>\n",
              "    <tr>\n",
              "      <th>0</th>\n",
              "      <td>619</td>\n",
              "      <td>France</td>\n",
              "      <td>Female</td>\n",
              "      <td>42</td>\n",
              "      <td>2</td>\n",
              "      <td>0.00</td>\n",
              "      <td>1</td>\n",
              "      <td>1</td>\n",
              "      <td>1</td>\n",
              "      <td>101348.88</td>\n",
              "      <td>1</td>\n",
              "    </tr>\n",
              "    <tr>\n",
              "      <th>1</th>\n",
              "      <td>608</td>\n",
              "      <td>Spain</td>\n",
              "      <td>Female</td>\n",
              "      <td>41</td>\n",
              "      <td>1</td>\n",
              "      <td>83807.86</td>\n",
              "      <td>1</td>\n",
              "      <td>0</td>\n",
              "      <td>1</td>\n",
              "      <td>112542.58</td>\n",
              "      <td>0</td>\n",
              "    </tr>\n",
              "    <tr>\n",
              "      <th>2</th>\n",
              "      <td>502</td>\n",
              "      <td>France</td>\n",
              "      <td>Female</td>\n",
              "      <td>42</td>\n",
              "      <td>8</td>\n",
              "      <td>159660.80</td>\n",
              "      <td>3</td>\n",
              "      <td>1</td>\n",
              "      <td>0</td>\n",
              "      <td>113931.57</td>\n",
              "      <td>1</td>\n",
              "    </tr>\n",
              "    <tr>\n",
              "      <th>3</th>\n",
              "      <td>699</td>\n",
              "      <td>France</td>\n",
              "      <td>Female</td>\n",
              "      <td>39</td>\n",
              "      <td>1</td>\n",
              "      <td>0.00</td>\n",
              "      <td>2</td>\n",
              "      <td>0</td>\n",
              "      <td>0</td>\n",
              "      <td>93826.63</td>\n",
              "      <td>0</td>\n",
              "    </tr>\n",
              "    <tr>\n",
              "      <th>4</th>\n",
              "      <td>850</td>\n",
              "      <td>Spain</td>\n",
              "      <td>Female</td>\n",
              "      <td>43</td>\n",
              "      <td>2</td>\n",
              "      <td>125510.82</td>\n",
              "      <td>1</td>\n",
              "      <td>1</td>\n",
              "      <td>1</td>\n",
              "      <td>79084.10</td>\n",
              "      <td>0</td>\n",
              "    </tr>\n",
              "    <tr>\n",
              "      <th>...</th>\n",
              "      <td>...</td>\n",
              "      <td>...</td>\n",
              "      <td>...</td>\n",
              "      <td>...</td>\n",
              "      <td>...</td>\n",
              "      <td>...</td>\n",
              "      <td>...</td>\n",
              "      <td>...</td>\n",
              "      <td>...</td>\n",
              "      <td>...</td>\n",
              "      <td>...</td>\n",
              "    </tr>\n",
              "    <tr>\n",
              "      <th>9995</th>\n",
              "      <td>771</td>\n",
              "      <td>France</td>\n",
              "      <td>Male</td>\n",
              "      <td>39</td>\n",
              "      <td>5</td>\n",
              "      <td>0.00</td>\n",
              "      <td>2</td>\n",
              "      <td>1</td>\n",
              "      <td>0</td>\n",
              "      <td>96270.64</td>\n",
              "      <td>0</td>\n",
              "    </tr>\n",
              "    <tr>\n",
              "      <th>9996</th>\n",
              "      <td>516</td>\n",
              "      <td>France</td>\n",
              "      <td>Male</td>\n",
              "      <td>35</td>\n",
              "      <td>10</td>\n",
              "      <td>57369.61</td>\n",
              "      <td>1</td>\n",
              "      <td>1</td>\n",
              "      <td>1</td>\n",
              "      <td>101699.77</td>\n",
              "      <td>0</td>\n",
              "    </tr>\n",
              "    <tr>\n",
              "      <th>9997</th>\n",
              "      <td>709</td>\n",
              "      <td>France</td>\n",
              "      <td>Female</td>\n",
              "      <td>36</td>\n",
              "      <td>7</td>\n",
              "      <td>0.00</td>\n",
              "      <td>1</td>\n",
              "      <td>0</td>\n",
              "      <td>1</td>\n",
              "      <td>42085.58</td>\n",
              "      <td>1</td>\n",
              "    </tr>\n",
              "    <tr>\n",
              "      <th>9998</th>\n",
              "      <td>772</td>\n",
              "      <td>Germany</td>\n",
              "      <td>Male</td>\n",
              "      <td>42</td>\n",
              "      <td>3</td>\n",
              "      <td>75075.31</td>\n",
              "      <td>2</td>\n",
              "      <td>1</td>\n",
              "      <td>0</td>\n",
              "      <td>92888.52</td>\n",
              "      <td>1</td>\n",
              "    </tr>\n",
              "    <tr>\n",
              "      <th>9999</th>\n",
              "      <td>792</td>\n",
              "      <td>France</td>\n",
              "      <td>Female</td>\n",
              "      <td>28</td>\n",
              "      <td>4</td>\n",
              "      <td>130142.79</td>\n",
              "      <td>1</td>\n",
              "      <td>1</td>\n",
              "      <td>0</td>\n",
              "      <td>38190.78</td>\n",
              "      <td>0</td>\n",
              "    </tr>\n",
              "  </tbody>\n",
              "</table>\n",
              "<p>10000 rows × 11 columns</p>\n",
              "</div>\n",
              "      <button class=\"colab-df-convert\" onclick=\"convertToInteractive('df-6dc6d25b-30a3-49b9-8224-730e7ed4677d')\"\n",
              "              title=\"Convert this dataframe to an interactive table.\"\n",
              "              style=\"display:none;\">\n",
              "        \n",
              "  <svg xmlns=\"http://www.w3.org/2000/svg\" height=\"24px\"viewBox=\"0 0 24 24\"\n",
              "       width=\"24px\">\n",
              "    <path d=\"M0 0h24v24H0V0z\" fill=\"none\"/>\n",
              "    <path d=\"M18.56 5.44l.94 2.06.94-2.06 2.06-.94-2.06-.94-.94-2.06-.94 2.06-2.06.94zm-11 1L8.5 8.5l.94-2.06 2.06-.94-2.06-.94L8.5 2.5l-.94 2.06-2.06.94zm10 10l.94 2.06.94-2.06 2.06-.94-2.06-.94-.94-2.06-.94 2.06-2.06.94z\"/><path d=\"M17.41 7.96l-1.37-1.37c-.4-.4-.92-.59-1.43-.59-.52 0-1.04.2-1.43.59L10.3 9.45l-7.72 7.72c-.78.78-.78 2.05 0 2.83L4 21.41c.39.39.9.59 1.41.59.51 0 1.02-.2 1.41-.59l7.78-7.78 2.81-2.81c.8-.78.8-2.07 0-2.86zM5.41 20L4 18.59l7.72-7.72 1.47 1.35L5.41 20z\"/>\n",
              "  </svg>\n",
              "      </button>\n",
              "      \n",
              "  <style>\n",
              "    .colab-df-container {\n",
              "      display:flex;\n",
              "      flex-wrap:wrap;\n",
              "      gap: 12px;\n",
              "    }\n",
              "\n",
              "    .colab-df-convert {\n",
              "      background-color: #E8F0FE;\n",
              "      border: none;\n",
              "      border-radius: 50%;\n",
              "      cursor: pointer;\n",
              "      display: none;\n",
              "      fill: #1967D2;\n",
              "      height: 32px;\n",
              "      padding: 0 0 0 0;\n",
              "      width: 32px;\n",
              "    }\n",
              "\n",
              "    .colab-df-convert:hover {\n",
              "      background-color: #E2EBFA;\n",
              "      box-shadow: 0px 1px 2px rgba(60, 64, 67, 0.3), 0px 1px 3px 1px rgba(60, 64, 67, 0.15);\n",
              "      fill: #174EA6;\n",
              "    }\n",
              "\n",
              "    [theme=dark] .colab-df-convert {\n",
              "      background-color: #3B4455;\n",
              "      fill: #D2E3FC;\n",
              "    }\n",
              "\n",
              "    [theme=dark] .colab-df-convert:hover {\n",
              "      background-color: #434B5C;\n",
              "      box-shadow: 0px 1px 3px 1px rgba(0, 0, 0, 0.15);\n",
              "      filter: drop-shadow(0px 1px 2px rgba(0, 0, 0, 0.3));\n",
              "      fill: #FFFFFF;\n",
              "    }\n",
              "  </style>\n",
              "\n",
              "      <script>\n",
              "        const buttonEl =\n",
              "          document.querySelector('#df-6dc6d25b-30a3-49b9-8224-730e7ed4677d button.colab-df-convert');\n",
              "        buttonEl.style.display =\n",
              "          google.colab.kernel.accessAllowed ? 'block' : 'none';\n",
              "\n",
              "        async function convertToInteractive(key) {\n",
              "          const element = document.querySelector('#df-6dc6d25b-30a3-49b9-8224-730e7ed4677d');\n",
              "          const dataTable =\n",
              "            await google.colab.kernel.invokeFunction('convertToInteractive',\n",
              "                                                     [key], {});\n",
              "          if (!dataTable) return;\n",
              "\n",
              "          const docLinkHtml = 'Like what you see? Visit the ' +\n",
              "            '<a target=\"_blank\" href=https://colab.research.google.com/notebooks/data_table.ipynb>data table notebook</a>'\n",
              "            + ' to learn more about interactive tables.';\n",
              "          element.innerHTML = '';\n",
              "          dataTable['output_type'] = 'display_data';\n",
              "          await google.colab.output.renderOutput(dataTable, element);\n",
              "          const docLink = document.createElement('div');\n",
              "          docLink.innerHTML = docLinkHtml;\n",
              "          element.appendChild(docLink);\n",
              "        }\n",
              "      </script>\n",
              "    </div>\n",
              "  </div>\n",
              "  "
            ]
          },
          "metadata": {},
          "execution_count": 3
        }
      ]
    },
    {
      "cell_type": "markdown",
      "source": [
        "觀察資料型態發現country、gender都是Categorical data"
      ],
      "metadata": {
        "id": "7gnqG28EdM1z"
      }
    },
    {
      "cell_type": "code",
      "source": [
        "df.info()"
      ],
      "metadata": {
        "colab": {
          "base_uri": "https://localhost:8080/"
        },
        "id": "NjmmvR44Et2w",
        "outputId": "2191c15f-eef7-4387-9fcb-82ecf3bc3a5c"
      },
      "execution_count": null,
      "outputs": [
        {
          "output_type": "stream",
          "name": "stdout",
          "text": [
            "<class 'pandas.core.frame.DataFrame'>\n",
            "RangeIndex: 10000 entries, 0 to 9999\n",
            "Data columns (total 11 columns):\n",
            " #   Column            Non-Null Count  Dtype  \n",
            "---  ------            --------------  -----  \n",
            " 0   credit_score      10000 non-null  int64  \n",
            " 1   country           10000 non-null  object \n",
            " 2   gender            10000 non-null  object \n",
            " 3   age               10000 non-null  int64  \n",
            " 4   tenure            10000 non-null  int64  \n",
            " 5   balance           10000 non-null  float64\n",
            " 6   products_number   10000 non-null  int64  \n",
            " 7   credit_card       10000 non-null  int64  \n",
            " 8   active_member     10000 non-null  int64  \n",
            " 9   estimated_salary  10000 non-null  float64\n",
            " 10  churn             10000 non-null  int64  \n",
            "dtypes: float64(2), int64(7), object(2)\n",
            "memory usage: 859.5+ KB\n"
          ]
        }
      ]
    },
    {
      "cell_type": "markdown",
      "source": [
        "資料集相關統計值"
      ],
      "metadata": {
        "id": "-WduhGPIeBIX"
      }
    },
    {
      "cell_type": "code",
      "source": [
        "df.describe()"
      ],
      "metadata": {
        "colab": {
          "base_uri": "https://localhost:8080/",
          "height": 364
        },
        "id": "_OG03C20SBRl",
        "outputId": "7f3ba286-8bb7-4b7c-ffe0-2cd4b756c421"
      },
      "execution_count": null,
      "outputs": [
        {
          "output_type": "execute_result",
          "data": {
            "text/plain": [
              "       credit_score           age        tenure        balance  \\\n",
              "count  10000.000000  10000.000000  10000.000000   10000.000000   \n",
              "mean     650.528800     38.921800      5.012800   76485.889288   \n",
              "std       96.653299     10.487806      2.892174   62397.405202   \n",
              "min      350.000000     18.000000      0.000000       0.000000   \n",
              "25%      584.000000     32.000000      3.000000       0.000000   \n",
              "50%      652.000000     37.000000      5.000000   97198.540000   \n",
              "75%      718.000000     44.000000      7.000000  127644.240000   \n",
              "max      850.000000     92.000000     10.000000  250898.090000   \n",
              "\n",
              "       products_number  credit_card  active_member  estimated_salary  \\\n",
              "count     10000.000000  10000.00000   10000.000000      10000.000000   \n",
              "mean          1.530200      0.70550       0.515100     100090.239881   \n",
              "std           0.581654      0.45584       0.499797      57510.492818   \n",
              "min           1.000000      0.00000       0.000000         11.580000   \n",
              "25%           1.000000      0.00000       0.000000      51002.110000   \n",
              "50%           1.000000      1.00000       1.000000     100193.915000   \n",
              "75%           2.000000      1.00000       1.000000     149388.247500   \n",
              "max           4.000000      1.00000       1.000000     199992.480000   \n",
              "\n",
              "              churn  \n",
              "count  10000.000000  \n",
              "mean       0.203700  \n",
              "std        0.402769  \n",
              "min        0.000000  \n",
              "25%        0.000000  \n",
              "50%        0.000000  \n",
              "75%        0.000000  \n",
              "max        1.000000  "
            ],
            "text/html": [
              "\n",
              "  <div id=\"df-9b3a1d78-de4c-4323-81f8-fb4ed79cafd2\">\n",
              "    <div class=\"colab-df-container\">\n",
              "      <div>\n",
              "<style scoped>\n",
              "    .dataframe tbody tr th:only-of-type {\n",
              "        vertical-align: middle;\n",
              "    }\n",
              "\n",
              "    .dataframe tbody tr th {\n",
              "        vertical-align: top;\n",
              "    }\n",
              "\n",
              "    .dataframe thead th {\n",
              "        text-align: right;\n",
              "    }\n",
              "</style>\n",
              "<table border=\"1\" class=\"dataframe\">\n",
              "  <thead>\n",
              "    <tr style=\"text-align: right;\">\n",
              "      <th></th>\n",
              "      <th>credit_score</th>\n",
              "      <th>age</th>\n",
              "      <th>tenure</th>\n",
              "      <th>balance</th>\n",
              "      <th>products_number</th>\n",
              "      <th>credit_card</th>\n",
              "      <th>active_member</th>\n",
              "      <th>estimated_salary</th>\n",
              "      <th>churn</th>\n",
              "    </tr>\n",
              "  </thead>\n",
              "  <tbody>\n",
              "    <tr>\n",
              "      <th>count</th>\n",
              "      <td>10000.000000</td>\n",
              "      <td>10000.000000</td>\n",
              "      <td>10000.000000</td>\n",
              "      <td>10000.000000</td>\n",
              "      <td>10000.000000</td>\n",
              "      <td>10000.00000</td>\n",
              "      <td>10000.000000</td>\n",
              "      <td>10000.000000</td>\n",
              "      <td>10000.000000</td>\n",
              "    </tr>\n",
              "    <tr>\n",
              "      <th>mean</th>\n",
              "      <td>650.528800</td>\n",
              "      <td>38.921800</td>\n",
              "      <td>5.012800</td>\n",
              "      <td>76485.889288</td>\n",
              "      <td>1.530200</td>\n",
              "      <td>0.70550</td>\n",
              "      <td>0.515100</td>\n",
              "      <td>100090.239881</td>\n",
              "      <td>0.203700</td>\n",
              "    </tr>\n",
              "    <tr>\n",
              "      <th>std</th>\n",
              "      <td>96.653299</td>\n",
              "      <td>10.487806</td>\n",
              "      <td>2.892174</td>\n",
              "      <td>62397.405202</td>\n",
              "      <td>0.581654</td>\n",
              "      <td>0.45584</td>\n",
              "      <td>0.499797</td>\n",
              "      <td>57510.492818</td>\n",
              "      <td>0.402769</td>\n",
              "    </tr>\n",
              "    <tr>\n",
              "      <th>min</th>\n",
              "      <td>350.000000</td>\n",
              "      <td>18.000000</td>\n",
              "      <td>0.000000</td>\n",
              "      <td>0.000000</td>\n",
              "      <td>1.000000</td>\n",
              "      <td>0.00000</td>\n",
              "      <td>0.000000</td>\n",
              "      <td>11.580000</td>\n",
              "      <td>0.000000</td>\n",
              "    </tr>\n",
              "    <tr>\n",
              "      <th>25%</th>\n",
              "      <td>584.000000</td>\n",
              "      <td>32.000000</td>\n",
              "      <td>3.000000</td>\n",
              "      <td>0.000000</td>\n",
              "      <td>1.000000</td>\n",
              "      <td>0.00000</td>\n",
              "      <td>0.000000</td>\n",
              "      <td>51002.110000</td>\n",
              "      <td>0.000000</td>\n",
              "    </tr>\n",
              "    <tr>\n",
              "      <th>50%</th>\n",
              "      <td>652.000000</td>\n",
              "      <td>37.000000</td>\n",
              "      <td>5.000000</td>\n",
              "      <td>97198.540000</td>\n",
              "      <td>1.000000</td>\n",
              "      <td>1.00000</td>\n",
              "      <td>1.000000</td>\n",
              "      <td>100193.915000</td>\n",
              "      <td>0.000000</td>\n",
              "    </tr>\n",
              "    <tr>\n",
              "      <th>75%</th>\n",
              "      <td>718.000000</td>\n",
              "      <td>44.000000</td>\n",
              "      <td>7.000000</td>\n",
              "      <td>127644.240000</td>\n",
              "      <td>2.000000</td>\n",
              "      <td>1.00000</td>\n",
              "      <td>1.000000</td>\n",
              "      <td>149388.247500</td>\n",
              "      <td>0.000000</td>\n",
              "    </tr>\n",
              "    <tr>\n",
              "      <th>max</th>\n",
              "      <td>850.000000</td>\n",
              "      <td>92.000000</td>\n",
              "      <td>10.000000</td>\n",
              "      <td>250898.090000</td>\n",
              "      <td>4.000000</td>\n",
              "      <td>1.00000</td>\n",
              "      <td>1.000000</td>\n",
              "      <td>199992.480000</td>\n",
              "      <td>1.000000</td>\n",
              "    </tr>\n",
              "  </tbody>\n",
              "</table>\n",
              "</div>\n",
              "      <button class=\"colab-df-convert\" onclick=\"convertToInteractive('df-9b3a1d78-de4c-4323-81f8-fb4ed79cafd2')\"\n",
              "              title=\"Convert this dataframe to an interactive table.\"\n",
              "              style=\"display:none;\">\n",
              "        \n",
              "  <svg xmlns=\"http://www.w3.org/2000/svg\" height=\"24px\"viewBox=\"0 0 24 24\"\n",
              "       width=\"24px\">\n",
              "    <path d=\"M0 0h24v24H0V0z\" fill=\"none\"/>\n",
              "    <path d=\"M18.56 5.44l.94 2.06.94-2.06 2.06-.94-2.06-.94-.94-2.06-.94 2.06-2.06.94zm-11 1L8.5 8.5l.94-2.06 2.06-.94-2.06-.94L8.5 2.5l-.94 2.06-2.06.94zm10 10l.94 2.06.94-2.06 2.06-.94-2.06-.94-.94-2.06-.94 2.06-2.06.94z\"/><path d=\"M17.41 7.96l-1.37-1.37c-.4-.4-.92-.59-1.43-.59-.52 0-1.04.2-1.43.59L10.3 9.45l-7.72 7.72c-.78.78-.78 2.05 0 2.83L4 21.41c.39.39.9.59 1.41.59.51 0 1.02-.2 1.41-.59l7.78-7.78 2.81-2.81c.8-.78.8-2.07 0-2.86zM5.41 20L4 18.59l7.72-7.72 1.47 1.35L5.41 20z\"/>\n",
              "  </svg>\n",
              "      </button>\n",
              "      \n",
              "  <style>\n",
              "    .colab-df-container {\n",
              "      display:flex;\n",
              "      flex-wrap:wrap;\n",
              "      gap: 12px;\n",
              "    }\n",
              "\n",
              "    .colab-df-convert {\n",
              "      background-color: #E8F0FE;\n",
              "      border: none;\n",
              "      border-radius: 50%;\n",
              "      cursor: pointer;\n",
              "      display: none;\n",
              "      fill: #1967D2;\n",
              "      height: 32px;\n",
              "      padding: 0 0 0 0;\n",
              "      width: 32px;\n",
              "    }\n",
              "\n",
              "    .colab-df-convert:hover {\n",
              "      background-color: #E2EBFA;\n",
              "      box-shadow: 0px 1px 2px rgba(60, 64, 67, 0.3), 0px 1px 3px 1px rgba(60, 64, 67, 0.15);\n",
              "      fill: #174EA6;\n",
              "    }\n",
              "\n",
              "    [theme=dark] .colab-df-convert {\n",
              "      background-color: #3B4455;\n",
              "      fill: #D2E3FC;\n",
              "    }\n",
              "\n",
              "    [theme=dark] .colab-df-convert:hover {\n",
              "      background-color: #434B5C;\n",
              "      box-shadow: 0px 1px 3px 1px rgba(0, 0, 0, 0.15);\n",
              "      filter: drop-shadow(0px 1px 2px rgba(0, 0, 0, 0.3));\n",
              "      fill: #FFFFFF;\n",
              "    }\n",
              "  </style>\n",
              "\n",
              "      <script>\n",
              "        const buttonEl =\n",
              "          document.querySelector('#df-9b3a1d78-de4c-4323-81f8-fb4ed79cafd2 button.colab-df-convert');\n",
              "        buttonEl.style.display =\n",
              "          google.colab.kernel.accessAllowed ? 'block' : 'none';\n",
              "\n",
              "        async function convertToInteractive(key) {\n",
              "          const element = document.querySelector('#df-9b3a1d78-de4c-4323-81f8-fb4ed79cafd2');\n",
              "          const dataTable =\n",
              "            await google.colab.kernel.invokeFunction('convertToInteractive',\n",
              "                                                     [key], {});\n",
              "          if (!dataTable) return;\n",
              "\n",
              "          const docLinkHtml = 'Like what you see? Visit the ' +\n",
              "            '<a target=\"_blank\" href=https://colab.research.google.com/notebooks/data_table.ipynb>data table notebook</a>'\n",
              "            + ' to learn more about interactive tables.';\n",
              "          element.innerHTML = '';\n",
              "          dataTable['output_type'] = 'display_data';\n",
              "          await google.colab.output.renderOutput(dataTable, element);\n",
              "          const docLink = document.createElement('div');\n",
              "          docLink.innerHTML = docLinkHtml;\n",
              "          element.appendChild(docLink);\n",
              "        }\n",
              "      </script>\n",
              "    </div>\n",
              "  </div>\n",
              "  "
            ]
          },
          "metadata": {},
          "execution_count": 5
        }
      ]
    },
    {
      "cell_type": "markdown",
      "source": [
        "用戶年齡的分布(30-40歲的資料占多數)"
      ],
      "metadata": {
        "id": "qNvXUVGnL9Iu"
      }
    },
    {
      "cell_type": "code",
      "source": [
        "sns.histplot(data=df[['age']], x='age', kde=True)"
      ],
      "metadata": {
        "colab": {
          "base_uri": "https://localhost:8080/",
          "height": 296
        },
        "id": "TiUXtfWUHAZ_",
        "outputId": "d87150f9-305f-4d9d-d485-e437602438f6"
      },
      "execution_count": null,
      "outputs": [
        {
          "output_type": "execute_result",
          "data": {
            "text/plain": [
              "<matplotlib.axes._subplots.AxesSubplot at 0x7f5f7b97a670>"
            ]
          },
          "metadata": {},
          "execution_count": 6
        },
        {
          "output_type": "display_data",
          "data": {
            "text/plain": [
              "<Figure size 432x288 with 1 Axes>"
            ],
            "image/png": "[encoded data removed]"
          },
          "metadata": {
            "needs_background": "light"
          }
        }
      ]
    },
    {
      "cell_type": "markdown",
      "source": [
        "churn=0的資料多於churn=1"
      ],
      "metadata": {
        "id": "g0kuVy0gPZ0-"
      }
    },
    {
      "cell_type": "code",
      "source": [
        "plt.pie(df['churn'].value_counts(),                  \n",
        "    labels=['0','1'], \n",
        "    autopct='%1.0f%%',\n",
        "    pctdistance = 0.6,              #數字距圓心的距離\n",
        "    textprops = {\"fontsize\" : 12},         #文字大小\n",
        "    shadow=True)                    #設定陰影\n",
        "plt.title(\"Pie chart of churn\", {\"fontsize\" : 18})  #設定標題及其文字大小\n",
        "plt.legend(loc = \"best\")        "
      ],
      "metadata": {
        "colab": {
          "base_uri": "https://localhost:8080/",
          "height": 285
        },
        "id": "XNvnf-FsbOkP",
        "outputId": "6e331030-d028-49d7-b0f3-c405fb88a0e2"
      },
      "execution_count": null,
      "outputs": [
        {
          "output_type": "execute_result",
          "data": {
            "text/plain": [
              "<matplotlib.legend.Legend at 0x7f5f7984e6a0>"
            ]
          },
          "metadata": {},
          "execution_count": 7
        },
        {
          "output_type": "display_data",
          "data": {
            "text/plain": [
              "<Figure size 432x288 with 1 Axes>"
            ],
            "image/png": "[encoded data removed]"
          },
          "metadata": {}
        }
      ]
    },
    {
      "cell_type": "markdown",
      "source": [
        "男生的資料量較多，但女生的續約率大於男生"
      ],
      "metadata": {
        "id": "kp3sMTfuPgA9"
      }
    },
    {
      "cell_type": "code",
      "source": [
        "sns.histplot(data=df, x='gender', hue='churn',multiple='dodge', shrink=.8)"
      ],
      "metadata": {
        "colab": {
          "base_uri": "https://localhost:8080/",
          "height": 296
        },
        "id": "-u8yq04IdrmC",
        "outputId": "de8bef15-ae25-45d6-860a-4fdb1a5c2332"
      },
      "execution_count": null,
      "outputs": [
        {
          "output_type": "execute_result",
          "data": {
            "text/plain": [
              "<matplotlib.axes._subplots.AxesSubplot at 0x7f5f7935d130>"
            ]
          },
          "metadata": {},
          "execution_count": 8
        },
        {
          "output_type": "display_data",
          "data": {
            "text/plain": [
              "<Figure size 432x288 with 1 Axes>"
            ],
            "image/png": "[encoded data removed]"
          },
          "metadata": {
            "needs_background": "light"
          }
        }
      ]
    },
    {
      "cell_type": "markdown",
      "source": [
        "由下圖可以發現不管是男或女在churn=1(橘)的年齡平均較churn=0(藍)的年齡平均高"
      ],
      "metadata": {
        "id": "Ge_707OqMX6k"
      }
    },
    {
      "cell_type": "code",
      "source": [
        "sns.boxplot(x=\"gender\",y=\"age\",hue=\"churn\",data=df) # 繪製盒狀圖"
      ],
      "metadata": {
        "colab": {
          "base_uri": "https://localhost:8080/",
          "height": 296
        },
        "id": "TW-KZbBUe2bF",
        "outputId": "dc880fdc-ed4b-4226-901d-c26165a49851"
      },
      "execution_count": null,
      "outputs": [
        {
          "output_type": "execute_result",
          "data": {
            "text/plain": [
              "<matplotlib.axes._subplots.AxesSubplot at 0x7f5f792be6a0>"
            ]
          },
          "metadata": {},
          "execution_count": 9
        },
        {
          "output_type": "display_data",
          "data": {
            "text/plain": [
              "<Figure size 432x288 with 1 Axes>"
            ],
            "image/png": "[encoded data removed]"
          },
          "metadata": {
            "needs_background": "light"
          }
        }
      ]
    },
    {
      "cell_type": "markdown",
      "source": [
        "法國資料量最多，但德國續約率較高"
      ],
      "metadata": {
        "id": "H7m6kkoTPs7w"
      }
    },
    {
      "cell_type": "code",
      "source": [
        "sns.histplot(data=df, x='country', hue='churn', multiple='dodge', shrink=.8)"
      ],
      "metadata": {
        "colab": {
          "base_uri": "https://localhost:8080/",
          "height": 296
        },
        "id": "6Mz2-djrXC_E",
        "outputId": "4784351b-9869-42c5-affd-3b91a77aeb94"
      },
      "execution_count": null,
      "outputs": [
        {
          "output_type": "execute_result",
          "data": {
            "text/plain": [
              "<matplotlib.axes._subplots.AxesSubplot at 0x7f5f791e28e0>"
            ]
          },
          "metadata": {},
          "execution_count": 10
        },
        {
          "output_type": "display_data",
          "data": {
            "text/plain": [
              "<Figure size 432x288 with 1 Axes>"
            ],
            "image/png": "[encoded data removed]"
          },
          "metadata": {
            "needs_background": "light"
          }
        }
      ]
    },
    {
      "cell_type": "markdown",
      "source": [
        "從下圖可以發現churn跟年齡比較有關係"
      ],
      "metadata": {
        "id": "hNw0fnM3P0dV"
      }
    },
    {
      "cell_type": "code",
      "source": [
        "sns.heatmap(data=df.corr().round(2),cmap=\"YlGnBu\",annot=True)"
      ],
      "metadata": {
        "colab": {
          "base_uri": "https://localhost:8080/",
          "height": 364
        },
        "id": "EMrJF50aXgjQ",
        "outputId": "580f4dfb-5ceb-441a-f4d9-147161312fdc"
      },
      "execution_count": null,
      "outputs": [
        {
          "output_type": "execute_result",
          "data": {
            "text/plain": [
              "<matplotlib.axes._subplots.AxesSubplot at 0x7f5f791d4a30>"
            ]
          },
          "metadata": {},
          "execution_count": 11
        },
        {
          "output_type": "display_data",
          "data": {
            "text/plain": [
              "<Figure size 432x288 with 2 Axes>"
            ],
            "image/png": "[encoded data removed]"
          },
          "metadata": {
            "needs_background": "light"
          }
        }
      ]
    },
    {
      "cell_type": "markdown",
      "source": [
        "將類別型資料轉成數值"
      ],
      "metadata": {
        "id": "1q15OOr5P_Ir"
      }
    },
    {
      "cell_type": "code",
      "source": [
        "df_encoded = pd.get_dummies(df, drop_first=False)\n",
        "df_encoded"
      ],
      "metadata": {
        "colab": {
          "base_uri": "https://localhost:8080/",
          "height": 488
        },
        "id": "Sy4PKQIZpIMX",
        "outputId": "a8be2a4a-aa19-43bf-b9ba-95909b704caa"
      },
      "execution_count": null,
      "outputs": [
        {
          "output_type": "execute_result",
          "data": {
            "text/plain": [
              "      credit_score  age  tenure    balance  products_number  credit_card  \\\n",
              "0              619   42       2       0.00                1            1   \n",
              "1              608   41       1   83807.86                1            0   \n",
              "2              502   42       8  159660.80                3            1   \n",
              "3              699   39       1       0.00                2            0   \n",
              "4              850   43       2  125510.82                1            1   \n",
              "...            ...  ...     ...        ...              ...          ...   \n",
              "9995           771   39       5       0.00                2            1   \n",
              "9996           516   35      10   57369.61                1            1   \n",
              "9997           709   36       7       0.00                1            0   \n",
              "9998           772   42       3   75075.31                2            1   \n",
              "9999           792   28       4  130142.79                1            1   \n",
              "\n",
              "      active_member  estimated_salary  churn  country_France  country_Germany  \\\n",
              "0                 1         101348.88      1               1                0   \n",
              "1                 1         112542.58      0               0                0   \n",
              "2                 0         113931.57      1               1                0   \n",
              "3                 0          93826.63      0               1                0   \n",
              "4                 1          79084.10      0               0                0   \n",
              "...             ...               ...    ...             ...              ...   \n",
              "9995              0          96270.64      0               1                0   \n",
              "9996              1         101699.77      0               1                0   \n",
              "9997              1          42085.58      1               1                0   \n",
              "9998              0          92888.52      1               0                1   \n",
              "9999              0          38190.78      0               1                0   \n",
              "\n",
              "      country_Spain  gender_Female  gender_Male  \n",
              "0                 0              1            0  \n",
              "1                 1              1            0  \n",
              "2                 0              1            0  \n",
              "3                 0              1            0  \n",
              "4                 1              1            0  \n",
              "...             ...            ...          ...  \n",
              "9995              0              0            1  \n",
              "9996              0              0            1  \n",
              "9997              0              1            0  \n",
              "9998              0              0            1  \n",
              "9999              0              1            0  \n",
              "\n",
              "[10000 rows x 14 columns]"
            ],
            "text/html": [
              "\n",
              "  <div id=\"df-d119aa88-7cca-4e11-b224-0eb3024e6e3d\">\n",
              "    <div class=\"colab-df-container\">\n",
              "      <div>\n",
              "<style scoped>\n",
              "    .dataframe tbody tr th:only-of-type {\n",
              "        vertical-align: middle;\n",
              "    }\n",
              "\n",
              "    .dataframe tbody tr th {\n",
              "        vertical-align: top;\n",
              "    }\n",
              "\n",
              "    .dataframe thead th {\n",
              "        text-align: right;\n",
              "    }\n",
              "</style>\n",
              "<table border=\"1\" class=\"dataframe\">\n",
              "  <thead>\n",
              "    <tr style=\"text-align: right;\">\n",
              "      <th></th>\n",
              "      <th>credit_score</th>\n",
              "      <th>age</th>\n",
              "      <th>tenure</th>\n",
              "      <th>balance</th>\n",
              "      <th>products_number</th>\n",
              "      <th>credit_card</th>\n",
              "      <th>active_member</th>\n",
              "      <th>estimated_salary</th>\n",
              "      <th>churn</th>\n",
              "      <th>country_France</th>\n",
              "      <th>country_Germany</th>\n",
              "      <th>country_Spain</th>\n",
              "      <th>gender_Female</th>\n",
              "      <th>gender_Male</th>\n",
              "    </tr>\n",
              "  </thead>\n",
              "  <tbody>\n",
              "    <tr>\n",
              "      <th>0</th>\n",
              "      <td>619</td>\n",
              "      <td>42</td>\n",
              "      <td>2</td>\n",
              "      <td>0.00</td>\n",
              "      <td>1</td>\n",
              "      <td>1</td>\n",
              "      <td>1</td>\n",
              "      <td>101348.88</td>\n",
              "      <td>1</td>\n",
              "      <td>1</td>\n",
              "      <td>0</td>\n",
              "      <td>0</td>\n",
              "      <td>1</td>\n",
              "      <td>0</td>\n",
              "    </tr>\n",
              "    <tr>\n",
              "      <th>1</th>\n",
              "      <td>608</td>\n",
              "      <td>41</td>\n",
              "      <td>1</td>\n",
              "      <td>83807.86</td>\n",
              "      <td>1</td>\n",
              "      <td>0</td>\n",
              "      <td>1</td>\n",
              "      <td>112542.58</td>\n",
              "      <td>0</td>\n",
              "      <td>0</td>\n",
              "      <td>0</td>\n",
              "      <td>1</td>\n",
              "      <td>1</td>\n",
              "      <td>0</td>\n",
              "    </tr>\n",
              "    <tr>\n",
              "      <th>2</th>\n",
              "      <td>502</td>\n",
              "      <td>42</td>\n",
              "      <td>8</td>\n",
              "      <td>159660.80</td>\n",
              "      <td>3</td>\n",
              "      <td>1</td>\n",
              "      <td>0</td>\n",
              "      <td>113931.57</td>\n",
              "      <td>1</td>\n",
              "      <td>1</td>\n",
              "      <td>0</td>\n",
              "      <td>0</td>\n",
              "      <td>1</td>\n",
              "      <td>0</td>\n",
              "    </tr>\n",
              "    <tr>\n",
              "      <th>3</th>\n",
              "      <td>699</td>\n",
              "      <td>39</td>\n",
              "      <td>1</td>\n",
              "      <td>0.00</td>\n",
              "      <td>2</td>\n",
              "      <td>0</td>\n",
              "      <td>0</td>\n",
              "      <td>93826.63</td>\n",
              "      <td>0</td>\n",
              "      <td>1</td>\n",
              "      <td>0</td>\n",
              "      <td>0</td>\n",
              "      <td>1</td>\n",
              "      <td>0</td>\n",
              "    </tr>\n",
              "    <tr>\n",
              "      <th>4</th>\n",
              "      <td>850</td>\n",
              "      <td>43</td>\n",
              "      <td>2</td>\n",
              "      <td>125510.82</td>\n",
              "      <td>1</td>\n",
              "      <td>1</td>\n",
              "      <td>1</td>\n",
              "      <td>79084.10</td>\n",
              "      <td>0</td>\n",
              "      <td>0</td>\n",
              "      <td>0</td>\n",
              "      <td>1</td>\n",
              "      <td>1</td>\n",
              "      <td>0</td>\n",
              "    </tr>\n",
              "    <tr>\n",
              "      <th>...</th>\n",
              "      <td>...</td>\n",
              "      <td>...</td>\n",
              "      <td>...</td>\n",
              "      <td>...</td>\n",
              "      <td>...</td>\n",
              "      <td>...</td>\n",
              "      <td>...</td>\n",
              "      <td>...</td>\n",
              "      <td>...</td>\n",
              "      <td>...</td>\n",
              "      <td>...</td>\n",
              "      <td>...</td>\n",
              "      <td>...</td>\n",
              "      <td>...</td>\n",
              "    </tr>\n",
              "    <tr>\n",
              "      <th>9995</th>\n",
              "      <td>771</td>\n",
              "      <td>39</td>\n",
              "      <td>5</td>\n",
              "      <td>0.00</td>\n",
              "      <td>2</td>\n",
              "      <td>1</td>\n",
              "      <td>0</td>\n",
              "      <td>96270.64</td>\n",
              "      <td>0</td>\n",
              "      <td>1</td>\n",
              "      <td>0</td>\n",
              "      <td>0</td>\n",
              "      <td>0</td>\n",
              "      <td>1</td>\n",
              "    </tr>\n",
              "    <tr>\n",
              "      <th>9996</th>\n",
              "      <td>516</td>\n",
              "      <td>35</td>\n",
              "      <td>10</td>\n",
              "      <td>57369.61</td>\n",
              "      <td>1</td>\n",
              "      <td>1</td>\n",
              "      <td>1</td>\n",
              "      <td>101699.77</td>\n",
              "      <td>0</td>\n",
              "      <td>1</td>\n",
              "      <td>0</td>\n",
              "      <td>0</td>\n",
              "      <td>0</td>\n",
              "      <td>1</td>\n",
              "    </tr>\n",
              "    <tr>\n",
              "      <th>9997</th>\n",
              "      <td>709</td>\n",
              "      <td>36</td>\n",
              "      <td>7</td>\n",
              "      <td>0.00</td>\n",
              "      <td>1</td>\n",
              "      <td>0</td>\n",
              "      <td>1</td>\n",
              "      <td>42085.58</td>\n",
              "      <td>1</td>\n",
              "      <td>1</td>\n",
              "      <td>0</td>\n",
              "      <td>0</td>\n",
              "      <td>1</td>\n",
              "      <td>0</td>\n",
              "    </tr>\n",
              "    <tr>\n",
              "      <th>9998</th>\n",
              "      <td>772</td>\n",
              "      <td>42</td>\n",
              "      <td>3</td>\n",
              "      <td>75075.31</td>\n",
              "      <td>2</td>\n",
              "      <td>1</td>\n",
              "      <td>0</td>\n",
              "      <td>92888.52</td>\n",
              "      <td>1</td>\n",
              "      <td>0</td>\n",
              "      <td>1</td>\n",
              "      <td>0</td>\n",
              "      <td>0</td>\n",
              "      <td>1</td>\n",
              "    </tr>\n",
              "    <tr>\n",
              "      <th>9999</th>\n",
              "      <td>792</td>\n",
              "      <td>28</td>\n",
              "      <td>4</td>\n",
              "      <td>130142.79</td>\n",
              "      <td>1</td>\n",
              "      <td>1</td>\n",
              "      <td>0</td>\n",
              "      <td>38190.78</td>\n",
              "      <td>0</td>\n",
              "      <td>1</td>\n",
              "      <td>0</td>\n",
              "      <td>0</td>\n",
              "      <td>1</td>\n",
              "      <td>0</td>\n",
              "    </tr>\n",
              "  </tbody>\n",
              "</table>\n",
              "<p>10000 rows × 14 columns</p>\n",
              "</div>\n",
              "      <button class=\"colab-df-convert\" onclick=\"convertToInteractive('df-d119aa88-7cca-4e11-b224-0eb3024e6e3d')\"\n",
              "              title=\"Convert this dataframe to an interactive table.\"\n",
              "              style=\"display:none;\">\n",
              "        \n",
              "  <svg xmlns=\"http://www.w3.org/2000/svg\" height=\"24px\"viewBox=\"0 0 24 24\"\n",
              "       width=\"24px\">\n",
              "    <path d=\"M0 0h24v24H0V0z\" fill=\"none\"/>\n",
              "    <path d=\"M18.56 5.44l.94 2.06.94-2.06 2.06-.94-2.06-.94-.94-2.06-.94 2.06-2.06.94zm-11 1L8.5 8.5l.94-2.06 2.06-.94-2.06-.94L8.5 2.5l-.94 2.06-2.06.94zm10 10l.94 2.06.94-2.06 2.06-.94-2.06-.94-.94-2.06-.94 2.06-2.06.94z\"/><path d=\"M17.41 7.96l-1.37-1.37c-.4-.4-.92-.59-1.43-.59-.52 0-1.04.2-1.43.59L10.3 9.45l-7.72 7.72c-.78.78-.78 2.05 0 2.83L4 21.41c.39.39.9.59 1.41.59.51 0 1.02-.2 1.41-.59l7.78-7.78 2.81-2.81c.8-.78.8-2.07 0-2.86zM5.41 20L4 18.59l7.72-7.72 1.47 1.35L5.41 20z\"/>\n",
              "  </svg>\n",
              "      </button>\n",
              "      \n",
              "  <style>\n",
              "    .colab-df-container {\n",
              "      display:flex;\n",
              "      flex-wrap:wrap;\n",
              "      gap: 12px;\n",
              "    }\n",
              "\n",
              "    .colab-df-convert {\n",
              "      background-color: #E8F0FE;\n",
              "      border: none;\n",
              "      border-radius: 50%;\n",
              "      cursor: pointer;\n",
              "      display: none;\n",
              "      fill: #1967D2;\n",
              "      height: 32px;\n",
              "      padding: 0 0 0 0;\n",
              "      width: 32px;\n",
              "    }\n",
              "\n",
              "    .colab-df-convert:hover {\n",
              "      background-color: #E2EBFA;\n",
              "      box-shadow: 0px 1px 2px rgba(60, 64, 67, 0.3), 0px 1px 3px 1px rgba(60, 64, 67, 0.15);\n",
              "      fill: #174EA6;\n",
              "    }\n",
              "\n",
              "    [theme=dark] .colab-df-convert {\n",
              "      background-color: #3B4455;\n",
              "      fill: #D2E3FC;\n",
              "    }\n",
              "\n",
              "    [theme=dark] .colab-df-convert:hover {\n",
              "      background-color: #434B5C;\n",
              "      box-shadow: 0px 1px 3px 1px rgba(0, 0, 0, 0.15);\n",
              "      filter: drop-shadow(0px 1px 2px rgba(0, 0, 0, 0.3));\n",
              "      fill: #FFFFFF;\n",
              "    }\n",
              "  </style>\n",
              "\n",
              "      <script>\n",
              "        const buttonEl =\n",
              "          document.querySelector('#df-d119aa88-7cca-4e11-b224-0eb3024e6e3d button.colab-df-convert');\n",
              "        buttonEl.style.display =\n",
              "          google.colab.kernel.accessAllowed ? 'block' : 'none';\n",
              "\n",
              "        async function convertToInteractive(key) {\n",
              "          const element = document.querySelector('#df-d119aa88-7cca-4e11-b224-0eb3024e6e3d');\n",
              "          const dataTable =\n",
              "            await google.colab.kernel.invokeFunction('convertToInteractive',\n",
              "                                                     [key], {});\n",
              "          if (!dataTable) return;\n",
              "\n",
              "          const docLinkHtml = 'Like what you see? Visit the ' +\n",
              "            '<a target=\"_blank\" href=https://colab.research.google.com/notebooks/data_table.ipynb>data table notebook</a>'\n",
              "            + ' to learn more about interactive tables.';\n",
              "          element.innerHTML = '';\n",
              "          dataTable['output_type'] = 'display_data';\n",
              "          await google.colab.output.renderOutput(dataTable, element);\n",
              "          const docLink = document.createElement('div');\n",
              "          docLink.innerHTML = docLinkHtml;\n",
              "          element.appendChild(docLink);\n",
              "        }\n",
              "      </script>\n",
              "    </div>\n",
              "  </div>\n",
              "  "
            ]
          },
          "metadata": {},
          "execution_count": 12
        }
      ]
    },
    {
      "cell_type": "code",
      "source": [
        "y = pd.DataFrame(df_encoded['churn'])                   \n",
        "x = df_encoded.drop(['churn'], axis=1)   "
      ],
      "metadata": {
        "id": "B8Ai5qH6Hh30"
      },
      "execution_count": null,
      "outputs": []
    },
    {
      "cell_type": "markdown",
      "source": [
        "建立最基本的decision model(不更改任何參數)做cross validation"
      ],
      "metadata": {
        "id": "7Q7tmZmFDyiN"
      }
    },
    {
      "cell_type": "code",
      "source": [
        "x_train, x_test, y_train, y_test = train_test_split(x, y, test_size=0.3, random_state=42)\n",
        "model=DecisionTreeClassifier()\n",
        "cross_val_score(model,x_train,y_train,cv=10,scoring='accuracy').mean()"
      ],
      "metadata": {
        "id": "i3MStMCTzsSN",
        "colab": {
          "base_uri": "https://localhost:8080/"
        },
        "outputId": "04aa45c6-acae-4393-fafd-c7de37dd6b49"
      },
      "execution_count": null,
      "outputs": [
        {
          "output_type": "execute_result",
          "data": {
            "text/plain": [
              "0.7862857142857144"
            ]
          },
          "metadata": {},
          "execution_count": 14
        }
      ]
    },
    {
      "cell_type": "markdown",
      "source": [
        "將max_depth的值設為1到15建立model，將準確率計算出來並加入矩陣中"
      ],
      "metadata": {
        "id": "9n-AP6rlFUaI"
      }
    },
    {
      "cell_type": "code",
      "source": [
        "acc_array_gini=[]\n",
        "acc_array_entropy=[]\n",
        "for max_depth in range(15):\n",
        "  dtree_gini = DecisionTreeClassifier(max_depth=max_depth+1, criterion='gini', min_samples_leaf=2)\n",
        "  acc_array_gini.append(cross_val_score(dtree_gini,x_train,y_train,cv=10,scoring='accuracy').mean())\n",
        "  dtree_entropy = DecisionTreeClassifier(max_depth=max_depth+1, criterion='entropy', min_samples_leaf=2)\n",
        "  acc_array_entropy.append(cross_val_score(dtree_entropy,x_train,y_train,cv=10,scoring='accuracy').mean())\n",
        "\n",
        "acc_array_gini=pd.DataFrame(acc_array_gini,columns=['score'])\n",
        "acc_array_entropy=pd.DataFrame(acc_array_entropy,columns=['score'])"
      ],
      "metadata": {
        "id": "rMdsFUVHhQmb"
      },
      "execution_count": null,
      "outputs": []
    },
    {
      "cell_type": "markdown",
      "source": [
        "將準確率畫折線圖選擇較優的max_depth"
      ],
      "metadata": {
        "id": "zZi9uCctGDyB"
      }
    },
    {
      "cell_type": "code",
      "source": [
        "plt.figure(figsize=(10,4))\n",
        "plt.plot(acc_array_gini.index+1,acc_array_gini['score'],markersize=\"10\", marker=\".\")\n",
        "plt.grid(True)\n",
        "plt.ylim(0.78,0.88)\n",
        "plt.title(\"Gini\") # title\n",
        "plt.ylabel(\"mean_accuary\") # y label\n",
        "plt.xlabel(\"max_depth\") # x label\n",
        "for i,j in zip(acc_array_gini['score'].round(3),acc_array_gini.index+1):\n",
        "  plt.text(j-0.15,i+0.004,i,fontsize=10)"
      ],
      "metadata": {
        "colab": {
          "base_uri": "https://localhost:8080/",
          "height": 296
        },
        "id": "lJxFI4UznLyq",
        "outputId": "88eb5212-c965-4395-f25d-b4ce83cbe643"
      },
      "execution_count": null,
      "outputs": [
        {
          "output_type": "display_data",
          "data": {
            "text/plain": [
              "<Figure size 720x288 with 1 Axes>"
            ],
            "image/png": "[encoded data removed]"
          },
          "metadata": {
            "needs_background": "light"
          }
        }
      ]
    },
    {
      "cell_type": "code",
      "source": [
        "plt.figure(figsize=(10,4))\n",
        "plt.plot(acc_array_entropy.index+1,acc_array_entropy['score'],markersize=\"10\", marker=\".\")\n",
        "plt.grid(True)\n",
        "plt.ylim(0.78,0.88)\n",
        "plt.title(\"Entropy\") # title\n",
        "plt.ylabel(\"mean_accuary\") # y label\n",
        "plt.xlabel(\"max_depth\") # x label\n",
        "for i,j in zip(acc_array_entropy['score'].round(3),acc_array_entropy.index+1):\n",
        "  plt.text(j-0.15,i+0.004,i,fontsize=10)"
      ],
      "metadata": {
        "colab": {
          "base_uri": "https://localhost:8080/",
          "height": 296
        },
        "id": "nNI2nbsJOLC0",
        "outputId": "406a85ba-132f-42ae-d1e3-135c2ab15b0e"
      },
      "execution_count": null,
      "outputs": [
        {
          "output_type": "display_data",
          "data": {
            "text/plain": [
              "<Figure size 720x288 with 1 Axes>"
            ],
            "image/png": "[encoded data removed]"
          },
          "metadata": {
            "needs_background": "light"
          }
        }
      ]
    },
    {
      "cell_type": "markdown",
      "source": [
        "由上圖可以發現criterion=\"gini\"時準確率最高發生在max_depth=7，criterion=\"entropy\"時準確率最高發生在max_depth=5，但仔細看可以發現兩者從max_depth=4時準確率就相當不錯與最高準確率相差並不大，為了圖表美觀方便查看和模型效能因此兩者都選擇max_depth=4去建立模型。 "
      ],
      "metadata": {
        "id": "nRwKZnb0Gnov"
      }
    },
    {
      "cell_type": "code",
      "source": [
        "model_gini=DecisionTreeClassifier(criterion=\"gini\", max_depth=4,min_samples_leaf=2,random_state=30)\n",
        "model_gini.fit(x_train, y_train)"
      ],
      "metadata": {
        "id": "OmPCjSdGhpfx",
        "colab": {
          "base_uri": "https://localhost:8080/"
        },
        "outputId": "9d4f81c2-6d94-4284-e395-f70cdf4bb95f"
      },
      "execution_count": null,
      "outputs": [
        {
          "output_type": "execute_result",
          "data": {
            "text/plain": [
              "DecisionTreeClassifier(max_depth=4, min_samples_leaf=2, random_state=30)"
            ]
          },
          "metadata": {},
          "execution_count": 18
        }
      ]
    },
    {
      "cell_type": "markdown",
      "source": [
        " \n",
        "**The rules used to classify the data**"
      ],
      "metadata": {
        "id": "FAayOOvBW7Rk"
      }
    },
    {
      "cell_type": "code",
      "source": [
        "text_representation = export_text(model_gini,feature_names=list(x.columns))\n",
        "print(text_representation)"
      ],
      "metadata": {
        "colab": {
          "base_uri": "https://localhost:8080/"
        },
        "id": "mq7NvvrxDsog",
        "outputId": "4a0fe909-e347-4148-964c-b437b4079027"
      },
      "execution_count": null,
      "outputs": [
        {
          "output_type": "stream",
          "name": "stdout",
          "text": [
            "|--- age <= 44.50\n",
            "|   |--- products_number <= 2.50\n",
            "|   |   |--- products_number <= 1.50\n",
            "|   |   |   |--- age <= 38.50\n",
            "|   |   |   |   |--- class: 0\n",
            "|   |   |   |--- age >  38.50\n",
            "|   |   |   |   |--- class: 0\n",
            "|   |   |--- products_number >  1.50\n",
            "|   |   |   |--- balance <= 108284.74\n",
            "|   |   |   |   |--- class: 0\n",
            "|   |   |   |--- balance >  108284.74\n",
            "|   |   |   |   |--- class: 0\n",
            "|   |--- products_number >  2.50\n",
            "|   |   |--- balance <= 57003.37\n",
            "|   |   |   |--- age <= 37.50\n",
            "|   |   |   |   |--- class: 0\n",
            "|   |   |   |--- age >  37.50\n",
            "|   |   |   |   |--- class: 1\n",
            "|   |   |--- balance >  57003.37\n",
            "|   |   |   |--- estimated_salary <= 188544.70\n",
            "|   |   |   |   |--- class: 1\n",
            "|   |   |   |--- estimated_salary >  188544.70\n",
            "|   |   |   |   |--- class: 0\n",
            "|--- age >  44.50\n",
            "|   |--- active_member <= 0.50\n",
            "|   |   |--- age <= 51.50\n",
            "|   |   |   |--- products_number <= 1.50\n",
            "|   |   |   |   |--- class: 1\n",
            "|   |   |   |--- products_number >  1.50\n",
            "|   |   |   |   |--- class: 0\n",
            "|   |   |--- age >  51.50\n",
            "|   |   |   |--- age <= 73.50\n",
            "|   |   |   |   |--- class: 1\n",
            "|   |   |   |--- age >  73.50\n",
            "|   |   |   |   |--- class: 0\n",
            "|   |--- active_member >  0.50\n",
            "|   |   |--- products_number <= 2.50\n",
            "|   |   |   |--- products_number <= 1.50\n",
            "|   |   |   |   |--- class: 0\n",
            "|   |   |   |--- products_number >  1.50\n",
            "|   |   |   |   |--- class: 0\n",
            "|   |   |--- products_number >  2.50\n",
            "|   |   |   |--- age <= 62.50\n",
            "|   |   |   |   |--- class: 1\n",
            "|   |   |   |--- age >  62.50\n",
            "|   |   |   |   |--- class: 0\n",
            "\n"
          ]
        }
      ]
    },
    {
      "cell_type": "code",
      "source": [
        "import graphviz\n",
        "# DOT data\n",
        "dot_data =export_graphviz(model_gini, out_file=None, \n",
        "              feature_names=x.columns,  \n",
        "              class_names=['0', '1'],\n",
        "              filled=True)\n",
        "# Draw graph\n",
        "graph = graphviz.Source(dot_data, format=\"png\") \n",
        "graph.format = \"png\"\n",
        "graph.render(\"pic1\")\n",
        "graph"
      ],
      "metadata": {
        "colab": {
          "base_uri": "https://localhost:8080/",
          "height": 777
        },
        "id": "v87dUZTjFCWO",
        "outputId": "7682b700-e823-4bed-c94f-c67c10140dfb"
      },
      "execution_count": null,
      "outputs": [
        {
          "output_type": "execute_result",
          "data": {
            "text/plain": [
              "<graphviz.files.Source at 0x7f5f76761280>"
            ],
            "image/svg+xml": "<?xml version=\"1.0\" encoding=\"UTF-8\" standalone=\"no\"?>\n<!DOCTYPE svg PUBLIC \"-//W3C//DTD SVG 1.1//EN\"\n \"http://www.w3.org/Graphics/SVG/1.1/DTD/svg11.dtd\">\n<!-- Generated by graphviz version 2.40.1 (20161225.0304)\n -->\n<!-- Title: Tree Pages: 1 -->\n<svg width=\"2163pt\" height=\"552pt\"\n viewBox=\"0.00 0.00 2162.50 552.00\" xmlns=\"http://www.w3.org/2000/svg\" xmlns:xlink=\"http://www.w3.org/1999/xlink\">\n<g id=\"graph0\" class=\"graph\" transform=\"scale(1 1) rotate(0) translate(4 548)\">\n<title>Tree</title>\n<polygon fill=\"#ffffff\" stroke=\"transparent\" points=\"-4,4 -4,-548 2158.5,-548 2158.5,4 -4,4\"/>\n<!-- 0 -->\n<g id=\"node1\" class=\"node\">\n<title>0</title>\n<polygon fill=\"#eca26d\" stroke=\"#000000\" points=\"1181.5,-544 1032.5,-544 1032.5,-461 1181.5,-461 1181.5,-544\"/>\n<text text-anchor=\"middle\" x=\"1107\" y=\"-528.8\" font-family=\"Helvetica,sans-Serif\" font-size=\"14.00\" fill=\"#000000\">age &lt;= 44.5</text>\n<text text-anchor=\"middle\" x=\"1107\" y=\"-513.8\" font-family=\"Helvetica,sans-Serif\" font-size=\"14.00\" fill=\"#000000\">gini = 0.329</text>\n<text text-anchor=\"middle\" x=\"1107\" y=\"-498.8\" font-family=\"Helvetica,sans-Serif\" font-size=\"14.00\" fill=\"#000000\">samples = 7000</text>\n<text text-anchor=\"middle\" x=\"1107\" y=\"-483.8\" font-family=\"Helvetica,sans-Serif\" font-size=\"14.00\" fill=\"#000000\">value = [5547, 1453]</text>\n<text text-anchor=\"middle\" x=\"1107\" y=\"-468.8\" font-family=\"Helvetica,sans-Serif\" font-size=\"14.00\" fill=\"#000000\">class = 0</text>\n</g>\n<!-- 1 -->\n<g id=\"node2\" class=\"node\">\n<title>1</title>\n<polygon fill=\"#e99457\" stroke=\"#000000\" points=\"937.5,-425 762.5,-425 762.5,-342 937.5,-342 937.5,-425\"/>\n<text text-anchor=\"middle\" x=\"850\" y=\"-409.8\" font-family=\"Helvetica,sans-Serif\" font-size=\"14.00\" fill=\"#000000\">products_number &lt;= 2.5</text>\n<text text-anchor=\"middle\" x=\"850\" y=\"-394.8\" font-family=\"Helvetica,sans-Serif\" font-size=\"14.00\" fill=\"#000000\">gini = 0.23</text>\n<text text-anchor=\"middle\" x=\"850\" y=\"-379.8\" font-family=\"Helvetica,sans-Serif\" font-size=\"14.00\" fill=\"#000000\">samples = 5355</text>\n<text text-anchor=\"middle\" x=\"850\" y=\"-364.8\" font-family=\"Helvetica,sans-Serif\" font-size=\"14.00\" fill=\"#000000\">value = [4645, 710]</text>\n<text text-anchor=\"middle\" x=\"850\" y=\"-349.8\" font-family=\"Helvetica,sans-Serif\" font-size=\"14.00\" fill=\"#000000\">class = 0</text>\n</g>\n<!-- 0&#45;&gt;1 -->\n<g id=\"edge1\" class=\"edge\">\n<title>0&#45;&gt;1</title>\n<path fill=\"none\" stroke=\"#000000\" d=\"M1032.3197,-467.9204C1005.5737,-455.5361 975.0309,-441.3937 946.6909,-428.2713\"/>\n<polygon fill=\"#000000\" stroke=\"#000000\" points=\"948.1196,-425.0759 937.5746,-424.0501 945.1783,-431.428 948.1196,-425.0759\"/>\n<text text-anchor=\"middle\" x=\"946.1883\" y=\"-443.8193\" font-family=\"Helvetica,sans-Serif\" font-size=\"14.00\" fill=\"#000000\">True</text>\n</g>\n<!-- 16 -->\n<g id=\"node17\" class=\"node\">\n<title>16</title>\n<polygon fill=\"#fae9dc\" stroke=\"#000000\" points=\"1451.5,-425 1290.5,-425 1290.5,-342 1451.5,-342 1451.5,-425\"/>\n<text text-anchor=\"middle\" x=\"1371\" y=\"-409.8\" font-family=\"Helvetica,sans-Serif\" font-size=\"14.00\" fill=\"#000000\">active_member &lt;= 0.5</text>\n<text text-anchor=\"middle\" x=\"1371\" y=\"-394.8\" font-family=\"Helvetica,sans-Serif\" font-size=\"14.00\" fill=\"#000000\">gini = 0.495</text>\n<text text-anchor=\"middle\" x=\"1371\" y=\"-379.8\" font-family=\"Helvetica,sans-Serif\" font-size=\"14.00\" fill=\"#000000\">samples = 1645</text>\n<text text-anchor=\"middle\" x=\"1371\" y=\"-364.8\" font-family=\"Helvetica,sans-Serif\" font-size=\"14.00\" fill=\"#000000\">value = [902, 743]</text>\n<text text-anchor=\"middle\" x=\"1371\" y=\"-349.8\" font-family=\"Helvetica,sans-Serif\" font-size=\"14.00\" fill=\"#000000\">class = 0</text>\n</g>\n<!-- 0&#45;&gt;16 -->\n<g id=\"edge16\" class=\"edge\">\n<title>0&#45;&gt;16</title>\n<path fill=\"none\" stroke=\"#000000\" d=\"M1181.5932,-468.8765C1212.4017,-454.9894 1248.3919,-438.7665 1280.6758,-424.2143\"/>\n<polygon fill=\"#000000\" stroke=\"#000000\" points=\"1282.4411,-427.2578 1290.1194,-419.9575 1279.5645,-420.8762 1282.4411,-427.2578\"/>\n<text text-anchor=\"middle\" x=\"1281.2678\" y=\"-439.638\" font-family=\"Helvetica,sans-Serif\" font-size=\"14.00\" fill=\"#000000\">False</text>\n</g>\n<!-- 2 -->\n<g id=\"node3\" class=\"node\">\n<title>2</title>\n<polygon fill=\"#e89253\" stroke=\"#000000\" points=\"546.5,-306 371.5,-306 371.5,-223 546.5,-223 546.5,-306\"/>\n<text text-anchor=\"middle\" x=\"459\" y=\"-290.8\" font-family=\"Helvetica,sans-Serif\" font-size=\"14.00\" fill=\"#000000\">products_number &lt;= 1.5</text>\n<text text-anchor=\"middle\" x=\"459\" y=\"-275.8\" font-family=\"Helvetica,sans-Serif\" font-size=\"14.00\" fill=\"#000000\">gini = 0.205</text>\n<text text-anchor=\"middle\" x=\"459\" y=\"-260.8\" font-family=\"Helvetica,sans-Serif\" font-size=\"14.00\" fill=\"#000000\">samples = 5222</text>\n<text text-anchor=\"middle\" x=\"459\" y=\"-245.8\" font-family=\"Helvetica,sans-Serif\" font-size=\"14.00\" fill=\"#000000\">value = [4617, 605]</text>\n<text text-anchor=\"middle\" x=\"459\" y=\"-230.8\" font-family=\"Helvetica,sans-Serif\" font-size=\"14.00\" fill=\"#000000\">class = 0</text>\n</g>\n<!-- 1&#45;&gt;2 -->\n<g id=\"edge2\" class=\"edge\">\n<title>1&#45;&gt;2</title>\n<path fill=\"none\" stroke=\"#000000\" d=\"M762.252,-356.7941C701.1087,-338.1853 619.5162,-313.3527 556.3669,-294.1334\"/>\n<polygon fill=\"#000000\" stroke=\"#000000\" points=\"557.3786,-290.7829 546.7927,-291.2195 555.3404,-297.4796 557.3786,-290.7829\"/>\n</g>\n<!-- 9 -->\n<g id=\"node10\" class=\"node\">\n<title>9</title>\n<polygon fill=\"#6eb7ec\" stroke=\"#000000\" points=\"931,-306 769,-306 769,-223 931,-223 931,-306\"/>\n<text text-anchor=\"middle\" x=\"850\" y=\"-290.8\" font-family=\"Helvetica,sans-Serif\" font-size=\"14.00\" fill=\"#000000\">balance &lt;= 57003.365</text>\n<text text-anchor=\"middle\" x=\"850\" y=\"-275.8\" font-family=\"Helvetica,sans-Serif\" font-size=\"14.00\" fill=\"#000000\">gini = 0.332</text>\n<text text-anchor=\"middle\" x=\"850\" y=\"-260.8\" font-family=\"Helvetica,sans-Serif\" font-size=\"14.00\" fill=\"#000000\">samples = 133</text>\n<text text-anchor=\"middle\" x=\"850\" y=\"-245.8\" font-family=\"Helvetica,sans-Serif\" font-size=\"14.00\" fill=\"#000000\">value = [28, 105]</text>\n<text text-anchor=\"middle\" x=\"850\" y=\"-230.8\" font-family=\"Helvetica,sans-Serif\" font-size=\"14.00\" fill=\"#000000\">class = 1</text>\n</g>\n<!-- 1&#45;&gt;9 -->\n<g id=\"edge9\" class=\"edge\">\n<title>1&#45;&gt;9</title>\n<path fill=\"none\" stroke=\"#000000\" d=\"M850,-341.8796C850,-333.6838 850,-324.9891 850,-316.5013\"/>\n<polygon fill=\"#000000\" stroke=\"#000000\" points=\"853.5001,-316.298 850,-306.2981 846.5001,-316.2981 853.5001,-316.298\"/>\n</g>\n<!-- 3 -->\n<g id=\"node4\" class=\"node\">\n<title>3</title>\n<polygon fill=\"#eb9d66\" stroke=\"#000000\" points=\"294,-187 154,-187 154,-104 294,-104 294,-187\"/>\n<text text-anchor=\"middle\" x=\"224\" y=\"-171.8\" font-family=\"Helvetica,sans-Serif\" font-size=\"14.00\" fill=\"#000000\">age &lt;= 38.5</text>\n<text text-anchor=\"middle\" x=\"224\" y=\"-156.8\" font-family=\"Helvetica,sans-Serif\" font-size=\"14.00\" fill=\"#000000\">gini = 0.301</text>\n<text text-anchor=\"middle\" x=\"224\" y=\"-141.8\" font-family=\"Helvetica,sans-Serif\" font-size=\"14.00\" fill=\"#000000\">samples = 2603</text>\n<text text-anchor=\"middle\" x=\"224\" y=\"-126.8\" font-family=\"Helvetica,sans-Serif\" font-size=\"14.00\" fill=\"#000000\">value = [2123, 480]</text>\n<text text-anchor=\"middle\" x=\"224\" y=\"-111.8\" font-family=\"Helvetica,sans-Serif\" font-size=\"14.00\" fill=\"#000000\">class = 0</text>\n</g>\n<!-- 2&#45;&gt;3 -->\n<g id=\"edge3\" class=\"edge\">\n<title>2&#45;&gt;3</title>\n<path fill=\"none\" stroke=\"#000000\" d=\"M376.8084,-222.8796C352.8661,-210.7556 326.7676,-197.5398 303.0251,-185.517\"/>\n<polygon fill=\"#000000\" stroke=\"#000000\" points=\"304.5529,-182.3675 294.0503,-180.9723 301.3905,-188.6124 304.5529,-182.3675\"/>\n</g>\n<!-- 6 -->\n<g id=\"node7\" class=\"node\">\n<title>6</title>\n<polygon fill=\"#e68743\" stroke=\"#000000\" points=\"544,-187 374,-187 374,-104 544,-104 544,-187\"/>\n<text text-anchor=\"middle\" x=\"459\" y=\"-171.8\" font-family=\"Helvetica,sans-Serif\" font-size=\"14.00\" fill=\"#000000\">balance &lt;= 108284.738</text>\n<text text-anchor=\"middle\" x=\"459\" y=\"-156.8\" font-family=\"Helvetica,sans-Serif\" font-size=\"14.00\" fill=\"#000000\">gini = 0.091</text>\n<text text-anchor=\"middle\" x=\"459\" y=\"-141.8\" font-family=\"Helvetica,sans-Serif\" font-size=\"14.00\" fill=\"#000000\">samples = 2619</text>\n<text text-anchor=\"middle\" x=\"459\" y=\"-126.8\" font-family=\"Helvetica,sans-Serif\" font-size=\"14.00\" fill=\"#000000\">value = [2494, 125]</text>\n<text text-anchor=\"middle\" x=\"459\" y=\"-111.8\" font-family=\"Helvetica,sans-Serif\" font-size=\"14.00\" fill=\"#000000\">class = 0</text>\n</g>\n<!-- 2&#45;&gt;6 -->\n<g id=\"edge6\" class=\"edge\">\n<title>2&#45;&gt;6</title>\n<path fill=\"none\" stroke=\"#000000\" d=\"M459,-222.8796C459,-214.6838 459,-205.9891 459,-197.5013\"/>\n<polygon fill=\"#000000\" stroke=\"#000000\" points=\"462.5001,-197.298 459,-187.2981 455.5001,-197.2981 462.5001,-197.298\"/>\n</g>\n<!-- 4 -->\n<g id=\"node5\" class=\"node\">\n<title>4</title>\n<polygon fill=\"#e99458\" stroke=\"#000000\" points=\"140,-68 0,-68 0,0 140,0 140,-68\"/>\n<text text-anchor=\"middle\" x=\"70\" y=\"-52.8\" font-family=\"Helvetica,sans-Serif\" font-size=\"14.00\" fill=\"#000000\">gini = 0.232</text>\n<text text-anchor=\"middle\" x=\"70\" y=\"-37.8\" font-family=\"Helvetica,sans-Serif\" font-size=\"14.00\" fill=\"#000000\">samples = 1869</text>\n<text text-anchor=\"middle\" x=\"70\" y=\"-22.8\" font-family=\"Helvetica,sans-Serif\" font-size=\"14.00\" fill=\"#000000\">value = [1619, 250]</text>\n<text text-anchor=\"middle\" x=\"70\" y=\"-7.8\" font-family=\"Helvetica,sans-Serif\" font-size=\"14.00\" fill=\"#000000\">class = 0</text>\n</g>\n<!-- 3&#45;&gt;4 -->\n<g id=\"edge4\" class=\"edge\">\n<title>3&#45;&gt;4</title>\n<path fill=\"none\" stroke=\"#000000\" d=\"M166.6561,-103.9815C153.2006,-94.2394 138.8869,-83.8759 125.5133,-74.193\"/>\n<polygon fill=\"#000000\" stroke=\"#000000\" points=\"127.4763,-71.2933 117.3238,-68.2637 123.3711,-76.9632 127.4763,-71.2933\"/>\n</g>\n<!-- 5 -->\n<g id=\"node6\" class=\"node\">\n<title>5</title>\n<polygon fill=\"#f1ba93\" stroke=\"#000000\" points=\"290,-68 158,-68 158,0 290,0 290,-68\"/>\n<text text-anchor=\"middle\" x=\"224\" y=\"-52.8\" font-family=\"Helvetica,sans-Serif\" font-size=\"14.00\" fill=\"#000000\">gini = 0.43</text>\n<text text-anchor=\"middle\" x=\"224\" y=\"-37.8\" font-family=\"Helvetica,sans-Serif\" font-size=\"14.00\" fill=\"#000000\">samples = 734</text>\n<text text-anchor=\"middle\" x=\"224\" y=\"-22.8\" font-family=\"Helvetica,sans-Serif\" font-size=\"14.00\" fill=\"#000000\">value = [504, 230]</text>\n<text text-anchor=\"middle\" x=\"224\" y=\"-7.8\" font-family=\"Helvetica,sans-Serif\" font-size=\"14.00\" fill=\"#000000\">class = 0</text>\n</g>\n<!-- 3&#45;&gt;5 -->\n<g id=\"edge5\" class=\"edge\">\n<title>3&#45;&gt;5</title>\n<path fill=\"none\" stroke=\"#000000\" d=\"M224,-103.9815C224,-95.618 224,-86.7965 224,-78.3409\"/>\n<polygon fill=\"#000000\" stroke=\"#000000\" points=\"227.5001,-78.2636 224,-68.2637 220.5001,-78.2637 227.5001,-78.2636\"/>\n</g>\n<!-- 7 -->\n<g id=\"node8\" class=\"node\">\n<title>7</title>\n<polygon fill=\"#e6853f\" stroke=\"#000000\" points=\"440,-68 308,-68 308,0 440,0 440,-68\"/>\n<text text-anchor=\"middle\" x=\"374\" y=\"-52.8\" font-family=\"Helvetica,sans-Serif\" font-size=\"14.00\" fill=\"#000000\">gini = 0.056</text>\n<text text-anchor=\"middle\" x=\"374\" y=\"-37.8\" font-family=\"Helvetica,sans-Serif\" font-size=\"14.00\" fill=\"#000000\">samples = 1922</text>\n<text text-anchor=\"middle\" x=\"374\" y=\"-22.8\" font-family=\"Helvetica,sans-Serif\" font-size=\"14.00\" fill=\"#000000\">value = [1867, 55]</text>\n<text text-anchor=\"middle\" x=\"374\" y=\"-7.8\" font-family=\"Helvetica,sans-Serif\" font-size=\"14.00\" fill=\"#000000\">class = 0</text>\n</g>\n<!-- 6&#45;&gt;7 -->\n<g id=\"edge7\" class=\"edge\">\n<title>6&#45;&gt;7</title>\n<path fill=\"none\" stroke=\"#000000\" d=\"M427.3491,-103.9815C420.4829,-94.9747 413.2118,-85.4367 406.3202,-76.3965\"/>\n<polygon fill=\"#000000\" stroke=\"#000000\" points=\"408.9664,-74.0945 400.1203,-68.2637 403.3995,-78.3383 408.9664,-74.0945\"/>\n</g>\n<!-- 8 -->\n<g id=\"node9\" class=\"node\">\n<title>8</title>\n<polygon fill=\"#e88f4f\" stroke=\"#000000\" points=\"582,-68 458,-68 458,0 582,0 582,-68\"/>\n<text text-anchor=\"middle\" x=\"520\" y=\"-52.8\" font-family=\"Helvetica,sans-Serif\" font-size=\"14.00\" fill=\"#000000\">gini = 0.181</text>\n<text text-anchor=\"middle\" x=\"520\" y=\"-37.8\" font-family=\"Helvetica,sans-Serif\" font-size=\"14.00\" fill=\"#000000\">samples = 697</text>\n<text text-anchor=\"middle\" x=\"520\" y=\"-22.8\" font-family=\"Helvetica,sans-Serif\" font-size=\"14.00\" fill=\"#000000\">value = [627, 70]</text>\n<text text-anchor=\"middle\" x=\"520\" y=\"-7.8\" font-family=\"Helvetica,sans-Serif\" font-size=\"14.00\" fill=\"#000000\">class = 0</text>\n</g>\n<!-- 6&#45;&gt;8 -->\n<g id=\"edge8\" class=\"edge\">\n<title>6&#45;&gt;8</title>\n<path fill=\"none\" stroke=\"#000000\" d=\"M481.7141,-103.9815C486.4908,-95.2504 491.5405,-86.0202 496.3506,-77.2281\"/>\n<polygon fill=\"#000000\" stroke=\"#000000\" points=\"499.5258,-78.7165 501.2549,-68.2637 493.3847,-75.3568 499.5258,-78.7165\"/>\n</g>\n<!-- 10 -->\n<g id=\"node11\" class=\"node\">\n<title>10</title>\n<polygon fill=\"#cae5f8\" stroke=\"#000000\" points=\"813,-187 697,-187 697,-104 813,-104 813,-187\"/>\n<text text-anchor=\"middle\" x=\"755\" y=\"-171.8\" font-family=\"Helvetica,sans-Serif\" font-size=\"14.00\" fill=\"#000000\">age &lt;= 37.5</text>\n<text text-anchor=\"middle\" x=\"755\" y=\"-156.8\" font-family=\"Helvetica,sans-Serif\" font-size=\"14.00\" fill=\"#000000\">gini = 0.488</text>\n<text text-anchor=\"middle\" x=\"755\" y=\"-141.8\" font-family=\"Helvetica,sans-Serif\" font-size=\"14.00\" fill=\"#000000\">samples = 52</text>\n<text text-anchor=\"middle\" x=\"755\" y=\"-126.8\" font-family=\"Helvetica,sans-Serif\" font-size=\"14.00\" fill=\"#000000\">value = [22, 30]</text>\n<text text-anchor=\"middle\" x=\"755\" y=\"-111.8\" font-family=\"Helvetica,sans-Serif\" font-size=\"14.00\" fill=\"#000000\">class = 1</text>\n</g>\n<!-- 9&#45;&gt;10 -->\n<g id=\"edge10\" class=\"edge\">\n<title>9&#45;&gt;10</title>\n<path fill=\"none\" stroke=\"#000000\" d=\"M816.7736,-222.8796C809.6556,-213.9633 802.0661,-204.4565 794.7308,-195.268\"/>\n<polygon fill=\"#000000\" stroke=\"#000000\" points=\"797.3425,-192.9295 788.3682,-187.2981 791.8719,-197.2968 797.3425,-192.9295\"/>\n</g>\n<!-- 13 -->\n<g id=\"node14\" class=\"node\">\n<title>13</title>\n<polygon fill=\"#49a5e7\" stroke=\"#000000\" points=\"1060.5,-187 831.5,-187 831.5,-104 1060.5,-104 1060.5,-187\"/>\n<text text-anchor=\"middle\" x=\"946\" y=\"-171.8\" font-family=\"Helvetica,sans-Serif\" font-size=\"14.00\" fill=\"#000000\">estimated_salary &lt;= 188544.703</text>\n<text text-anchor=\"middle\" x=\"946\" y=\"-156.8\" font-family=\"Helvetica,sans-Serif\" font-size=\"14.00\" fill=\"#000000\">gini = 0.137</text>\n<text text-anchor=\"middle\" x=\"946\" y=\"-141.8\" font-family=\"Helvetica,sans-Serif\" font-size=\"14.00\" fill=\"#000000\">samples = 81</text>\n<text text-anchor=\"middle\" x=\"946\" y=\"-126.8\" font-family=\"Helvetica,sans-Serif\" font-size=\"14.00\" fill=\"#000000\">value = [6, 75]</text>\n<text text-anchor=\"middle\" x=\"946\" y=\"-111.8\" font-family=\"Helvetica,sans-Serif\" font-size=\"14.00\" fill=\"#000000\">class = 1</text>\n</g>\n<!-- 9&#45;&gt;13 -->\n<g id=\"edge13\" class=\"edge\">\n<title>9&#45;&gt;13</title>\n<path fill=\"none\" stroke=\"#000000\" d=\"M883.5761,-222.8796C890.7691,-213.9633 898.4384,-204.4565 905.851,-195.268\"/>\n<polygon fill=\"#000000\" stroke=\"#000000\" points=\"908.7258,-197.2788 912.2805,-187.2981 903.2776,-192.8836 908.7258,-197.2788\"/>\n</g>\n<!-- 11 -->\n<g id=\"node12\" class=\"node\">\n<title>11</title>\n<polygon fill=\"#f7dac5\" stroke=\"#000000\" points=\"716,-68 600,-68 600,0 716,0 716,-68\"/>\n<text text-anchor=\"middle\" x=\"658\" y=\"-52.8\" font-family=\"Helvetica,sans-Serif\" font-size=\"14.00\" fill=\"#000000\">gini = 0.485</text>\n<text text-anchor=\"middle\" x=\"658\" y=\"-37.8\" font-family=\"Helvetica,sans-Serif\" font-size=\"14.00\" fill=\"#000000\">samples = 29</text>\n<text text-anchor=\"middle\" x=\"658\" y=\"-22.8\" font-family=\"Helvetica,sans-Serif\" font-size=\"14.00\" fill=\"#000000\">value = [17, 12]</text>\n<text text-anchor=\"middle\" x=\"658\" y=\"-7.8\" font-family=\"Helvetica,sans-Serif\" font-size=\"14.00\" fill=\"#000000\">class = 0</text>\n</g>\n<!-- 10&#45;&gt;11 -->\n<g id=\"edge11\" class=\"edge\">\n<title>10&#45;&gt;11</title>\n<path fill=\"none\" stroke=\"#000000\" d=\"M718.8808,-103.9815C710.8853,-94.7908 702.4087,-85.0472 694.4021,-75.8436\"/>\n<polygon fill=\"#000000\" stroke=\"#000000\" points=\"697.012,-73.5111 687.8079,-68.2637 691.7307,-78.1055 697.012,-73.5111\"/>\n</g>\n<!-- 12 -->\n<g id=\"node13\" class=\"node\">\n<title>12</title>\n<polygon fill=\"#70b8ec\" stroke=\"#000000\" points=\"841.5,-68 734.5,-68 734.5,0 841.5,0 841.5,-68\"/>\n<text text-anchor=\"middle\" x=\"788\" y=\"-52.8\" font-family=\"Helvetica,sans-Serif\" font-size=\"14.00\" fill=\"#000000\">gini = 0.34</text>\n<text text-anchor=\"middle\" x=\"788\" y=\"-37.8\" font-family=\"Helvetica,sans-Serif\" font-size=\"14.00\" fill=\"#000000\">samples = 23</text>\n<text text-anchor=\"middle\" x=\"788\" y=\"-22.8\" font-family=\"Helvetica,sans-Serif\" font-size=\"14.00\" fill=\"#000000\">value = [5, 18]</text>\n<text text-anchor=\"middle\" x=\"788\" y=\"-7.8\" font-family=\"Helvetica,sans-Serif\" font-size=\"14.00\" fill=\"#000000\">class = 1</text>\n</g>\n<!-- 10&#45;&gt;12 -->\n<g id=\"edge12\" class=\"edge\">\n<title>10&#45;&gt;12</title>\n<path fill=\"none\" stroke=\"#000000\" d=\"M767.288,-103.9815C769.7905,-95.5261 772.4315,-86.6026 774.9591,-78.0623\"/>\n<polygon fill=\"#000000\" stroke=\"#000000\" points=\"778.3773,-78.8458 777.8592,-68.2637 771.6651,-76.8592 778.3773,-78.8458\"/>\n</g>\n<!-- 14 -->\n<g id=\"node15\" class=\"node\">\n<title>14</title>\n<polygon fill=\"#41a1e6\" stroke=\"#000000\" points=\"966.5,-68 859.5,-68 859.5,0 966.5,0 966.5,-68\"/>\n<text text-anchor=\"middle\" x=\"913\" y=\"-52.8\" font-family=\"Helvetica,sans-Serif\" font-size=\"14.00\" fill=\"#000000\">gini = 0.075</text>\n<text text-anchor=\"middle\" x=\"913\" y=\"-37.8\" font-family=\"Helvetica,sans-Serif\" font-size=\"14.00\" fill=\"#000000\">samples = 77</text>\n<text text-anchor=\"middle\" x=\"913\" y=\"-22.8\" font-family=\"Helvetica,sans-Serif\" font-size=\"14.00\" fill=\"#000000\">value = [3, 74]</text>\n<text text-anchor=\"middle\" x=\"913\" y=\"-7.8\" font-family=\"Helvetica,sans-Serif\" font-size=\"14.00\" fill=\"#000000\">class = 1</text>\n</g>\n<!-- 13&#45;&gt;14 -->\n<g id=\"edge14\" class=\"edge\">\n<title>13&#45;&gt;14</title>\n<path fill=\"none\" stroke=\"#000000\" d=\"M933.712,-103.9815C931.2095,-95.5261 928.5685,-86.6026 926.0409,-78.0623\"/>\n<polygon fill=\"#000000\" stroke=\"#000000\" points=\"929.3349,-76.8592 923.1408,-68.2637 922.6227,-78.8458 929.3349,-76.8592\"/>\n</g>\n<!-- 15 -->\n<g id=\"node16\" class=\"node\">\n<title>15</title>\n<polygon fill=\"#eeab7b\" stroke=\"#000000\" points=\"1083.5,-68 984.5,-68 984.5,0 1083.5,0 1083.5,-68\"/>\n<text text-anchor=\"middle\" x=\"1034\" y=\"-52.8\" font-family=\"Helvetica,sans-Serif\" font-size=\"14.00\" fill=\"#000000\">gini = 0.375</text>\n<text text-anchor=\"middle\" x=\"1034\" y=\"-37.8\" font-family=\"Helvetica,sans-Serif\" font-size=\"14.00\" fill=\"#000000\">samples = 4</text>\n<text text-anchor=\"middle\" x=\"1034\" y=\"-22.8\" font-family=\"Helvetica,sans-Serif\" font-size=\"14.00\" fill=\"#000000\">value = [3, 1]</text>\n<text text-anchor=\"middle\" x=\"1034\" y=\"-7.8\" font-family=\"Helvetica,sans-Serif\" font-size=\"14.00\" fill=\"#000000\">class = 0</text>\n</g>\n<!-- 13&#45;&gt;15 -->\n<g id=\"edge15\" class=\"edge\">\n<title>13&#45;&gt;15</title>\n<path fill=\"none\" stroke=\"#000000\" d=\"M978.768,-103.9815C985.949,-94.8828 993.5579,-85.242 1000.7574,-76.1199\"/>\n<polygon fill=\"#000000\" stroke=\"#000000\" points=\"1003.5099,-78.2818 1006.9578,-68.2637 998.0151,-73.9451 1003.5099,-78.2818\"/>\n</g>\n<!-- 17 -->\n<g id=\"node18\" class=\"node\">\n<title>17</title>\n<polygon fill=\"#99cdf2\" stroke=\"#000000\" points=\"1437,-306 1305,-306 1305,-223 1437,-223 1437,-306\"/>\n<text text-anchor=\"middle\" x=\"1371\" y=\"-290.8\" font-family=\"Helvetica,sans-Serif\" font-size=\"14.00\" fill=\"#000000\">age &lt;= 51.5</text>\n<text text-anchor=\"middle\" x=\"1371\" y=\"-275.8\" font-family=\"Helvetica,sans-Serif\" font-size=\"14.00\" fill=\"#000000\">gini = 0.44</text>\n<text text-anchor=\"middle\" x=\"1371\" y=\"-260.8\" font-family=\"Helvetica,sans-Serif\" font-size=\"14.00\" fill=\"#000000\">samples = 713</text>\n<text text-anchor=\"middle\" x=\"1371\" y=\"-245.8\" font-family=\"Helvetica,sans-Serif\" font-size=\"14.00\" fill=\"#000000\">value = [233, 480]</text>\n<text text-anchor=\"middle\" x=\"1371\" y=\"-230.8\" font-family=\"Helvetica,sans-Serif\" font-size=\"14.00\" fill=\"#000000\">class = 1</text>\n</g>\n<!-- 16&#45;&gt;17 -->\n<g id=\"edge17\" class=\"edge\">\n<title>16&#45;&gt;17</title>\n<path fill=\"none\" stroke=\"#000000\" d=\"M1371,-341.8796C1371,-333.6838 1371,-324.9891 1371,-316.5013\"/>\n<polygon fill=\"#000000\" stroke=\"#000000\" points=\"1374.5001,-316.298 1371,-306.2981 1367.5001,-316.2981 1374.5001,-316.298\"/>\n</g>\n<!-- 24 -->\n<g id=\"node25\" class=\"node\">\n<title>24</title>\n<polygon fill=\"#efb387\" stroke=\"#000000\" points=\"1851.5,-306 1676.5,-306 1676.5,-223 1851.5,-223 1851.5,-306\"/>\n<text text-anchor=\"middle\" x=\"1764\" y=\"-290.8\" font-family=\"Helvetica,sans-Serif\" font-size=\"14.00\" fill=\"#000000\">products_number &lt;= 2.5</text>\n<text text-anchor=\"middle\" x=\"1764\" y=\"-275.8\" font-family=\"Helvetica,sans-Serif\" font-size=\"14.00\" fill=\"#000000\">gini = 0.405</text>\n<text text-anchor=\"middle\" x=\"1764\" y=\"-260.8\" font-family=\"Helvetica,sans-Serif\" font-size=\"14.00\" fill=\"#000000\">samples = 932</text>\n<text text-anchor=\"middle\" x=\"1764\" y=\"-245.8\" font-family=\"Helvetica,sans-Serif\" font-size=\"14.00\" fill=\"#000000\">value = [669, 263]</text>\n<text text-anchor=\"middle\" x=\"1764\" y=\"-230.8\" font-family=\"Helvetica,sans-Serif\" font-size=\"14.00\" fill=\"#000000\">class = 0</text>\n</g>\n<!-- 16&#45;&gt;24 -->\n<g id=\"edge24\" class=\"edge\">\n<title>16&#45;&gt;24</title>\n<path fill=\"none\" stroke=\"#000000\" d=\"M1451.9533,-358.9874C1514.2755,-340.1163 1600.6482,-313.9627 1666.7253,-293.9547\"/>\n<polygon fill=\"#000000\" stroke=\"#000000\" points=\"1667.7653,-297.2968 1676.3219,-291.0488 1665.7367,-290.5972 1667.7653,-297.2968\"/>\n</g>\n<!-- 18 -->\n<g id=\"node19\" class=\"node\">\n<title>18</title>\n<polygon fill=\"#d8ecfa\" stroke=\"#000000\" points=\"1374.5,-187 1199.5,-187 1199.5,-104 1374.5,-104 1374.5,-187\"/>\n<text text-anchor=\"middle\" x=\"1287\" y=\"-171.8\" font-family=\"Helvetica,sans-Serif\" font-size=\"14.00\" fill=\"#000000\">products_number &lt;= 1.5</text>\n<text text-anchor=\"middle\" x=\"1287\" y=\"-156.8\" font-family=\"Helvetica,sans-Serif\" font-size=\"14.00\" fill=\"#000000\">gini = 0.494</text>\n<text text-anchor=\"middle\" x=\"1287\" y=\"-141.8\" font-family=\"Helvetica,sans-Serif\" font-size=\"14.00\" fill=\"#000000\">samples = 442</text>\n<text text-anchor=\"middle\" x=\"1287\" y=\"-126.8\" font-family=\"Helvetica,sans-Serif\" font-size=\"14.00\" fill=\"#000000\">value = [197, 245]</text>\n<text text-anchor=\"middle\" x=\"1287\" y=\"-111.8\" font-family=\"Helvetica,sans-Serif\" font-size=\"14.00\" fill=\"#000000\">class = 1</text>\n</g>\n<!-- 17&#45;&gt;18 -->\n<g id=\"edge18\" class=\"edge\">\n<title>17&#45;&gt;18</title>\n<path fill=\"none\" stroke=\"#000000\" d=\"M1341.6209,-222.8796C1335.3906,-214.0534 1328.7519,-204.6485 1322.327,-195.5466\"/>\n<polygon fill=\"#000000\" stroke=\"#000000\" points=\"1325.1308,-193.4494 1316.5045,-187.2981 1319.412,-197.4862 1325.1308,-193.4494\"/>\n</g>\n<!-- 21 -->\n<g id=\"node22\" class=\"node\">\n<title>21</title>\n<polygon fill=\"#57ace9\" stroke=\"#000000\" points=\"1517,-187 1393,-187 1393,-104 1517,-104 1517,-187\"/>\n<text text-anchor=\"middle\" x=\"1455\" y=\"-171.8\" font-family=\"Helvetica,sans-Serif\" font-size=\"14.00\" fill=\"#000000\">age &lt;= 73.5</text>\n<text text-anchor=\"middle\" x=\"1455\" y=\"-156.8\" font-family=\"Helvetica,sans-Serif\" font-size=\"14.00\" fill=\"#000000\">gini = 0.23</text>\n<text text-anchor=\"middle\" x=\"1455\" y=\"-141.8\" font-family=\"Helvetica,sans-Serif\" font-size=\"14.00\" fill=\"#000000\">samples = 271</text>\n<text text-anchor=\"middle\" x=\"1455\" y=\"-126.8\" font-family=\"Helvetica,sans-Serif\" font-size=\"14.00\" fill=\"#000000\">value = [36, 235]</text>\n<text text-anchor=\"middle\" x=\"1455\" y=\"-111.8\" font-family=\"Helvetica,sans-Serif\" font-size=\"14.00\" fill=\"#000000\">class = 1</text>\n</g>\n<!-- 17&#45;&gt;21 -->\n<g id=\"edge21\" class=\"edge\">\n<title>17&#45;&gt;21</title>\n<path fill=\"none\" stroke=\"#000000\" d=\"M1400.3791,-222.8796C1406.6094,-214.0534 1413.2481,-204.6485 1419.673,-195.5466\"/>\n<polygon fill=\"#000000\" stroke=\"#000000\" points=\"1422.588,-197.4862 1425.4955,-187.2981 1416.8692,-193.4494 1422.588,-197.4862\"/>\n</g>\n<!-- 19 -->\n<g id=\"node20\" class=\"node\">\n<title>19</title>\n<polygon fill=\"#a2d1f3\" stroke=\"#000000\" points=\"1226,-68 1102,-68 1102,0 1226,0 1226,-68\"/>\n<text text-anchor=\"middle\" x=\"1164\" y=\"-52.8\" font-family=\"Helvetica,sans-Serif\" font-size=\"14.00\" fill=\"#000000\">gini = 0.453</text>\n<text text-anchor=\"middle\" x=\"1164\" y=\"-37.8\" font-family=\"Helvetica,sans-Serif\" font-size=\"14.00\" fill=\"#000000\">samples = 283</text>\n<text text-anchor=\"middle\" x=\"1164\" y=\"-22.8\" font-family=\"Helvetica,sans-Serif\" font-size=\"14.00\" fill=\"#000000\">value = [98, 185]</text>\n<text text-anchor=\"middle\" x=\"1164\" y=\"-7.8\" font-family=\"Helvetica,sans-Serif\" font-size=\"14.00\" fill=\"#000000\">class = 1</text>\n</g>\n<!-- 18&#45;&gt;19 -->\n<g id=\"edge19\" class=\"edge\">\n<title>18&#45;&gt;19</title>\n<path fill=\"none\" stroke=\"#000000\" d=\"M1241.1993,-103.9815C1230.7566,-94.5151 1219.6667,-84.462 1209.2472,-75.0168\"/>\n<polygon fill=\"#000000\" stroke=\"#000000\" points=\"1211.5572,-72.3868 1201.7976,-68.2637 1206.8559,-77.5731 1211.5572,-72.3868\"/>\n</g>\n<!-- 20 -->\n<g id=\"node21\" class=\"node\">\n<title>20</title>\n<polygon fill=\"#f5cdb1\" stroke=\"#000000\" points=\"1360,-68 1244,-68 1244,0 1360,0 1360,-68\"/>\n<text text-anchor=\"middle\" x=\"1302\" y=\"-52.8\" font-family=\"Helvetica,sans-Serif\" font-size=\"14.00\" fill=\"#000000\">gini = 0.47</text>\n<text text-anchor=\"middle\" x=\"1302\" y=\"-37.8\" font-family=\"Helvetica,sans-Serif\" font-size=\"14.00\" fill=\"#000000\">samples = 159</text>\n<text text-anchor=\"middle\" x=\"1302\" y=\"-22.8\" font-family=\"Helvetica,sans-Serif\" font-size=\"14.00\" fill=\"#000000\">value = [99, 60]</text>\n<text text-anchor=\"middle\" x=\"1302\" y=\"-7.8\" font-family=\"Helvetica,sans-Serif\" font-size=\"14.00\" fill=\"#000000\">class = 0</text>\n</g>\n<!-- 18&#45;&gt;20 -->\n<g id=\"edge20\" class=\"edge\">\n<title>18&#45;&gt;20</title>\n<path fill=\"none\" stroke=\"#000000\" d=\"M1292.5854,-103.9815C1293.7106,-95.618 1294.8973,-86.7965 1296.0349,-78.3409\"/>\n<polygon fill=\"#000000\" stroke=\"#000000\" points=\"1299.5259,-78.6411 1297.3905,-68.2637 1292.5884,-77.7077 1299.5259,-78.6411\"/>\n</g>\n<!-- 22 -->\n<g id=\"node23\" class=\"node\">\n<title>22</title>\n<polygon fill=\"#54aae9\" stroke=\"#000000\" points=\"1502,-68 1378,-68 1378,0 1502,0 1502,-68\"/>\n<text text-anchor=\"middle\" x=\"1440\" y=\"-52.8\" font-family=\"Helvetica,sans-Serif\" font-size=\"14.00\" fill=\"#000000\">gini = 0.212</text>\n<text text-anchor=\"middle\" x=\"1440\" y=\"-37.8\" font-family=\"Helvetica,sans-Serif\" font-size=\"14.00\" fill=\"#000000\">samples = 266</text>\n<text text-anchor=\"middle\" x=\"1440\" y=\"-22.8\" font-family=\"Helvetica,sans-Serif\" font-size=\"14.00\" fill=\"#000000\">value = [32, 234]</text>\n<text text-anchor=\"middle\" x=\"1440\" y=\"-7.8\" font-family=\"Helvetica,sans-Serif\" font-size=\"14.00\" fill=\"#000000\">class = 1</text>\n</g>\n<!-- 21&#45;&gt;22 -->\n<g id=\"edge22\" class=\"edge\">\n<title>21&#45;&gt;22</title>\n<path fill=\"none\" stroke=\"#000000\" d=\"M1449.4146,-103.9815C1448.2894,-95.618 1447.1027,-86.7965 1445.9651,-78.3409\"/>\n<polygon fill=\"#000000\" stroke=\"#000000\" points=\"1449.4116,-77.7077 1444.6095,-68.2637 1442.4741,-78.6411 1449.4116,-77.7077\"/>\n</g>\n<!-- 23 -->\n<g id=\"node24\" class=\"node\">\n<title>23</title>\n<polygon fill=\"#eca06a\" stroke=\"#000000\" points=\"1619.5,-68 1520.5,-68 1520.5,0 1619.5,0 1619.5,-68\"/>\n<text text-anchor=\"middle\" x=\"1570\" y=\"-52.8\" font-family=\"Helvetica,sans-Serif\" font-size=\"14.00\" fill=\"#000000\">gini = 0.32</text>\n<text text-anchor=\"middle\" x=\"1570\" y=\"-37.8\" font-family=\"Helvetica,sans-Serif\" font-size=\"14.00\" fill=\"#000000\">samples = 5</text>\n<text text-anchor=\"middle\" x=\"1570\" y=\"-22.8\" font-family=\"Helvetica,sans-Serif\" font-size=\"14.00\" fill=\"#000000\">value = [4, 1]</text>\n<text text-anchor=\"middle\" x=\"1570\" y=\"-7.8\" font-family=\"Helvetica,sans-Serif\" font-size=\"14.00\" fill=\"#000000\">class = 0</text>\n</g>\n<!-- 21&#45;&gt;23 -->\n<g id=\"edge23\" class=\"edge\">\n<title>21&#45;&gt;23</title>\n<path fill=\"none\" stroke=\"#000000\" d=\"M1497.8218,-103.9815C1507.4905,-94.607 1517.7527,-84.6572 1527.4118,-75.2921\"/>\n<polygon fill=\"#000000\" stroke=\"#000000\" points=\"1529.9176,-77.7375 1534.6608,-68.2637 1525.0449,-72.7118 1529.9176,-77.7375\"/>\n</g>\n<!-- 25 -->\n<g id=\"node26\" class=\"node\">\n<title>25</title>\n<polygon fill=\"#eeab7b\" stroke=\"#000000\" points=\"1851.5,-187 1676.5,-187 1676.5,-104 1851.5,-104 1851.5,-187\"/>\n<text text-anchor=\"middle\" x=\"1764\" y=\"-171.8\" font-family=\"Helvetica,sans-Serif\" font-size=\"14.00\" fill=\"#000000\">products_number &lt;= 1.5</text>\n<text text-anchor=\"middle\" x=\"1764\" y=\"-156.8\" font-family=\"Helvetica,sans-Serif\" font-size=\"14.00\" fill=\"#000000\">gini = 0.374</text>\n<text text-anchor=\"middle\" x=\"1764\" y=\"-141.8\" font-family=\"Helvetica,sans-Serif\" font-size=\"14.00\" fill=\"#000000\">samples = 889</text>\n<text text-anchor=\"middle\" x=\"1764\" y=\"-126.8\" font-family=\"Helvetica,sans-Serif\" font-size=\"14.00\" fill=\"#000000\">value = [668, 221]</text>\n<text text-anchor=\"middle\" x=\"1764\" y=\"-111.8\" font-family=\"Helvetica,sans-Serif\" font-size=\"14.00\" fill=\"#000000\">class = 0</text>\n</g>\n<!-- 24&#45;&gt;25 -->\n<g id=\"edge25\" class=\"edge\">\n<title>24&#45;&gt;25</title>\n<path fill=\"none\" stroke=\"#000000\" d=\"M1764,-222.8796C1764,-214.6838 1764,-205.9891 1764,-197.5013\"/>\n<polygon fill=\"#000000\" stroke=\"#000000\" points=\"1767.5001,-197.298 1764,-187.2981 1760.5001,-197.2981 1767.5001,-197.298\"/>\n</g>\n<!-- 28 -->\n<g id=\"node29\" class=\"node\">\n<title>28</title>\n<polygon fill=\"#3e9fe6\" stroke=\"#000000\" points=\"2037.5,-187 1930.5,-187 1930.5,-104 2037.5,-104 2037.5,-187\"/>\n<text text-anchor=\"middle\" x=\"1984\" y=\"-171.8\" font-family=\"Helvetica,sans-Serif\" font-size=\"14.00\" fill=\"#000000\">age &lt;= 62.5</text>\n<text text-anchor=\"middle\" x=\"1984\" y=\"-156.8\" font-family=\"Helvetica,sans-Serif\" font-size=\"14.00\" fill=\"#000000\">gini = 0.045</text>\n<text text-anchor=\"middle\" x=\"1984\" y=\"-141.8\" font-family=\"Helvetica,sans-Serif\" font-size=\"14.00\" fill=\"#000000\">samples = 43</text>\n<text text-anchor=\"middle\" x=\"1984\" y=\"-126.8\" font-family=\"Helvetica,sans-Serif\" font-size=\"14.00\" fill=\"#000000\">value = [1, 42]</text>\n<text text-anchor=\"middle\" x=\"1984\" y=\"-111.8\" font-family=\"Helvetica,sans-Serif\" font-size=\"14.00\" fill=\"#000000\">class = 1</text>\n</g>\n<!-- 24&#45;&gt;28 -->\n<g id=\"edge28\" class=\"edge\">\n<title>24&#45;&gt;28</title>\n<path fill=\"none\" stroke=\"#000000\" d=\"M1840.9453,-222.8796C1867.2103,-208.6726 1896.2469,-192.9664 1921.2586,-179.4374\"/>\n<polygon fill=\"#000000\" stroke=\"#000000\" points=\"1923.1482,-182.3946 1930.2787,-174.5583 1919.8178,-176.2376 1923.1482,-182.3946\"/>\n</g>\n<!-- 26 -->\n<g id=\"node27\" class=\"node\">\n<title>26</title>\n<polygon fill=\"#f2c29f\" stroke=\"#000000\" points=\"1770,-68 1638,-68 1638,0 1770,0 1770,-68\"/>\n<text text-anchor=\"middle\" x=\"1704\" y=\"-52.8\" font-family=\"Helvetica,sans-Serif\" font-size=\"14.00\" fill=\"#000000\">gini = 0.449</text>\n<text text-anchor=\"middle\" x=\"1704\" y=\"-37.8\" font-family=\"Helvetica,sans-Serif\" font-size=\"14.00\" fill=\"#000000\">samples = 512</text>\n<text text-anchor=\"middle\" x=\"1704\" y=\"-22.8\" font-family=\"Helvetica,sans-Serif\" font-size=\"14.00\" fill=\"#000000\">value = [338, 174]</text>\n<text text-anchor=\"middle\" x=\"1704\" y=\"-7.8\" font-family=\"Helvetica,sans-Serif\" font-size=\"14.00\" fill=\"#000000\">class = 0</text>\n</g>\n<!-- 25&#45;&gt;26 -->\n<g id=\"edge26\" class=\"edge\">\n<title>25&#45;&gt;26</title>\n<path fill=\"none\" stroke=\"#000000\" d=\"M1741.6582,-103.9815C1736.9598,-95.2504 1731.9929,-86.0202 1727.2617,-77.2281\"/>\n<polygon fill=\"#000000\" stroke=\"#000000\" points=\"1730.2586,-75.4111 1722.4379,-68.2637 1724.0944,-78.7282 1730.2586,-75.4111\"/>\n</g>\n<!-- 27 -->\n<g id=\"node28\" class=\"node\">\n<title>27</title>\n<polygon fill=\"#e99355\" stroke=\"#000000\" points=\"1912,-68 1788,-68 1788,0 1912,0 1912,-68\"/>\n<text text-anchor=\"middle\" x=\"1850\" y=\"-52.8\" font-family=\"Helvetica,sans-Serif\" font-size=\"14.00\" fill=\"#000000\">gini = 0.218</text>\n<text text-anchor=\"middle\" x=\"1850\" y=\"-37.8\" font-family=\"Helvetica,sans-Serif\" font-size=\"14.00\" fill=\"#000000\">samples = 377</text>\n<text text-anchor=\"middle\" x=\"1850\" y=\"-22.8\" font-family=\"Helvetica,sans-Serif\" font-size=\"14.00\" fill=\"#000000\">value = [330, 47]</text>\n<text text-anchor=\"middle\" x=\"1850\" y=\"-7.8\" font-family=\"Helvetica,sans-Serif\" font-size=\"14.00\" fill=\"#000000\">class = 0</text>\n</g>\n<!-- 25&#45;&gt;27 -->\n<g id=\"edge27\" class=\"edge\">\n<title>25&#45;&gt;27</title>\n<path fill=\"none\" stroke=\"#000000\" d=\"M1796.0232,-103.9815C1802.9702,-94.9747 1810.3269,-85.4367 1817.2996,-76.3965\"/>\n<polygon fill=\"#000000\" stroke=\"#000000\" points=\"1820.2364,-78.3196 1823.5724,-68.2637 1814.6936,-74.0444 1820.2364,-78.3196\"/>\n</g>\n<!-- 29 -->\n<g id=\"node30\" class=\"node\">\n<title>29</title>\n<polygon fill=\"#399de5\" stroke=\"#000000\" points=\"2037.5,-68 1930.5,-68 1930.5,0 2037.5,0 2037.5,-68\"/>\n<text text-anchor=\"middle\" x=\"1984\" y=\"-52.8\" font-family=\"Helvetica,sans-Serif\" font-size=\"14.00\" fill=\"#000000\">gini = 0.0</text>\n<text text-anchor=\"middle\" x=\"1984\" y=\"-37.8\" font-family=\"Helvetica,sans-Serif\" font-size=\"14.00\" fill=\"#000000\">samples = 41</text>\n<text text-anchor=\"middle\" x=\"1984\" y=\"-22.8\" font-family=\"Helvetica,sans-Serif\" font-size=\"14.00\" fill=\"#000000\">value = [0, 41]</text>\n<text text-anchor=\"middle\" x=\"1984\" y=\"-7.8\" font-family=\"Helvetica,sans-Serif\" font-size=\"14.00\" fill=\"#000000\">class = 1</text>\n</g>\n<!-- 28&#45;&gt;29 -->\n<g id=\"edge29\" class=\"edge\">\n<title>28&#45;&gt;29</title>\n<path fill=\"none\" stroke=\"#000000\" d=\"M1984,-103.9815C1984,-95.618 1984,-86.7965 1984,-78.3409\"/>\n<polygon fill=\"#000000\" stroke=\"#000000\" points=\"1987.5001,-78.2636 1984,-68.2637 1980.5001,-78.2637 1987.5001,-78.2636\"/>\n</g>\n<!-- 30 -->\n<g id=\"node31\" class=\"node\">\n<title>30</title>\n<polygon fill=\"#ffffff\" stroke=\"#000000\" points=\"2154.5,-68 2055.5,-68 2055.5,0 2154.5,0 2154.5,-68\"/>\n<text text-anchor=\"middle\" x=\"2105\" y=\"-52.8\" font-family=\"Helvetica,sans-Serif\" font-size=\"14.00\" fill=\"#000000\">gini = 0.5</text>\n<text text-anchor=\"middle\" x=\"2105\" y=\"-37.8\" font-family=\"Helvetica,sans-Serif\" font-size=\"14.00\" fill=\"#000000\">samples = 2</text>\n<text text-anchor=\"middle\" x=\"2105\" y=\"-22.8\" font-family=\"Helvetica,sans-Serif\" font-size=\"14.00\" fill=\"#000000\">value = [1, 1]</text>\n<text text-anchor=\"middle\" x=\"2105\" y=\"-7.8\" font-family=\"Helvetica,sans-Serif\" font-size=\"14.00\" fill=\"#000000\">class = 0</text>\n</g>\n<!-- 28&#45;&gt;30 -->\n<g id=\"edge30\" class=\"edge\">\n<title>28&#45;&gt;30</title>\n<path fill=\"none\" stroke=\"#000000\" d=\"M2029.0559,-103.9815C2039.2291,-94.607 2050.0267,-84.6572 2060.1898,-75.2921\"/>\n<polygon fill=\"#000000\" stroke=\"#000000\" points=\"2062.8349,-77.6141 2067.817,-68.2637 2058.0913,-72.4663 2062.8349,-77.6141\"/>\n</g>\n</g>\n</svg>\n"
          },
          "metadata": {},
          "execution_count": 20
        }
      ]
    },
    {
      "cell_type": "code",
      "source": [
        "model_entropy=DecisionTreeClassifier(criterion=\"entropy\", max_depth=5,min_samples_leaf=2,random_state=32)\n",
        "model_entropy.fit(x_train, y_train)\n"
      ],
      "metadata": {
        "id": "xwSF6LI-JRMy",
        "colab": {
          "base_uri": "https://localhost:8080/"
        },
        "outputId": "54e1a0e1-9b44-45a2-efac-8908438a3e7e"
      },
      "execution_count": null,
      "outputs": [
        {
          "output_type": "execute_result",
          "data": {
            "text/plain": [
              "DecisionTreeClassifier(criterion='entropy', max_depth=5, min_samples_leaf=2,\n",
              "                       random_state=32)"
            ]
          },
          "metadata": {},
          "execution_count": 30
        }
      ]
    },
    {
      "cell_type": "code",
      "source": [
        "text_representation = export_text(model_entropy,feature_names=list(x.columns))\n",
        "print(text_representation)"
      ],
      "metadata": {
        "colab": {
          "base_uri": "https://localhost:8080/"
        },
        "id": "vor2134IJUfv",
        "outputId": "55e23197-329f-446c-b694-3e040bda1c53"
      },
      "execution_count": null,
      "outputs": [
        {
          "output_type": "stream",
          "name": "stdout",
          "text": [
            "|--- age <= 41.50\n",
            "|   |--- products_number <= 2.50\n",
            "|   |   |--- products_number <= 1.50\n",
            "|   |   |   |--- country_Germany <= 0.50\n",
            "|   |   |   |   |--- balance <= 75122.84\n",
            "|   |   |   |   |   |--- class: 0\n",
            "|   |   |   |   |--- balance >  75122.84\n",
            "|   |   |   |   |   |--- class: 0\n",
            "|   |   |   |--- country_Germany >  0.50\n",
            "|   |   |   |   |--- age <= 32.50\n",
            "|   |   |   |   |   |--- class: 0\n",
            "|   |   |   |   |--- age >  32.50\n",
            "|   |   |   |   |   |--- class: 0\n",
            "|   |   |--- products_number >  1.50\n",
            "|   |   |   |--- balance <= 108284.74\n",
            "|   |   |   |   |--- age <= 39.50\n",
            "|   |   |   |   |   |--- class: 0\n",
            "|   |   |   |   |--- age >  39.50\n",
            "|   |   |   |   |   |--- class: 0\n",
            "|   |   |   |--- balance >  108284.74\n",
            "|   |   |   |   |--- balance <= 110932.54\n",
            "|   |   |   |   |   |--- class: 0\n",
            "|   |   |   |   |--- balance >  110932.54\n",
            "|   |   |   |   |   |--- class: 0\n",
            "|   |--- products_number >  2.50\n",
            "|   |   |--- balance <= 23194.08\n",
            "|   |   |   |--- estimated_salary <= 167555.12\n",
            "|   |   |   |   |--- age <= 37.50\n",
            "|   |   |   |   |   |--- class: 0\n",
            "|   |   |   |   |--- age >  37.50\n",
            "|   |   |   |   |   |--- class: 1\n",
            "|   |   |   |--- estimated_salary >  167555.12\n",
            "|   |   |   |   |--- class: 1\n",
            "|   |   |--- balance >  23194.08\n",
            "|   |   |   |--- estimated_salary <= 188544.70\n",
            "|   |   |   |   |--- gender_Female <= 0.50\n",
            "|   |   |   |   |   |--- class: 1\n",
            "|   |   |   |   |--- gender_Female >  0.50\n",
            "|   |   |   |   |   |--- class: 1\n",
            "|   |   |   |--- estimated_salary >  188544.70\n",
            "|   |   |   |   |--- tenure <= 1.50\n",
            "|   |   |   |   |   |--- class: 0\n",
            "|   |   |   |   |--- tenure >  1.50\n",
            "|   |   |   |   |   |--- class: 0\n",
            "|--- age >  41.50\n",
            "|   |--- active_member <= 0.50\n",
            "|   |   |--- age <= 50.50\n",
            "|   |   |   |--- products_number <= 1.50\n",
            "|   |   |   |   |--- age <= 45.50\n",
            "|   |   |   |   |   |--- class: 0\n",
            "|   |   |   |   |--- age >  45.50\n",
            "|   |   |   |   |   |--- class: 1\n",
            "|   |   |   |--- products_number >  1.50\n",
            "|   |   |   |   |--- products_number <= 2.50\n",
            "|   |   |   |   |   |--- class: 0\n",
            "|   |   |   |   |--- products_number >  2.50\n",
            "|   |   |   |   |   |--- class: 1\n",
            "|   |   |--- age >  50.50\n",
            "|   |   |   |--- age <= 73.50\n",
            "|   |   |   |   |--- age <= 53.50\n",
            "|   |   |   |   |   |--- class: 1\n",
            "|   |   |   |   |--- age >  53.50\n",
            "|   |   |   |   |   |--- class: 1\n",
            "|   |   |   |--- age >  73.50\n",
            "|   |   |   |   |--- estimated_salary <= 137504.83\n",
            "|   |   |   |   |   |--- class: 0\n",
            "|   |   |   |   |--- estimated_salary >  137504.83\n",
            "|   |   |   |   |   |--- class: 0\n",
            "|   |--- active_member >  0.50\n",
            "|   |   |--- products_number <= 2.50\n",
            "|   |   |   |--- products_number <= 1.50\n",
            "|   |   |   |   |--- country_Germany <= 0.50\n",
            "|   |   |   |   |   |--- class: 0\n",
            "|   |   |   |   |--- country_Germany >  0.50\n",
            "|   |   |   |   |   |--- class: 1\n",
            "|   |   |   |--- products_number >  1.50\n",
            "|   |   |   |   |--- balance <= 43031.97\n",
            "|   |   |   |   |   |--- class: 0\n",
            "|   |   |   |   |--- balance >  43031.97\n",
            "|   |   |   |   |   |--- class: 0\n",
            "|   |   |--- products_number >  2.50\n",
            "|   |   |   |--- balance <= 57003.37\n",
            "|   |   |   |   |--- age <= 42.50\n",
            "|   |   |   |   |   |--- class: 0\n",
            "|   |   |   |   |--- age >  42.50\n",
            "|   |   |   |   |   |--- class: 1\n",
            "|   |   |   |--- balance >  57003.37\n",
            "|   |   |   |   |--- class: 1\n",
            "\n"
          ]
        }
      ]
    },
    {
      "cell_type": "code",
      "source": [
        "# DOT data\n",
        "dot_data =export_graphviz(model_entropy, out_file=None, \n",
        "              feature_names=x.columns,  \n",
        "              class_names=['0', '1'],\n",
        "              filled=True)\n",
        "# Draw graph\n",
        "graph = graphviz.Source(dot_data, format=\"png\") \n",
        "graph.format = \"png\"\n",
        "graph.render(\"pic2\")\n",
        "graph"
      ],
      "metadata": {
        "colab": {
          "base_uri": "https://localhost:8080/",
          "height": 936
        },
        "id": "LBLF-OhRe0Sq",
        "outputId": "ad10644e-c3ef-4946-ce73-a1088915876d"
      },
      "execution_count": null,
      "outputs": [
        {
          "output_type": "execute_result",
          "data": {
            "text/plain": [
              "<graphviz.files.Source at 0x7f5f766e2ee0>"
            ],
            "image/svg+xml": "<?xml version=\"1.0\" encoding=\"UTF-8\" standalone=\"no\"?>\n<!DOCTYPE svg PUBLIC \"-//W3C//DTD SVG 1.1//EN\"\n \"http://www.w3.org/Graphics/SVG/1.1/DTD/svg11.dtd\">\n<!-- Generated by graphviz version 2.40.1 (20161225.0304)\n -->\n<!-- Title: Tree Pages: 1 -->\n<svg width=\"3859pt\" height=\"671pt\"\n viewBox=\"0.00 0.00 3859.00 671.00\" xmlns=\"http://www.w3.org/2000/svg\" xmlns:xlink=\"http://www.w3.org/1999/xlink\">\n<g id=\"graph0\" class=\"graph\" transform=\"scale(1 1) rotate(0) translate(4 667)\">\n<title>Tree</title>\n<polygon fill=\"#ffffff\" stroke=\"transparent\" points=\"-4,4 -4,-667 3855,-667 3855,4 -4,4\"/>\n<!-- 0 -->\n<g id=\"node1\" class=\"node\">\n<title>0</title>\n<polygon fill=\"#eca26d\" stroke=\"#000000\" points=\"2078.5,-663 1929.5,-663 1929.5,-580 2078.5,-580 2078.5,-663\"/>\n<text text-anchor=\"middle\" x=\"2004\" y=\"-647.8\" font-family=\"Helvetica,sans-Serif\" font-size=\"14.00\" fill=\"#000000\">age &lt;= 41.5</text>\n<text text-anchor=\"middle\" x=\"2004\" y=\"-632.8\" font-family=\"Helvetica,sans-Serif\" font-size=\"14.00\" fill=\"#000000\">entropy = 0.737</text>\n<text text-anchor=\"middle\" x=\"2004\" y=\"-617.8\" font-family=\"Helvetica,sans-Serif\" font-size=\"14.00\" fill=\"#000000\">samples = 7000</text>\n<text text-anchor=\"middle\" x=\"2004\" y=\"-602.8\" font-family=\"Helvetica,sans-Serif\" font-size=\"14.00\" fill=\"#000000\">value = [5547, 1453]</text>\n<text text-anchor=\"middle\" x=\"2004\" y=\"-587.8\" font-family=\"Helvetica,sans-Serif\" font-size=\"14.00\" fill=\"#000000\">class = 0</text>\n</g>\n<!-- 1 -->\n<g id=\"node2\" class=\"node\">\n<title>1</title>\n<polygon fill=\"#e89153\" stroke=\"#000000\" points=\"1602.5,-544 1427.5,-544 1427.5,-461 1602.5,-461 1602.5,-544\"/>\n<text text-anchor=\"middle\" x=\"1515\" y=\"-528.8\" font-family=\"Helvetica,sans-Serif\" font-size=\"14.00\" fill=\"#000000\">products_number &lt;= 2.5</text>\n<text text-anchor=\"middle\" x=\"1515\" y=\"-513.8\" font-family=\"Helvetica,sans-Serif\" font-size=\"14.00\" fill=\"#000000\">entropy = 0.515</text>\n<text text-anchor=\"middle\" x=\"1515\" y=\"-498.8\" font-family=\"Helvetica,sans-Serif\" font-size=\"14.00\" fill=\"#000000\">samples = 4748</text>\n<text text-anchor=\"middle\" x=\"1515\" y=\"-483.8\" font-family=\"Helvetica,sans-Serif\" font-size=\"14.00\" fill=\"#000000\">value = [4202, 546]</text>\n<text text-anchor=\"middle\" x=\"1515\" y=\"-468.8\" font-family=\"Helvetica,sans-Serif\" font-size=\"14.00\" fill=\"#000000\">class = 0</text>\n</g>\n<!-- 0&#45;&gt;1 -->\n<g id=\"edge1\" class=\"edge\">\n<title>0&#45;&gt;1</title>\n<path fill=\"none\" stroke=\"#000000\" d=\"M1929.4655,-603.3617C1844.6385,-582.7188 1705.7894,-548.9293 1612.4431,-526.2131\"/>\n<polygon fill=\"#000000\" stroke=\"#000000\" points=\"1613.2521,-522.808 1602.7081,-523.8441 1611.5969,-529.6095 1613.2521,-522.808\"/>\n<text text-anchor=\"middle\" x=\"1615.7045\" y=\"-541.5004\" font-family=\"Helvetica,sans-Serif\" font-size=\"14.00\" fill=\"#000000\">True</text>\n</g>\n<!-- 30 -->\n<g id=\"node31\" class=\"node\">\n<title>30</title>\n<polygon fill=\"#f7d6bf\" stroke=\"#000000\" points=\"2600.5,-544 2439.5,-544 2439.5,-461 2600.5,-461 2600.5,-544\"/>\n<text text-anchor=\"middle\" x=\"2520\" y=\"-528.8\" font-family=\"Helvetica,sans-Serif\" font-size=\"14.00\" fill=\"#000000\">active_member &lt;= 0.5</text>\n<text text-anchor=\"middle\" x=\"2520\" y=\"-513.8\" font-family=\"Helvetica,sans-Serif\" font-size=\"14.00\" fill=\"#000000\">entropy = 0.973</text>\n<text text-anchor=\"middle\" x=\"2520\" y=\"-498.8\" font-family=\"Helvetica,sans-Serif\" font-size=\"14.00\" fill=\"#000000\">samples = 2252</text>\n<text text-anchor=\"middle\" x=\"2520\" y=\"-483.8\" font-family=\"Helvetica,sans-Serif\" font-size=\"14.00\" fill=\"#000000\">value = [1345, 907]</text>\n<text text-anchor=\"middle\" x=\"2520\" y=\"-468.8\" font-family=\"Helvetica,sans-Serif\" font-size=\"14.00\" fill=\"#000000\">class = 0</text>\n</g>\n<!-- 0&#45;&gt;30 -->\n<g id=\"edge30\" class=\"edge\">\n<title>0&#45;&gt;30</title>\n<path fill=\"none\" stroke=\"#000000\" d=\"M2078.7551,-604.26C2171.6045,-582.847 2329.8957,-546.3419 2429.5071,-523.3695\"/>\n<polygon fill=\"#000000\" stroke=\"#000000\" points=\"2430.3008,-526.7784 2439.2584,-521.1206 2428.7276,-519.9574 2430.3008,-526.7784\"/>\n<text text-anchor=\"middle\" x=\"2426.0055\" y=\"-538.6187\" font-family=\"Helvetica,sans-Serif\" font-size=\"14.00\" fill=\"#000000\">False</text>\n</g>\n<!-- 2 -->\n<g id=\"node3\" class=\"node\">\n<title>2</title>\n<polygon fill=\"#e88f4f\" stroke=\"#000000\" points=\"969.5,-425 794.5,-425 794.5,-342 969.5,-342 969.5,-425\"/>\n<text text-anchor=\"middle\" x=\"882\" y=\"-409.8\" font-family=\"Helvetica,sans-Serif\" font-size=\"14.00\" fill=\"#000000\">products_number &lt;= 1.5</text>\n<text text-anchor=\"middle\" x=\"882\" y=\"-394.8\" font-family=\"Helvetica,sans-Serif\" font-size=\"14.00\" fill=\"#000000\">entropy = 0.471</text>\n<text text-anchor=\"middle\" x=\"882\" y=\"-379.8\" font-family=\"Helvetica,sans-Serif\" font-size=\"14.00\" fill=\"#000000\">samples = 4644</text>\n<text text-anchor=\"middle\" x=\"882\" y=\"-364.8\" font-family=\"Helvetica,sans-Serif\" font-size=\"14.00\" fill=\"#000000\">value = [4177, 467]</text>\n<text text-anchor=\"middle\" x=\"882\" y=\"-349.8\" font-family=\"Helvetica,sans-Serif\" font-size=\"14.00\" fill=\"#000000\">class = 0</text>\n</g>\n<!-- 1&#45;&gt;2 -->\n<g id=\"edge2\" class=\"edge\">\n<title>1&#45;&gt;2</title>\n<path fill=\"none\" stroke=\"#000000\" d=\"M1427.3166,-486.0161C1309.8648,-463.9359 1102.0991,-424.8772 979.7372,-401.874\"/>\n<polygon fill=\"#000000\" stroke=\"#000000\" points=\"980.0984,-398.3806 969.6239,-399.9727 978.805,-405.2601 980.0984,-398.3806\"/>\n</g>\n<!-- 17 -->\n<g id=\"node18\" class=\"node\">\n<title>17</title>\n<polygon fill=\"#78bced\" stroke=\"#000000\" points=\"1592,-425 1438,-425 1438,-342 1592,-342 1592,-425\"/>\n<text text-anchor=\"middle\" x=\"1515\" y=\"-409.8\" font-family=\"Helvetica,sans-Serif\" font-size=\"14.00\" fill=\"#000000\">balance &lt;= 23194.08</text>\n<text text-anchor=\"middle\" x=\"1515\" y=\"-394.8\" font-family=\"Helvetica,sans-Serif\" font-size=\"14.00\" fill=\"#000000\">entropy = 0.796</text>\n<text text-anchor=\"middle\" x=\"1515\" y=\"-379.8\" font-family=\"Helvetica,sans-Serif\" font-size=\"14.00\" fill=\"#000000\">samples = 104</text>\n<text text-anchor=\"middle\" x=\"1515\" y=\"-364.8\" font-family=\"Helvetica,sans-Serif\" font-size=\"14.00\" fill=\"#000000\">value = [25, 79]</text>\n<text text-anchor=\"middle\" x=\"1515\" y=\"-349.8\" font-family=\"Helvetica,sans-Serif\" font-size=\"14.00\" fill=\"#000000\">class = 1</text>\n</g>\n<!-- 1&#45;&gt;17 -->\n<g id=\"edge17\" class=\"edge\">\n<title>1&#45;&gt;17</title>\n<path fill=\"none\" stroke=\"#000000\" d=\"M1515,-460.8796C1515,-452.6838 1515,-443.9891 1515,-435.5013\"/>\n<polygon fill=\"#000000\" stroke=\"#000000\" points=\"1518.5001,-435.298 1515,-425.2981 1511.5001,-435.2981 1518.5001,-435.298\"/>\n</g>\n<!-- 3 -->\n<g id=\"node4\" class=\"node\">\n<title>3</title>\n<polygon fill=\"#ea995f\" stroke=\"#000000\" points=\"536.5,-306 359.5,-306 359.5,-223 536.5,-223 536.5,-306\"/>\n<text text-anchor=\"middle\" x=\"448\" y=\"-290.8\" font-family=\"Helvetica,sans-Serif\" font-size=\"14.00\" fill=\"#000000\">country_Germany &lt;= 0.5</text>\n<text text-anchor=\"middle\" x=\"448\" y=\"-275.8\" font-family=\"Helvetica,sans-Serif\" font-size=\"14.00\" fill=\"#000000\">entropy = 0.634</text>\n<text text-anchor=\"middle\" x=\"448\" y=\"-260.8\" font-family=\"Helvetica,sans-Serif\" font-size=\"14.00\" fill=\"#000000\">samples = 2302</text>\n<text text-anchor=\"middle\" x=\"448\" y=\"-245.8\" font-family=\"Helvetica,sans-Serif\" font-size=\"14.00\" fill=\"#000000\">value = [1934, 368]</text>\n<text text-anchor=\"middle\" x=\"448\" y=\"-230.8\" font-family=\"Helvetica,sans-Serif\" font-size=\"14.00\" fill=\"#000000\">class = 0</text>\n</g>\n<!-- 2&#45;&gt;3 -->\n<g id=\"edge3\" class=\"edge\">\n<title>2&#45;&gt;3</title>\n<path fill=\"none\" stroke=\"#000000\" d=\"M794.4348,-359.4902C722.633,-339.8026 621.0368,-311.9456 546.4275,-291.4882\"/>\n<polygon fill=\"#000000\" stroke=\"#000000\" points=\"547.116,-288.0479 536.5464,-288.7789 545.2649,-294.7987 547.116,-288.0479\"/>\n</g>\n<!-- 10 -->\n<g id=\"node11\" class=\"node\">\n<title>10</title>\n<polygon fill=\"#e68742\" stroke=\"#000000\" points=\"967,-306 797,-306 797,-223 967,-223 967,-306\"/>\n<text text-anchor=\"middle\" x=\"882\" y=\"-290.8\" font-family=\"Helvetica,sans-Serif\" font-size=\"14.00\" fill=\"#000000\">balance &lt;= 108284.738</text>\n<text text-anchor=\"middle\" x=\"882\" y=\"-275.8\" font-family=\"Helvetica,sans-Serif\" font-size=\"14.00\" fill=\"#000000\">entropy = 0.253</text>\n<text text-anchor=\"middle\" x=\"882\" y=\"-260.8\" font-family=\"Helvetica,sans-Serif\" font-size=\"14.00\" fill=\"#000000\">samples = 2342</text>\n<text text-anchor=\"middle\" x=\"882\" y=\"-245.8\" font-family=\"Helvetica,sans-Serif\" font-size=\"14.00\" fill=\"#000000\">value = [2243, 99]</text>\n<text text-anchor=\"middle\" x=\"882\" y=\"-230.8\" font-family=\"Helvetica,sans-Serif\" font-size=\"14.00\" fill=\"#000000\">class = 0</text>\n</g>\n<!-- 2&#45;&gt;10 -->\n<g id=\"edge10\" class=\"edge\">\n<title>2&#45;&gt;10</title>\n<path fill=\"none\" stroke=\"#000000\" d=\"M882,-341.8796C882,-333.6838 882,-324.9891 882,-316.5013\"/>\n<polygon fill=\"#000000\" stroke=\"#000000\" points=\"885.5001,-316.298 882,-306.2981 878.5001,-316.2981 885.5001,-316.298\"/>\n</g>\n<!-- 4 -->\n<g id=\"node5\" class=\"node\">\n<title>4</title>\n<polygon fill=\"#e99456\" stroke=\"#000000\" points=\"297,-187 143,-187 143,-104 297,-104 297,-187\"/>\n<text text-anchor=\"middle\" x=\"220\" y=\"-171.8\" font-family=\"Helvetica,sans-Serif\" font-size=\"14.00\" fill=\"#000000\">balance &lt;= 75122.84</text>\n<text text-anchor=\"middle\" x=\"220\" y=\"-156.8\" font-family=\"Helvetica,sans-Serif\" font-size=\"14.00\" fill=\"#000000\">entropy = 0.553</text>\n<text text-anchor=\"middle\" x=\"220\" y=\"-141.8\" font-family=\"Helvetica,sans-Serif\" font-size=\"14.00\" fill=\"#000000\">samples = 1752</text>\n<text text-anchor=\"middle\" x=\"220\" y=\"-126.8\" font-family=\"Helvetica,sans-Serif\" font-size=\"14.00\" fill=\"#000000\">value = [1527, 225]</text>\n<text text-anchor=\"middle\" x=\"220\" y=\"-111.8\" font-family=\"Helvetica,sans-Serif\" font-size=\"14.00\" fill=\"#000000\">class = 0</text>\n</g>\n<!-- 3&#45;&gt;4 -->\n<g id=\"edge4\" class=\"edge\">\n<title>3&#45;&gt;4</title>\n<path fill=\"none\" stroke=\"#000000\" d=\"M368.2567,-222.8796C348.1216,-212.3705 326.4147,-201.041 305.987,-190.3792\"/>\n<polygon fill=\"#000000\" stroke=\"#000000\" points=\"307.4962,-187.2189 297.0116,-185.6946 304.2573,-193.4245 307.4962,-187.2189\"/>\n</g>\n<!-- 7 -->\n<g id=\"node8\" class=\"node\">\n<title>7</title>\n<polygon fill=\"#eead7f\" stroke=\"#000000\" points=\"514,-187 382,-187 382,-104 514,-104 514,-187\"/>\n<text text-anchor=\"middle\" x=\"448\" y=\"-171.8\" font-family=\"Helvetica,sans-Serif\" font-size=\"14.00\" fill=\"#000000\">age &lt;= 32.5</text>\n<text text-anchor=\"middle\" x=\"448\" y=\"-156.8\" font-family=\"Helvetica,sans-Serif\" font-size=\"14.00\" fill=\"#000000\">entropy = 0.827</text>\n<text text-anchor=\"middle\" x=\"448\" y=\"-141.8\" font-family=\"Helvetica,sans-Serif\" font-size=\"14.00\" fill=\"#000000\">samples = 550</text>\n<text text-anchor=\"middle\" x=\"448\" y=\"-126.8\" font-family=\"Helvetica,sans-Serif\" font-size=\"14.00\" fill=\"#000000\">value = [407, 143]</text>\n<text text-anchor=\"middle\" x=\"448\" y=\"-111.8\" font-family=\"Helvetica,sans-Serif\" font-size=\"14.00\" fill=\"#000000\">class = 0</text>\n</g>\n<!-- 3&#45;&gt;7 -->\n<g id=\"edge7\" class=\"edge\">\n<title>3&#45;&gt;7</title>\n<path fill=\"none\" stroke=\"#000000\" d=\"M448,-222.8796C448,-214.6838 448,-205.9891 448,-197.5013\"/>\n<polygon fill=\"#000000\" stroke=\"#000000\" points=\"451.5001,-197.298 448,-187.2981 444.5001,-197.2981 451.5001,-197.298\"/>\n</g>\n<!-- 5 -->\n<g id=\"node6\" class=\"node\">\n<title>5</title>\n<polygon fill=\"#eda876\" stroke=\"#000000\" points=\"132,-68 0,-68 0,0 132,0 132,-68\"/>\n<text text-anchor=\"middle\" x=\"66\" y=\"-52.8\" font-family=\"Helvetica,sans-Serif\" font-size=\"14.00\" fill=\"#000000\">entropy = 0.786</text>\n<text text-anchor=\"middle\" x=\"66\" y=\"-37.8\" font-family=\"Helvetica,sans-Serif\" font-size=\"14.00\" fill=\"#000000\">samples = 477</text>\n<text text-anchor=\"middle\" x=\"66\" y=\"-22.8\" font-family=\"Helvetica,sans-Serif\" font-size=\"14.00\" fill=\"#000000\">value = [365, 112]</text>\n<text text-anchor=\"middle\" x=\"66\" y=\"-7.8\" font-family=\"Helvetica,sans-Serif\" font-size=\"14.00\" fill=\"#000000\">class = 0</text>\n</g>\n<!-- 4&#45;&gt;5 -->\n<g id=\"edge5\" class=\"edge\">\n<title>4&#45;&gt;5</title>\n<path fill=\"none\" stroke=\"#000000\" d=\"M162.6561,-103.9815C149.2006,-94.2394 134.8869,-83.8759 121.5133,-74.193\"/>\n<polygon fill=\"#000000\" stroke=\"#000000\" points=\"123.4763,-71.2933 113.3238,-68.2637 119.3711,-76.9632 123.4763,-71.2933\"/>\n</g>\n<!-- 6 -->\n<g id=\"node7\" class=\"node\">\n<title>6</title>\n<polygon fill=\"#e88d4c\" stroke=\"#000000\" points=\"290,-68 150,-68 150,0 290,0 290,-68\"/>\n<text text-anchor=\"middle\" x=\"220\" y=\"-52.8\" font-family=\"Helvetica,sans-Serif\" font-size=\"14.00\" fill=\"#000000\">entropy = 0.432</text>\n<text text-anchor=\"middle\" x=\"220\" y=\"-37.8\" font-family=\"Helvetica,sans-Serif\" font-size=\"14.00\" fill=\"#000000\">samples = 1275</text>\n<text text-anchor=\"middle\" x=\"220\" y=\"-22.8\" font-family=\"Helvetica,sans-Serif\" font-size=\"14.00\" fill=\"#000000\">value = [1162, 113]</text>\n<text text-anchor=\"middle\" x=\"220\" y=\"-7.8\" font-family=\"Helvetica,sans-Serif\" font-size=\"14.00\" fill=\"#000000\">class = 0</text>\n</g>\n<!-- 4&#45;&gt;6 -->\n<g id=\"edge6\" class=\"edge\">\n<title>4&#45;&gt;6</title>\n<path fill=\"none\" stroke=\"#000000\" d=\"M220,-103.9815C220,-95.618 220,-86.7965 220,-78.3409\"/>\n<polygon fill=\"#000000\" stroke=\"#000000\" points=\"223.5001,-78.2636 220,-68.2637 216.5001,-78.2637 223.5001,-78.2636\"/>\n</g>\n<!-- 8 -->\n<g id=\"node9\" class=\"node\">\n<title>8</title>\n<polygon fill=\"#ea985e\" stroke=\"#000000\" points=\"432,-68 308,-68 308,0 432,0 432,-68\"/>\n<text text-anchor=\"middle\" x=\"370\" y=\"-52.8\" font-family=\"Helvetica,sans-Serif\" font-size=\"14.00\" fill=\"#000000\">entropy = 0.625</text>\n<text text-anchor=\"middle\" x=\"370\" y=\"-37.8\" font-family=\"Helvetica,sans-Serif\" font-size=\"14.00\" fill=\"#000000\">samples = 224</text>\n<text text-anchor=\"middle\" x=\"370\" y=\"-22.8\" font-family=\"Helvetica,sans-Serif\" font-size=\"14.00\" fill=\"#000000\">value = [189, 35]</text>\n<text text-anchor=\"middle\" x=\"370\" y=\"-7.8\" font-family=\"Helvetica,sans-Serif\" font-size=\"14.00\" fill=\"#000000\">class = 0</text>\n</g>\n<!-- 7&#45;&gt;8 -->\n<g id=\"edge8\" class=\"edge\">\n<title>7&#45;&gt;8</title>\n<path fill=\"none\" stroke=\"#000000\" d=\"M418.9557,-103.9815C412.7192,-95.0666 406.1187,-85.6313 399.8522,-76.6734\"/>\n<polygon fill=\"#000000\" stroke=\"#000000\" points=\"402.5693,-74.4515 393.9692,-68.2637 396.8335,-78.464 402.5693,-74.4515\"/>\n</g>\n<!-- 9 -->\n<g id=\"node10\" class=\"node\">\n<title>9</title>\n<polygon fill=\"#f2bf9b\" stroke=\"#000000\" points=\"582,-68 450,-68 450,0 582,0 582,-68\"/>\n<text text-anchor=\"middle\" x=\"516\" y=\"-52.8\" font-family=\"Helvetica,sans-Serif\" font-size=\"14.00\" fill=\"#000000\">entropy = 0.916</text>\n<text text-anchor=\"middle\" x=\"516\" y=\"-37.8\" font-family=\"Helvetica,sans-Serif\" font-size=\"14.00\" fill=\"#000000\">samples = 326</text>\n<text text-anchor=\"middle\" x=\"516\" y=\"-22.8\" font-family=\"Helvetica,sans-Serif\" font-size=\"14.00\" fill=\"#000000\">value = [218, 108]</text>\n<text text-anchor=\"middle\" x=\"516\" y=\"-7.8\" font-family=\"Helvetica,sans-Serif\" font-size=\"14.00\" fill=\"#000000\">class = 0</text>\n</g>\n<!-- 7&#45;&gt;9 -->\n<g id=\"edge9\" class=\"edge\">\n<title>7&#45;&gt;9</title>\n<path fill=\"none\" stroke=\"#000000\" d=\"M473.3207,-103.9815C478.7016,-95.1585 484.3932,-85.8258 489.8059,-76.9506\"/>\n<polygon fill=\"#000000\" stroke=\"#000000\" points=\"492.8851,-78.6236 495.1038,-68.2637 486.9088,-74.9789 492.8851,-78.6236\"/>\n</g>\n<!-- 11 -->\n<g id=\"node12\" class=\"node\">\n<title>11</title>\n<polygon fill=\"#e6843e\" stroke=\"#000000\" points=\"863,-187 731,-187 731,-104 863,-104 863,-187\"/>\n<text text-anchor=\"middle\" x=\"797\" y=\"-171.8\" font-family=\"Helvetica,sans-Serif\" font-size=\"14.00\" fill=\"#000000\">age &lt;= 39.5</text>\n<text text-anchor=\"middle\" x=\"797\" y=\"-156.8\" font-family=\"Helvetica,sans-Serif\" font-size=\"14.00\" fill=\"#000000\">entropy = 0.165</text>\n<text text-anchor=\"middle\" x=\"797\" y=\"-141.8\" font-family=\"Helvetica,sans-Serif\" font-size=\"14.00\" fill=\"#000000\">samples = 1726</text>\n<text text-anchor=\"middle\" x=\"797\" y=\"-126.8\" font-family=\"Helvetica,sans-Serif\" font-size=\"14.00\" fill=\"#000000\">value = [1684, 42]</text>\n<text text-anchor=\"middle\" x=\"797\" y=\"-111.8\" font-family=\"Helvetica,sans-Serif\" font-size=\"14.00\" fill=\"#000000\">class = 0</text>\n</g>\n<!-- 10&#45;&gt;11 -->\n<g id=\"edge11\" class=\"edge\">\n<title>10&#45;&gt;11</title>\n<path fill=\"none\" stroke=\"#000000\" d=\"M852.2711,-222.8796C845.9667,-214.0534 839.249,-204.6485 832.7476,-195.5466\"/>\n<polygon fill=\"#000000\" stroke=\"#000000\" points=\"835.5163,-193.4011 826.8558,-187.2981 829.8201,-197.4698 835.5163,-193.4011\"/>\n</g>\n<!-- 14 -->\n<g id=\"node15\" class=\"node\">\n<title>14</title>\n<polygon fill=\"#e88e4d\" stroke=\"#000000\" points=\"1051,-187 881,-187 881,-104 1051,-104 1051,-187\"/>\n<text text-anchor=\"middle\" x=\"966\" y=\"-171.8\" font-family=\"Helvetica,sans-Serif\" font-size=\"14.00\" fill=\"#000000\">balance &lt;= 110932.539</text>\n<text text-anchor=\"middle\" x=\"966\" y=\"-156.8\" font-family=\"Helvetica,sans-Serif\" font-size=\"14.00\" fill=\"#000000\">entropy = 0.445</text>\n<text text-anchor=\"middle\" x=\"966\" y=\"-141.8\" font-family=\"Helvetica,sans-Serif\" font-size=\"14.00\" fill=\"#000000\">samples = 616</text>\n<text text-anchor=\"middle\" x=\"966\" y=\"-126.8\" font-family=\"Helvetica,sans-Serif\" font-size=\"14.00\" fill=\"#000000\">value = [559, 57]</text>\n<text text-anchor=\"middle\" x=\"966\" y=\"-111.8\" font-family=\"Helvetica,sans-Serif\" font-size=\"14.00\" fill=\"#000000\">class = 0</text>\n</g>\n<!-- 10&#45;&gt;14 -->\n<g id=\"edge14\" class=\"edge\">\n<title>10&#45;&gt;14</title>\n<path fill=\"none\" stroke=\"#000000\" d=\"M911.3791,-222.8796C917.6094,-214.0534 924.2481,-204.6485 930.673,-195.5466\"/>\n<polygon fill=\"#000000\" stroke=\"#000000\" points=\"933.588,-197.4862 936.4955,-187.2981 927.8692,-193.4494 933.588,-197.4862\"/>\n</g>\n<!-- 12 -->\n<g id=\"node13\" class=\"node\">\n<title>12</title>\n<polygon fill=\"#e6843d\" stroke=\"#000000\" points=\"732,-68 600,-68 600,0 732,0 732,-68\"/>\n<text text-anchor=\"middle\" x=\"666\" y=\"-52.8\" font-family=\"Helvetica,sans-Serif\" font-size=\"14.00\" fill=\"#000000\">entropy = 0.141</text>\n<text text-anchor=\"middle\" x=\"666\" y=\"-37.8\" font-family=\"Helvetica,sans-Serif\" font-size=\"14.00\" fill=\"#000000\">samples = 1551</text>\n<text text-anchor=\"middle\" x=\"666\" y=\"-22.8\" font-family=\"Helvetica,sans-Serif\" font-size=\"14.00\" fill=\"#000000\">value = [1520, 31]</text>\n<text text-anchor=\"middle\" x=\"666\" y=\"-7.8\" font-family=\"Helvetica,sans-Serif\" font-size=\"14.00\" fill=\"#000000\">class = 0</text>\n</g>\n<!-- 11&#45;&gt;12 -->\n<g id=\"edge12\" class=\"edge\">\n<title>11&#45;&gt;12</title>\n<path fill=\"none\" stroke=\"#000000\" d=\"M748.2204,-103.9815C737.0985,-94.5151 725.2872,-84.462 714.1901,-75.0168\"/>\n<polygon fill=\"#000000\" stroke=\"#000000\" points=\"716.1396,-72.08 706.256,-68.2637 711.6025,-77.4105 716.1396,-72.08\"/>\n</g>\n<!-- 13 -->\n<g id=\"node14\" class=\"node\">\n<title>13</title>\n<polygon fill=\"#e78946\" stroke=\"#000000\" points=\"874,-68 750,-68 750,0 874,0 874,-68\"/>\n<text text-anchor=\"middle\" x=\"812\" y=\"-52.8\" font-family=\"Helvetica,sans-Serif\" font-size=\"14.00\" fill=\"#000000\">entropy = 0.339</text>\n<text text-anchor=\"middle\" x=\"812\" y=\"-37.8\" font-family=\"Helvetica,sans-Serif\" font-size=\"14.00\" fill=\"#000000\">samples = 175</text>\n<text text-anchor=\"middle\" x=\"812\" y=\"-22.8\" font-family=\"Helvetica,sans-Serif\" font-size=\"14.00\" fill=\"#000000\">value = [164, 11]</text>\n<text text-anchor=\"middle\" x=\"812\" y=\"-7.8\" font-family=\"Helvetica,sans-Serif\" font-size=\"14.00\" fill=\"#000000\">class = 0</text>\n</g>\n<!-- 11&#45;&gt;13 -->\n<g id=\"edge13\" class=\"edge\">\n<title>11&#45;&gt;13</title>\n<path fill=\"none\" stroke=\"#000000\" d=\"M802.5854,-103.9815C803.7106,-95.618 804.8973,-86.7965 806.0349,-78.3409\"/>\n<polygon fill=\"#000000\" stroke=\"#000000\" points=\"809.5259,-78.6411 807.3905,-68.2637 802.5884,-77.7077 809.5259,-78.6411\"/>\n</g>\n<!-- 15 -->\n<g id=\"node16\" class=\"node\">\n<title>15</title>\n<polygon fill=\"#efb185\" stroke=\"#000000\" points=\"1010,-68 892,-68 892,0 1010,0 1010,-68\"/>\n<text text-anchor=\"middle\" x=\"951\" y=\"-52.8\" font-family=\"Helvetica,sans-Serif\" font-size=\"14.00\" fill=\"#000000\">entropy = 0.852</text>\n<text text-anchor=\"middle\" x=\"951\" y=\"-37.8\" font-family=\"Helvetica,sans-Serif\" font-size=\"14.00\" fill=\"#000000\">samples = 36</text>\n<text text-anchor=\"middle\" x=\"951\" y=\"-22.8\" font-family=\"Helvetica,sans-Serif\" font-size=\"14.00\" fill=\"#000000\">value = [26, 10]</text>\n<text text-anchor=\"middle\" x=\"951\" y=\"-7.8\" font-family=\"Helvetica,sans-Serif\" font-size=\"14.00\" fill=\"#000000\">class = 0</text>\n</g>\n<!-- 14&#45;&gt;15 -->\n<g id=\"edge15\" class=\"edge\">\n<title>14&#45;&gt;15</title>\n<path fill=\"none\" stroke=\"#000000\" d=\"M960.4146,-103.9815C959.2894,-95.618 958.1027,-86.7965 956.9651,-78.3409\"/>\n<polygon fill=\"#000000\" stroke=\"#000000\" points=\"960.4116,-77.7077 955.6095,-68.2637 953.4741,-78.6411 960.4116,-77.7077\"/>\n</g>\n<!-- 16 -->\n<g id=\"node17\" class=\"node\">\n<title>16</title>\n<polygon fill=\"#e78c4a\" stroke=\"#000000\" points=\"1152,-68 1028,-68 1028,0 1152,0 1152,-68\"/>\n<text text-anchor=\"middle\" x=\"1090\" y=\"-52.8\" font-family=\"Helvetica,sans-Serif\" font-size=\"14.00\" fill=\"#000000\">entropy = 0.406</text>\n<text text-anchor=\"middle\" x=\"1090\" y=\"-37.8\" font-family=\"Helvetica,sans-Serif\" font-size=\"14.00\" fill=\"#000000\">samples = 580</text>\n<text text-anchor=\"middle\" x=\"1090\" y=\"-22.8\" font-family=\"Helvetica,sans-Serif\" font-size=\"14.00\" fill=\"#000000\">value = [533, 47]</text>\n<text text-anchor=\"middle\" x=\"1090\" y=\"-7.8\" font-family=\"Helvetica,sans-Serif\" font-size=\"14.00\" fill=\"#000000\">class = 0</text>\n</g>\n<!-- 14&#45;&gt;16 -->\n<g id=\"edge16\" class=\"edge\">\n<title>14&#45;&gt;16</title>\n<path fill=\"none\" stroke=\"#000000\" d=\"M1012.173,-103.9815C1022.7007,-94.5151 1033.8808,-84.462 1044.3849,-75.0168\"/>\n<polygon fill=\"#000000\" stroke=\"#000000\" points=\"1046.7994,-77.5526 1051.8951,-68.2637 1042.1189,-72.3475 1046.7994,-77.5526\"/>\n</g>\n<!-- 18 -->\n<g id=\"node19\" class=\"node\">\n<title>18</title>\n<polygon fill=\"#ffffff\" stroke=\"#000000\" points=\"1506.5,-306 1277.5,-306 1277.5,-223 1506.5,-223 1506.5,-306\"/>\n<text text-anchor=\"middle\" x=\"1392\" y=\"-290.8\" font-family=\"Helvetica,sans-Serif\" font-size=\"14.00\" fill=\"#000000\">estimated_salary &lt;= 167555.125</text>\n<text text-anchor=\"middle\" x=\"1392\" y=\"-275.8\" font-family=\"Helvetica,sans-Serif\" font-size=\"14.00\" fill=\"#000000\">entropy = 1.0</text>\n<text text-anchor=\"middle\" x=\"1392\" y=\"-260.8\" font-family=\"Helvetica,sans-Serif\" font-size=\"14.00\" fill=\"#000000\">samples = 38</text>\n<text text-anchor=\"middle\" x=\"1392\" y=\"-245.8\" font-family=\"Helvetica,sans-Serif\" font-size=\"14.00\" fill=\"#000000\">value = [19, 19]</text>\n<text text-anchor=\"middle\" x=\"1392\" y=\"-230.8\" font-family=\"Helvetica,sans-Serif\" font-size=\"14.00\" fill=\"#000000\">class = 0</text>\n</g>\n<!-- 17&#45;&gt;18 -->\n<g id=\"edge18\" class=\"edge\">\n<title>17&#45;&gt;18</title>\n<path fill=\"none\" stroke=\"#000000\" d=\"M1471.9806,-341.8796C1462.4853,-332.6931 1452.3422,-322.8798 1442.5785,-313.4336\"/>\n<polygon fill=\"#000000\" stroke=\"#000000\" points=\"1444.8237,-310.7359 1435.203,-306.2981 1439.9564,-315.7668 1444.8237,-310.7359\"/>\n</g>\n<!-- 23 -->\n<g id=\"node24\" class=\"node\">\n<title>23</title>\n<polygon fill=\"#4da7e8\" stroke=\"#000000\" points=\"1753.5,-306 1524.5,-306 1524.5,-223 1753.5,-223 1753.5,-306\"/>\n<text text-anchor=\"middle\" x=\"1639\" y=\"-290.8\" font-family=\"Helvetica,sans-Serif\" font-size=\"14.00\" fill=\"#000000\">estimated_salary &lt;= 188544.703</text>\n<text text-anchor=\"middle\" x=\"1639\" y=\"-275.8\" font-family=\"Helvetica,sans-Serif\" font-size=\"14.00\" fill=\"#000000\">entropy = 0.439</text>\n<text text-anchor=\"middle\" x=\"1639\" y=\"-260.8\" font-family=\"Helvetica,sans-Serif\" font-size=\"14.00\" fill=\"#000000\">samples = 66</text>\n<text text-anchor=\"middle\" x=\"1639\" y=\"-245.8\" font-family=\"Helvetica,sans-Serif\" font-size=\"14.00\" fill=\"#000000\">value = [6, 60]</text>\n<text text-anchor=\"middle\" x=\"1639\" y=\"-230.8\" font-family=\"Helvetica,sans-Serif\" font-size=\"14.00\" fill=\"#000000\">class = 1</text>\n</g>\n<!-- 17&#45;&gt;23 -->\n<g id=\"edge23\" class=\"edge\">\n<title>17&#45;&gt;23</title>\n<path fill=\"none\" stroke=\"#000000\" d=\"M1558.3692,-341.8796C1567.9416,-332.6931 1578.1672,-322.8798 1588.0103,-313.4336\"/>\n<polygon fill=\"#000000\" stroke=\"#000000\" points=\"1590.6541,-315.7475 1595.4457,-306.2981 1585.8072,-310.6969 1590.6541,-315.7475\"/>\n</g>\n<!-- 19 -->\n<g id=\"node20\" class=\"node\">\n<title>19</title>\n<polygon fill=\"#f7d7c0\" stroke=\"#000000\" points=\"1350,-187 1232,-187 1232,-104 1350,-104 1350,-187\"/>\n<text text-anchor=\"middle\" x=\"1291\" y=\"-171.8\" font-family=\"Helvetica,sans-Serif\" font-size=\"14.00\" fill=\"#000000\">age &lt;= 37.5</text>\n<text text-anchor=\"middle\" x=\"1291\" y=\"-156.8\" font-family=\"Helvetica,sans-Serif\" font-size=\"14.00\" fill=\"#000000\">entropy = 0.974</text>\n<text text-anchor=\"middle\" x=\"1291\" y=\"-141.8\" font-family=\"Helvetica,sans-Serif\" font-size=\"14.00\" fill=\"#000000\">samples = 32</text>\n<text text-anchor=\"middle\" x=\"1291\" y=\"-126.8\" font-family=\"Helvetica,sans-Serif\" font-size=\"14.00\" fill=\"#000000\">value = [19, 13]</text>\n<text text-anchor=\"middle\" x=\"1291\" y=\"-111.8\" font-family=\"Helvetica,sans-Serif\" font-size=\"14.00\" fill=\"#000000\">class = 0</text>\n</g>\n<!-- 18&#45;&gt;19 -->\n<g id=\"edge19\" class=\"edge\">\n<title>18&#45;&gt;19</title>\n<path fill=\"none\" stroke=\"#000000\" d=\"M1356.6751,-222.8796C1349.0311,-213.8733 1340.8757,-204.2644 1333.0039,-194.9897\"/>\n<polygon fill=\"#000000\" stroke=\"#000000\" points=\"1335.6151,-192.6574 1326.4757,-187.2981 1330.2782,-197.1871 1335.6151,-192.6574\"/>\n</g>\n<!-- 22 -->\n<g id=\"node23\" class=\"node\">\n<title>22</title>\n<polygon fill=\"#399de5\" stroke=\"#000000\" points=\"1469.5,-179.5 1368.5,-179.5 1368.5,-111.5 1469.5,-111.5 1469.5,-179.5\"/>\n<text text-anchor=\"middle\" x=\"1419\" y=\"-164.3\" font-family=\"Helvetica,sans-Serif\" font-size=\"14.00\" fill=\"#000000\">entropy = 0.0</text>\n<text text-anchor=\"middle\" x=\"1419\" y=\"-149.3\" font-family=\"Helvetica,sans-Serif\" font-size=\"14.00\" fill=\"#000000\">samples = 6</text>\n<text text-anchor=\"middle\" x=\"1419\" y=\"-134.3\" font-family=\"Helvetica,sans-Serif\" font-size=\"14.00\" fill=\"#000000\">value = [0, 6]</text>\n<text text-anchor=\"middle\" x=\"1419\" y=\"-119.3\" font-family=\"Helvetica,sans-Serif\" font-size=\"14.00\" fill=\"#000000\">class = 1</text>\n</g>\n<!-- 18&#45;&gt;22 -->\n<g id=\"edge22\" class=\"edge\">\n<title>18&#45;&gt;22</title>\n<path fill=\"none\" stroke=\"#000000\" d=\"M1401.4433,-222.8796C1403.8883,-212.1034 1406.529,-200.4647 1409.0014,-189.5677\"/>\n<polygon fill=\"#000000\" stroke=\"#000000\" points=\"1412.4148,-190.3415 1411.2143,-179.8149 1405.5883,-188.7926 1412.4148,-190.3415\"/>\n</g>\n<!-- 20 -->\n<g id=\"node21\" class=\"node\">\n<title>20</title>\n<polygon fill=\"#eead7f\" stroke=\"#000000\" points=\"1288,-68 1170,-68 1170,0 1288,0 1288,-68\"/>\n<text text-anchor=\"middle\" x=\"1229\" y=\"-52.8\" font-family=\"Helvetica,sans-Serif\" font-size=\"14.00\" fill=\"#000000\">entropy = 0.828</text>\n<text text-anchor=\"middle\" x=\"1229\" y=\"-37.8\" font-family=\"Helvetica,sans-Serif\" font-size=\"14.00\" fill=\"#000000\">samples = 23</text>\n<text text-anchor=\"middle\" x=\"1229\" y=\"-22.8\" font-family=\"Helvetica,sans-Serif\" font-size=\"14.00\" fill=\"#000000\">value = [17, 6]</text>\n<text text-anchor=\"middle\" x=\"1229\" y=\"-7.8\" font-family=\"Helvetica,sans-Serif\" font-size=\"14.00\" fill=\"#000000\">class = 0</text>\n</g>\n<!-- 19&#45;&gt;20 -->\n<g id=\"edge20\" class=\"edge\">\n<title>19&#45;&gt;20</title>\n<path fill=\"none\" stroke=\"#000000\" d=\"M1267.9135,-103.9815C1263.0585,-95.2504 1257.926,-86.0202 1253.0371,-77.2281\"/>\n<polygon fill=\"#000000\" stroke=\"#000000\" points=\"1255.9712,-75.3025 1248.0524,-68.2637 1249.8533,-78.7043 1255.9712,-75.3025\"/>\n</g>\n<!-- 21 -->\n<g id=\"node22\" class=\"node\">\n<title>21</title>\n<polygon fill=\"#72b9ec\" stroke=\"#000000\" points=\"1424,-68 1306,-68 1306,0 1424,0 1424,-68\"/>\n<text text-anchor=\"middle\" x=\"1365\" y=\"-52.8\" font-family=\"Helvetica,sans-Serif\" font-size=\"14.00\" fill=\"#000000\">entropy = 0.764</text>\n<text text-anchor=\"middle\" x=\"1365\" y=\"-37.8\" font-family=\"Helvetica,sans-Serif\" font-size=\"14.00\" fill=\"#000000\">samples = 9</text>\n<text text-anchor=\"middle\" x=\"1365\" y=\"-22.8\" font-family=\"Helvetica,sans-Serif\" font-size=\"14.00\" fill=\"#000000\">value = [2, 7]</text>\n<text text-anchor=\"middle\" x=\"1365\" y=\"-7.8\" font-family=\"Helvetica,sans-Serif\" font-size=\"14.00\" fill=\"#000000\">class = 1</text>\n</g>\n<!-- 19&#45;&gt;21 -->\n<g id=\"edge21\" class=\"edge\">\n<title>19&#45;&gt;21</title>\n<path fill=\"none\" stroke=\"#000000\" d=\"M1318.5549,-103.9815C1324.4715,-95.0666 1330.7335,-85.6313 1336.6787,-76.6734\"/>\n<polygon fill=\"#000000\" stroke=\"#000000\" points=\"1339.6464,-78.5311 1342.26,-68.2637 1333.814,-74.6602 1339.6464,-78.5311\"/>\n</g>\n<!-- 24 -->\n<g id=\"node25\" class=\"node\">\n<title>24</title>\n<polygon fill=\"#43a2e6\" stroke=\"#000000\" points=\"1695,-187 1531,-187 1531,-104 1695,-104 1695,-187\"/>\n<text text-anchor=\"middle\" x=\"1613\" y=\"-171.8\" font-family=\"Helvetica,sans-Serif\" font-size=\"14.00\" fill=\"#000000\">gender_Female &lt;= 0.5</text>\n<text text-anchor=\"middle\" x=\"1613\" y=\"-156.8\" font-family=\"Helvetica,sans-Serif\" font-size=\"14.00\" fill=\"#000000\">entropy = 0.28</text>\n<text text-anchor=\"middle\" x=\"1613\" y=\"-141.8\" font-family=\"Helvetica,sans-Serif\" font-size=\"14.00\" fill=\"#000000\">samples = 62</text>\n<text text-anchor=\"middle\" x=\"1613\" y=\"-126.8\" font-family=\"Helvetica,sans-Serif\" font-size=\"14.00\" fill=\"#000000\">value = [3, 59]</text>\n<text text-anchor=\"middle\" x=\"1613\" y=\"-111.8\" font-family=\"Helvetica,sans-Serif\" font-size=\"14.00\" fill=\"#000000\">class = 1</text>\n</g>\n<!-- 23&#45;&gt;24 -->\n<g id=\"edge24\" class=\"edge\">\n<title>23&#45;&gt;24</title>\n<path fill=\"none\" stroke=\"#000000\" d=\"M1629.9065,-222.8796C1628.0961,-214.5938 1626.1743,-205.798 1624.3005,-197.2216\"/>\n<polygon fill=\"#000000\" stroke=\"#000000\" points=\"1627.6863,-196.3205 1622.1324,-187.2981 1620.8476,-197.8147 1627.6863,-196.3205\"/>\n</g>\n<!-- 27 -->\n<g id=\"node28\" class=\"node\">\n<title>27</title>\n<polygon fill=\"#eeab7b\" stroke=\"#000000\" points=\"1831,-187 1713,-187 1713,-104 1831,-104 1831,-187\"/>\n<text text-anchor=\"middle\" x=\"1772\" y=\"-171.8\" font-family=\"Helvetica,sans-Serif\" font-size=\"14.00\" fill=\"#000000\">tenure &lt;= 1.5</text>\n<text text-anchor=\"middle\" x=\"1772\" y=\"-156.8\" font-family=\"Helvetica,sans-Serif\" font-size=\"14.00\" fill=\"#000000\">entropy = 0.811</text>\n<text text-anchor=\"middle\" x=\"1772\" y=\"-141.8\" font-family=\"Helvetica,sans-Serif\" font-size=\"14.00\" fill=\"#000000\">samples = 4</text>\n<text text-anchor=\"middle\" x=\"1772\" y=\"-126.8\" font-family=\"Helvetica,sans-Serif\" font-size=\"14.00\" fill=\"#000000\">value = [3, 1]</text>\n<text text-anchor=\"middle\" x=\"1772\" y=\"-111.8\" font-family=\"Helvetica,sans-Serif\" font-size=\"14.00\" fill=\"#000000\">class = 0</text>\n</g>\n<!-- 23&#45;&gt;27 -->\n<g id=\"edge27\" class=\"edge\">\n<title>23&#45;&gt;27</title>\n<path fill=\"none\" stroke=\"#000000\" d=\"M1685.5169,-222.8796C1695.8848,-213.6031 1706.9671,-203.6874 1717.6199,-194.1559\"/>\n<polygon fill=\"#000000\" stroke=\"#000000\" points=\"1720.1659,-196.5744 1725.2845,-187.2981 1715.4983,-191.3577 1720.1659,-196.5744\"/>\n</g>\n<!-- 25 -->\n<g id=\"node26\" class=\"node\">\n<title>25</title>\n<polygon fill=\"#54aae9\" stroke=\"#000000\" points=\"1560,-68 1442,-68 1442,0 1560,0 1560,-68\"/>\n<text text-anchor=\"middle\" x=\"1501\" y=\"-52.8\" font-family=\"Helvetica,sans-Serif\" font-size=\"14.00\" fill=\"#000000\">entropy = 0.529</text>\n<text text-anchor=\"middle\" x=\"1501\" y=\"-37.8\" font-family=\"Helvetica,sans-Serif\" font-size=\"14.00\" fill=\"#000000\">samples = 25</text>\n<text text-anchor=\"middle\" x=\"1501\" y=\"-22.8\" font-family=\"Helvetica,sans-Serif\" font-size=\"14.00\" fill=\"#000000\">value = [3, 22]</text>\n<text text-anchor=\"middle\" x=\"1501\" y=\"-7.8\" font-family=\"Helvetica,sans-Serif\" font-size=\"14.00\" fill=\"#000000\">class = 1</text>\n</g>\n<!-- 24&#45;&gt;25 -->\n<g id=\"edge25\" class=\"edge\">\n<title>24&#45;&gt;25</title>\n<path fill=\"none\" stroke=\"#000000\" d=\"M1571.2953,-103.9815C1561.9711,-94.6989 1552.0803,-84.8522 1542.7541,-75.5677\"/>\n<polygon fill=\"#000000\" stroke=\"#000000\" points=\"1544.9736,-72.8385 1535.4173,-68.2637 1540.0349,-77.7993 1544.9736,-72.8385\"/>\n</g>\n<!-- 26 -->\n<g id=\"node27\" class=\"node\">\n<title>26</title>\n<polygon fill=\"#399de5\" stroke=\"#000000\" points=\"1685.5,-68 1578.5,-68 1578.5,0 1685.5,0 1685.5,-68\"/>\n<text text-anchor=\"middle\" x=\"1632\" y=\"-52.8\" font-family=\"Helvetica,sans-Serif\" font-size=\"14.00\" fill=\"#000000\">entropy = 0.0</text>\n<text text-anchor=\"middle\" x=\"1632\" y=\"-37.8\" font-family=\"Helvetica,sans-Serif\" font-size=\"14.00\" fill=\"#000000\">samples = 37</text>\n<text text-anchor=\"middle\" x=\"1632\" y=\"-22.8\" font-family=\"Helvetica,sans-Serif\" font-size=\"14.00\" fill=\"#000000\">value = [0, 37]</text>\n<text text-anchor=\"middle\" x=\"1632\" y=\"-7.8\" font-family=\"Helvetica,sans-Serif\" font-size=\"14.00\" fill=\"#000000\">class = 1</text>\n</g>\n<!-- 24&#45;&gt;26 -->\n<g id=\"edge26\" class=\"edge\">\n<title>24&#45;&gt;26</title>\n<path fill=\"none\" stroke=\"#000000\" d=\"M1620.0749,-103.9815C1621.5001,-95.618 1623.0033,-86.7965 1624.4442,-78.3409\"/>\n<polygon fill=\"#000000\" stroke=\"#000000\" points=\"1627.9317,-78.7095 1626.1613,-68.2637 1621.0312,-77.5336 1627.9317,-78.7095\"/>\n</g>\n<!-- 28 -->\n<g id=\"node29\" class=\"node\">\n<title>28</title>\n<polygon fill=\"#e58139\" stroke=\"#000000\" points=\"1804.5,-68 1703.5,-68 1703.5,0 1804.5,0 1804.5,-68\"/>\n<text text-anchor=\"middle\" x=\"1754\" y=\"-52.8\" font-family=\"Helvetica,sans-Serif\" font-size=\"14.00\" fill=\"#000000\">entropy = 0.0</text>\n<text text-anchor=\"middle\" x=\"1754\" y=\"-37.8\" font-family=\"Helvetica,sans-Serif\" font-size=\"14.00\" fill=\"#000000\">samples = 2</text>\n<text text-anchor=\"middle\" x=\"1754\" y=\"-22.8\" font-family=\"Helvetica,sans-Serif\" font-size=\"14.00\" fill=\"#000000\">value = [2, 0]</text>\n<text text-anchor=\"middle\" x=\"1754\" y=\"-7.8\" font-family=\"Helvetica,sans-Serif\" font-size=\"14.00\" fill=\"#000000\">class = 0</text>\n</g>\n<!-- 27&#45;&gt;28 -->\n<g id=\"edge28\" class=\"edge\">\n<title>27&#45;&gt;28</title>\n<path fill=\"none\" stroke=\"#000000\" d=\"M1765.2975,-103.9815C1763.9473,-95.618 1762.5232,-86.7965 1761.1582,-78.3409\"/>\n<polygon fill=\"#000000\" stroke=\"#000000\" points=\"1764.5804,-77.578 1759.5314,-68.2637 1757.6699,-78.6937 1764.5804,-77.578\"/>\n</g>\n<!-- 29 -->\n<g id=\"node30\" class=\"node\">\n<title>29</title>\n<polygon fill=\"#ffffff\" stroke=\"#000000\" points=\"1923.5,-68 1822.5,-68 1822.5,0 1923.5,0 1923.5,-68\"/>\n<text text-anchor=\"middle\" x=\"1873\" y=\"-52.8\" font-family=\"Helvetica,sans-Serif\" font-size=\"14.00\" fill=\"#000000\">entropy = 1.0</text>\n<text text-anchor=\"middle\" x=\"1873\" y=\"-37.8\" font-family=\"Helvetica,sans-Serif\" font-size=\"14.00\" fill=\"#000000\">samples = 2</text>\n<text text-anchor=\"middle\" x=\"1873\" y=\"-22.8\" font-family=\"Helvetica,sans-Serif\" font-size=\"14.00\" fill=\"#000000\">value = [1, 1]</text>\n<text text-anchor=\"middle\" x=\"1873\" y=\"-7.8\" font-family=\"Helvetica,sans-Serif\" font-size=\"14.00\" fill=\"#000000\">class = 0</text>\n</g>\n<!-- 27&#45;&gt;29 -->\n<g id=\"edge29\" class=\"edge\">\n<title>27&#45;&gt;29</title>\n<path fill=\"none\" stroke=\"#000000\" d=\"M1809.6087,-103.9815C1817.9339,-94.7908 1826.76,-85.0472 1835.0968,-75.8436\"/>\n<polygon fill=\"#000000\" stroke=\"#000000\" points=\"1837.8434,-78.0248 1841.963,-68.2637 1832.6554,-73.3254 1837.8434,-78.0248\"/>\n</g>\n<!-- 31 -->\n<g id=\"node32\" class=\"node\">\n<title>31</title>\n<polygon fill=\"#d3e9f9\" stroke=\"#000000\" points=\"2586,-425 2454,-425 2454,-342 2586,-342 2586,-425\"/>\n<text text-anchor=\"middle\" x=\"2520\" y=\"-409.8\" font-family=\"Helvetica,sans-Serif\" font-size=\"14.00\" fill=\"#000000\">age &lt;= 50.5</text>\n<text text-anchor=\"middle\" x=\"2520\" y=\"-394.8\" font-family=\"Helvetica,sans-Serif\" font-size=\"14.00\" fill=\"#000000\">entropy = 0.989</text>\n<text text-anchor=\"middle\" x=\"2520\" y=\"-379.8\" font-family=\"Helvetica,sans-Serif\" font-size=\"14.00\" fill=\"#000000\">samples = 1035</text>\n<text text-anchor=\"middle\" x=\"2520\" y=\"-364.8\" font-family=\"Helvetica,sans-Serif\" font-size=\"14.00\" fill=\"#000000\">value = [453, 582]</text>\n<text text-anchor=\"middle\" x=\"2520\" y=\"-349.8\" font-family=\"Helvetica,sans-Serif\" font-size=\"14.00\" fill=\"#000000\">class = 1</text>\n</g>\n<!-- 30&#45;&gt;31 -->\n<g id=\"edge31\" class=\"edge\">\n<title>30&#45;&gt;31</title>\n<path fill=\"none\" stroke=\"#000000\" d=\"M2520,-460.8796C2520,-452.6838 2520,-443.9891 2520,-435.5013\"/>\n<polygon fill=\"#000000\" stroke=\"#000000\" points=\"2523.5001,-435.298 2520,-425.2981 2516.5001,-435.2981 2523.5001,-435.298\"/>\n</g>\n<!-- 46 -->\n<g id=\"node47\" class=\"node\">\n<title>46</title>\n<polygon fill=\"#eeaf81\" stroke=\"#000000\" points=\"3392.5,-425 3217.5,-425 3217.5,-342 3392.5,-342 3392.5,-425\"/>\n<text text-anchor=\"middle\" x=\"3305\" y=\"-409.8\" font-family=\"Helvetica,sans-Serif\" font-size=\"14.00\" fill=\"#000000\">products_number &lt;= 2.5</text>\n<text text-anchor=\"middle\" x=\"3305\" y=\"-394.8\" font-family=\"Helvetica,sans-Serif\" font-size=\"14.00\" fill=\"#000000\">entropy = 0.837</text>\n<text text-anchor=\"middle\" x=\"3305\" y=\"-379.8\" font-family=\"Helvetica,sans-Serif\" font-size=\"14.00\" fill=\"#000000\">samples = 1217</text>\n<text text-anchor=\"middle\" x=\"3305\" y=\"-364.8\" font-family=\"Helvetica,sans-Serif\" font-size=\"14.00\" fill=\"#000000\">value = [892, 325]</text>\n<text text-anchor=\"middle\" x=\"3305\" y=\"-349.8\" font-family=\"Helvetica,sans-Serif\" font-size=\"14.00\" fill=\"#000000\">class = 0</text>\n</g>\n<!-- 30&#45;&gt;46 -->\n<g id=\"edge46\" class=\"edge\">\n<title>30&#45;&gt;46</title>\n<path fill=\"none\" stroke=\"#000000\" d=\"M2600.6856,-490.2687C2745.8783,-468.2586 3050.607,-422.064 3207.329,-398.3062\"/>\n<polygon fill=\"#000000\" stroke=\"#000000\" points=\"3208.0722,-401.7336 3217.4347,-396.7742 3207.023,-394.8127 3208.0722,-401.7336\"/>\n</g>\n<!-- 32 -->\n<g id=\"node33\" class=\"node\">\n<title>32</title>\n<polygon fill=\"#fae5d6\" stroke=\"#000000\" points=\"2467.5,-306 2292.5,-306 2292.5,-223 2467.5,-223 2467.5,-306\"/>\n<text text-anchor=\"middle\" x=\"2380\" y=\"-290.8\" font-family=\"Helvetica,sans-Serif\" font-size=\"14.00\" fill=\"#000000\">products_number &lt;= 1.5</text>\n<text text-anchor=\"middle\" x=\"2380\" y=\"-275.8\" font-family=\"Helvetica,sans-Serif\" font-size=\"14.00\" fill=\"#000000\">entropy = 0.991</text>\n<text text-anchor=\"middle\" x=\"2380\" y=\"-260.8\" font-family=\"Helvetica,sans-Serif\" font-size=\"14.00\" fill=\"#000000\">samples = 727</text>\n<text text-anchor=\"middle\" x=\"2380\" y=\"-245.8\" font-family=\"Helvetica,sans-Serif\" font-size=\"14.00\" fill=\"#000000\">value = [405, 322]</text>\n<text text-anchor=\"middle\" x=\"2380\" y=\"-230.8\" font-family=\"Helvetica,sans-Serif\" font-size=\"14.00\" fill=\"#000000\">class = 0</text>\n</g>\n<!-- 31&#45;&gt;32 -->\n<g id=\"edge32\" class=\"edge\">\n<title>31&#45;&gt;32</title>\n<path fill=\"none\" stroke=\"#000000\" d=\"M2471.0348,-341.8796C2460.0153,-332.513 2448.2291,-322.4948 2436.9158,-312.8784\"/>\n<polygon fill=\"#000000\" stroke=\"#000000\" points=\"2439.0604,-310.1078 2429.1742,-306.2981 2434.5268,-315.4414 2439.0604,-310.1078\"/>\n</g>\n<!-- 39 -->\n<g id=\"node40\" class=\"node\">\n<title>39</title>\n<polygon fill=\"#5eafea\" stroke=\"#000000\" points=\"2669,-306 2545,-306 2545,-223 2669,-223 2669,-306\"/>\n<text text-anchor=\"middle\" x=\"2607\" y=\"-290.8\" font-family=\"Helvetica,sans-Serif\" font-size=\"14.00\" fill=\"#000000\">age &lt;= 73.5</text>\n<text text-anchor=\"middle\" x=\"2607\" y=\"-275.8\" font-family=\"Helvetica,sans-Serif\" font-size=\"14.00\" fill=\"#000000\">entropy = 0.624</text>\n<text text-anchor=\"middle\" x=\"2607\" y=\"-260.8\" font-family=\"Helvetica,sans-Serif\" font-size=\"14.00\" fill=\"#000000\">samples = 308</text>\n<text text-anchor=\"middle\" x=\"2607\" y=\"-245.8\" font-family=\"Helvetica,sans-Serif\" font-size=\"14.00\" fill=\"#000000\">value = [48, 260]</text>\n<text text-anchor=\"middle\" x=\"2607\" y=\"-230.8\" font-family=\"Helvetica,sans-Serif\" font-size=\"14.00\" fill=\"#000000\">class = 1</text>\n</g>\n<!-- 31&#45;&gt;39 -->\n<g id=\"edge39\" class=\"edge\">\n<title>31&#45;&gt;39</title>\n<path fill=\"none\" stroke=\"#000000\" d=\"M2550.4284,-341.8796C2556.8811,-333.0534 2563.757,-323.6485 2570.4113,-314.5466\"/>\n<polygon fill=\"#000000\" stroke=\"#000000\" points=\"2573.3653,-316.4364 2576.4417,-306.2981 2567.7144,-312.3051 2573.3653,-316.4364\"/>\n</g>\n<!-- 33 -->\n<g id=\"node34\" class=\"node\">\n<title>33</title>\n<polygon fill=\"#cfe7f9\" stroke=\"#000000\" points=\"2220,-187 2088,-187 2088,-104 2220,-104 2220,-187\"/>\n<text text-anchor=\"middle\" x=\"2154\" y=\"-171.8\" font-family=\"Helvetica,sans-Serif\" font-size=\"14.00\" fill=\"#000000\">age &lt;= 45.5</text>\n<text text-anchor=\"middle\" x=\"2154\" y=\"-156.8\" font-family=\"Helvetica,sans-Serif\" font-size=\"14.00\" fill=\"#000000\">entropy = 0.986</text>\n<text text-anchor=\"middle\" x=\"2154\" y=\"-141.8\" font-family=\"Helvetica,sans-Serif\" font-size=\"14.00\" fill=\"#000000\">samples = 424</text>\n<text text-anchor=\"middle\" x=\"2154\" y=\"-126.8\" font-family=\"Helvetica,sans-Serif\" font-size=\"14.00\" fill=\"#000000\">value = [183, 241]</text>\n<text text-anchor=\"middle\" x=\"2154\" y=\"-111.8\" font-family=\"Helvetica,sans-Serif\" font-size=\"14.00\" fill=\"#000000\">class = 1</text>\n</g>\n<!-- 32&#45;&gt;33 -->\n<g id=\"edge33\" class=\"edge\">\n<title>32&#45;&gt;33</title>\n<path fill=\"none\" stroke=\"#000000\" d=\"M2300.9562,-222.8796C2277.6951,-210.6315 2252.3178,-197.2691 2229.2982,-185.1481\"/>\n<polygon fill=\"#000000\" stroke=\"#000000\" points=\"2230.7452,-181.9546 2220.2661,-180.3923 2227.4838,-188.1484 2230.7452,-181.9546\"/>\n</g>\n<!-- 36 -->\n<g id=\"node37\" class=\"node\">\n<title>36</title>\n<polygon fill=\"#eeaf81\" stroke=\"#000000\" points=\"2467.5,-187 2292.5,-187 2292.5,-104 2467.5,-104 2467.5,-187\"/>\n<text text-anchor=\"middle\" x=\"2380\" y=\"-171.8\" font-family=\"Helvetica,sans-Serif\" font-size=\"14.00\" fill=\"#000000\">products_number &lt;= 2.5</text>\n<text text-anchor=\"middle\" x=\"2380\" y=\"-156.8\" font-family=\"Helvetica,sans-Serif\" font-size=\"14.00\" fill=\"#000000\">entropy = 0.838</text>\n<text text-anchor=\"middle\" x=\"2380\" y=\"-141.8\" font-family=\"Helvetica,sans-Serif\" font-size=\"14.00\" fill=\"#000000\">samples = 303</text>\n<text text-anchor=\"middle\" x=\"2380\" y=\"-126.8\" font-family=\"Helvetica,sans-Serif\" font-size=\"14.00\" fill=\"#000000\">value = [222, 81]</text>\n<text text-anchor=\"middle\" x=\"2380\" y=\"-111.8\" font-family=\"Helvetica,sans-Serif\" font-size=\"14.00\" fill=\"#000000\">class = 0</text>\n</g>\n<!-- 32&#45;&gt;36 -->\n<g id=\"edge36\" class=\"edge\">\n<title>32&#45;&gt;36</title>\n<path fill=\"none\" stroke=\"#000000\" d=\"M2380,-222.8796C2380,-214.6838 2380,-205.9891 2380,-197.5013\"/>\n<polygon fill=\"#000000\" stroke=\"#000000\" points=\"2383.5001,-197.298 2380,-187.2981 2376.5001,-197.2981 2383.5001,-197.298\"/>\n</g>\n<!-- 34 -->\n<g id=\"node35\" class=\"node\">\n<title>34</title>\n<polygon fill=\"#fcefe5\" stroke=\"#000000\" points=\"2074,-68 1942,-68 1942,0 2074,0 2074,-68\"/>\n<text text-anchor=\"middle\" x=\"2008\" y=\"-52.8\" font-family=\"Helvetica,sans-Serif\" font-size=\"14.00\" fill=\"#000000\">entropy = 0.996</text>\n<text text-anchor=\"middle\" x=\"2008\" y=\"-37.8\" font-family=\"Helvetica,sans-Serif\" font-size=\"14.00\" fill=\"#000000\">samples = 215</text>\n<text text-anchor=\"middle\" x=\"2008\" y=\"-22.8\" font-family=\"Helvetica,sans-Serif\" font-size=\"14.00\" fill=\"#000000\">value = [115, 100]</text>\n<text text-anchor=\"middle\" x=\"2008\" y=\"-7.8\" font-family=\"Helvetica,sans-Serif\" font-size=\"14.00\" fill=\"#000000\">class = 0</text>\n</g>\n<!-- 33&#45;&gt;34 -->\n<g id=\"edge34\" class=\"edge\">\n<title>33&#45;&gt;34</title>\n<path fill=\"none\" stroke=\"#000000\" d=\"M2099.635,-103.9815C2086.9989,-94.3313 2073.5644,-84.0714 2060.9885,-74.4673\"/>\n<polygon fill=\"#000000\" stroke=\"#000000\" points=\"2062.9372,-71.5515 2052.8654,-68.2637 2058.6886,-77.1148 2062.9372,-71.5515\"/>\n</g>\n<!-- 35 -->\n<g id=\"node36\" class=\"node\">\n<title>35</title>\n<polygon fill=\"#98ccf2\" stroke=\"#000000\" points=\"2216,-68 2092,-68 2092,0 2216,0 2216,-68\"/>\n<text text-anchor=\"middle\" x=\"2154\" y=\"-52.8\" font-family=\"Helvetica,sans-Serif\" font-size=\"14.00\" fill=\"#000000\">entropy = 0.91</text>\n<text text-anchor=\"middle\" x=\"2154\" y=\"-37.8\" font-family=\"Helvetica,sans-Serif\" font-size=\"14.00\" fill=\"#000000\">samples = 209</text>\n<text text-anchor=\"middle\" x=\"2154\" y=\"-22.8\" font-family=\"Helvetica,sans-Serif\" font-size=\"14.00\" fill=\"#000000\">value = [68, 141]</text>\n<text text-anchor=\"middle\" x=\"2154\" y=\"-7.8\" font-family=\"Helvetica,sans-Serif\" font-size=\"14.00\" fill=\"#000000\">class = 1</text>\n</g>\n<!-- 33&#45;&gt;35 -->\n<g id=\"edge35\" class=\"edge\">\n<title>33&#45;&gt;35</title>\n<path fill=\"none\" stroke=\"#000000\" d=\"M2154,-103.9815C2154,-95.618 2154,-86.7965 2154,-78.3409\"/>\n<polygon fill=\"#000000\" stroke=\"#000000\" points=\"2157.5001,-78.2636 2154,-68.2637 2150.5001,-78.2637 2157.5001,-78.2636\"/>\n</g>\n<!-- 37 -->\n<g id=\"node38\" class=\"node\">\n<title>37</title>\n<polygon fill=\"#ea985e\" stroke=\"#000000\" points=\"2358,-68 2234,-68 2234,0 2358,0 2358,-68\"/>\n<text text-anchor=\"middle\" x=\"2296\" y=\"-52.8\" font-family=\"Helvetica,sans-Serif\" font-size=\"14.00\" fill=\"#000000\">entropy = 0.626</text>\n<text text-anchor=\"middle\" x=\"2296\" y=\"-37.8\" font-family=\"Helvetica,sans-Serif\" font-size=\"14.00\" fill=\"#000000\">samples = 262</text>\n<text text-anchor=\"middle\" x=\"2296\" y=\"-22.8\" font-family=\"Helvetica,sans-Serif\" font-size=\"14.00\" fill=\"#000000\">value = [221, 41]</text>\n<text text-anchor=\"middle\" x=\"2296\" y=\"-7.8\" font-family=\"Helvetica,sans-Serif\" font-size=\"14.00\" fill=\"#000000\">class = 0</text>\n</g>\n<!-- 36&#45;&gt;37 -->\n<g id=\"edge37\" class=\"edge\">\n<title>36&#45;&gt;37</title>\n<path fill=\"none\" stroke=\"#000000\" d=\"M2348.7215,-103.9815C2341.9361,-94.9747 2334.7505,-85.4367 2327.9399,-76.3965\"/>\n<polygon fill=\"#000000\" stroke=\"#000000\" points=\"2330.6257,-74.1448 2321.813,-68.2637 2325.0347,-78.3568 2330.6257,-74.1448\"/>\n</g>\n<!-- 38 -->\n<g id=\"node39\" class=\"node\">\n<title>38</title>\n<polygon fill=\"#3e9fe6\" stroke=\"#000000\" points=\"2494,-68 2376,-68 2376,0 2494,0 2494,-68\"/>\n<text text-anchor=\"middle\" x=\"2435\" y=\"-52.8\" font-family=\"Helvetica,sans-Serif\" font-size=\"14.00\" fill=\"#000000\">entropy = 0.165</text>\n<text text-anchor=\"middle\" x=\"2435\" y=\"-37.8\" font-family=\"Helvetica,sans-Serif\" font-size=\"14.00\" fill=\"#000000\">samples = 41</text>\n<text text-anchor=\"middle\" x=\"2435\" y=\"-22.8\" font-family=\"Helvetica,sans-Serif\" font-size=\"14.00\" fill=\"#000000\">value = [1, 40]</text>\n<text text-anchor=\"middle\" x=\"2435\" y=\"-7.8\" font-family=\"Helvetica,sans-Serif\" font-size=\"14.00\" fill=\"#000000\">class = 1</text>\n</g>\n<!-- 36&#45;&gt;38 -->\n<g id=\"edge38\" class=\"edge\">\n<title>36&#45;&gt;38</title>\n<path fill=\"none\" stroke=\"#000000\" d=\"M2400.48,-103.9815C2404.7415,-95.3423 2409.244,-86.2144 2413.5397,-77.5059\"/>\n<polygon fill=\"#000000\" stroke=\"#000000\" points=\"2416.8137,-78.7803 2418.0986,-68.2637 2410.5359,-75.6836 2416.8137,-78.7803\"/>\n</g>\n<!-- 40 -->\n<g id=\"node41\" class=\"node\">\n<title>40</title>\n<polygon fill=\"#5baee9\" stroke=\"#000000\" points=\"2669,-187 2545,-187 2545,-104 2669,-104 2669,-187\"/>\n<text text-anchor=\"middle\" x=\"2607\" y=\"-171.8\" font-family=\"Helvetica,sans-Serif\" font-size=\"14.00\" fill=\"#000000\">age &lt;= 53.5</text>\n<text text-anchor=\"middle\" x=\"2607\" y=\"-156.8\" font-family=\"Helvetica,sans-Serif\" font-size=\"14.00\" fill=\"#000000\">entropy = 0.598</text>\n<text text-anchor=\"middle\" x=\"2607\" y=\"-141.8\" font-family=\"Helvetica,sans-Serif\" font-size=\"14.00\" fill=\"#000000\">samples = 303</text>\n<text text-anchor=\"middle\" x=\"2607\" y=\"-126.8\" font-family=\"Helvetica,sans-Serif\" font-size=\"14.00\" fill=\"#000000\">value = [44, 259]</text>\n<text text-anchor=\"middle\" x=\"2607\" y=\"-111.8\" font-family=\"Helvetica,sans-Serif\" font-size=\"14.00\" fill=\"#000000\">class = 1</text>\n</g>\n<!-- 39&#45;&gt;40 -->\n<g id=\"edge40\" class=\"edge\">\n<title>39&#45;&gt;40</title>\n<path fill=\"none\" stroke=\"#000000\" d=\"M2607,-222.8796C2607,-214.6838 2607,-205.9891 2607,-197.5013\"/>\n<polygon fill=\"#000000\" stroke=\"#000000\" points=\"2610.5001,-197.298 2607,-187.2981 2603.5001,-197.2981 2610.5001,-197.298\"/>\n</g>\n<!-- 43 -->\n<g id=\"node44\" class=\"node\">\n<title>43</title>\n<polygon fill=\"#eca06a\" stroke=\"#000000\" points=\"2953.5,-187 2724.5,-187 2724.5,-104 2953.5,-104 2953.5,-187\"/>\n<text text-anchor=\"middle\" x=\"2839\" y=\"-171.8\" font-family=\"Helvetica,sans-Serif\" font-size=\"14.00\" fill=\"#000000\">estimated_salary &lt;= 137504.832</text>\n<text text-anchor=\"middle\" x=\"2839\" y=\"-156.8\" font-family=\"Helvetica,sans-Serif\" font-size=\"14.00\" fill=\"#000000\">entropy = 0.722</text>\n<text text-anchor=\"middle\" x=\"2839\" y=\"-141.8\" font-family=\"Helvetica,sans-Serif\" font-size=\"14.00\" fill=\"#000000\">samples = 5</text>\n<text text-anchor=\"middle\" x=\"2839\" y=\"-126.8\" font-family=\"Helvetica,sans-Serif\" font-size=\"14.00\" fill=\"#000000\">value = [4, 1]</text>\n<text text-anchor=\"middle\" x=\"2839\" y=\"-111.8\" font-family=\"Helvetica,sans-Serif\" font-size=\"14.00\" fill=\"#000000\">class = 0</text>\n</g>\n<!-- 39&#45;&gt;43 -->\n<g id=\"edge43\" class=\"edge\">\n<title>39&#45;&gt;43</title>\n<path fill=\"none\" stroke=\"#000000\" d=\"M2669.1717,-232.6102C2693.6514,-220.0538 2722.2404,-205.3896 2748.905,-191.7125\"/>\n<polygon fill=\"#000000\" stroke=\"#000000\" points=\"2750.5649,-194.7947 2757.8653,-187.1165 2747.3701,-188.5663 2750.5649,-194.7947\"/>\n</g>\n<!-- 41 -->\n<g id=\"node42\" class=\"node\">\n<title>41</title>\n<polygon fill=\"#78bced\" stroke=\"#000000\" points=\"2628,-68 2512,-68 2512,0 2628,0 2628,-68\"/>\n<text text-anchor=\"middle\" x=\"2570\" y=\"-52.8\" font-family=\"Helvetica,sans-Serif\" font-size=\"14.00\" fill=\"#000000\">entropy = 0.8</text>\n<text text-anchor=\"middle\" x=\"2570\" y=\"-37.8\" font-family=\"Helvetica,sans-Serif\" font-size=\"14.00\" fill=\"#000000\">samples = 103</text>\n<text text-anchor=\"middle\" x=\"2570\" y=\"-22.8\" font-family=\"Helvetica,sans-Serif\" font-size=\"14.00\" fill=\"#000000\">value = [25, 78]</text>\n<text text-anchor=\"middle\" x=\"2570\" y=\"-7.8\" font-family=\"Helvetica,sans-Serif\" font-size=\"14.00\" fill=\"#000000\">class = 1</text>\n</g>\n<!-- 40&#45;&gt;41 -->\n<g id=\"edge41\" class=\"edge\">\n<title>40&#45;&gt;41</title>\n<path fill=\"none\" stroke=\"#000000\" d=\"M2593.2226,-103.9815C2590.3862,-95.4342 2587.3912,-86.4086 2584.5292,-77.7839\"/>\n<polygon fill=\"#000000\" stroke=\"#000000\" points=\"2587.8415,-76.6524 2581.37,-68.2637 2581.1977,-78.8571 2587.8415,-76.6524\"/>\n</g>\n<!-- 42 -->\n<g id=\"node43\" class=\"node\">\n<title>42</title>\n<polygon fill=\"#4ea7e8\" stroke=\"#000000\" points=\"2770,-68 2646,-68 2646,0 2770,0 2770,-68\"/>\n<text text-anchor=\"middle\" x=\"2708\" y=\"-52.8\" font-family=\"Helvetica,sans-Serif\" font-size=\"14.00\" fill=\"#000000\">entropy = 0.453</text>\n<text text-anchor=\"middle\" x=\"2708\" y=\"-37.8\" font-family=\"Helvetica,sans-Serif\" font-size=\"14.00\" fill=\"#000000\">samples = 200</text>\n<text text-anchor=\"middle\" x=\"2708\" y=\"-22.8\" font-family=\"Helvetica,sans-Serif\" font-size=\"14.00\" fill=\"#000000\">value = [19, 181]</text>\n<text text-anchor=\"middle\" x=\"2708\" y=\"-7.8\" font-family=\"Helvetica,sans-Serif\" font-size=\"14.00\" fill=\"#000000\">class = 1</text>\n</g>\n<!-- 40&#45;&gt;42 -->\n<g id=\"edge42\" class=\"edge\">\n<title>40&#45;&gt;42</title>\n<path fill=\"none\" stroke=\"#000000\" d=\"M2644.6087,-103.9815C2652.9339,-94.7908 2661.76,-85.0472 2670.0968,-75.8436\"/>\n<polygon fill=\"#000000\" stroke=\"#000000\" points=\"2672.8434,-78.0248 2676.963,-68.2637 2667.6554,-73.3254 2672.8434,-78.0248\"/>\n</g>\n<!-- 44 -->\n<g id=\"node45\" class=\"node\">\n<title>44</title>\n<polygon fill=\"#e58139\" stroke=\"#000000\" points=\"2889.5,-68 2788.5,-68 2788.5,0 2889.5,0 2889.5,-68\"/>\n<text text-anchor=\"middle\" x=\"2839\" y=\"-52.8\" font-family=\"Helvetica,sans-Serif\" font-size=\"14.00\" fill=\"#000000\">entropy = 0.0</text>\n<text text-anchor=\"middle\" x=\"2839\" y=\"-37.8\" font-family=\"Helvetica,sans-Serif\" font-size=\"14.00\" fill=\"#000000\">samples = 3</text>\n<text text-anchor=\"middle\" x=\"2839\" y=\"-22.8\" font-family=\"Helvetica,sans-Serif\" font-size=\"14.00\" fill=\"#000000\">value = [3, 0]</text>\n<text text-anchor=\"middle\" x=\"2839\" y=\"-7.8\" font-family=\"Helvetica,sans-Serif\" font-size=\"14.00\" fill=\"#000000\">class = 0</text>\n</g>\n<!-- 43&#45;&gt;44 -->\n<g id=\"edge44\" class=\"edge\">\n<title>43&#45;&gt;44</title>\n<path fill=\"none\" stroke=\"#000000\" d=\"M2839,-103.9815C2839,-95.618 2839,-86.7965 2839,-78.3409\"/>\n<polygon fill=\"#000000\" stroke=\"#000000\" points=\"2842.5001,-78.2636 2839,-68.2637 2835.5001,-78.2637 2842.5001,-78.2636\"/>\n</g>\n<!-- 45 -->\n<g id=\"node46\" class=\"node\">\n<title>45</title>\n<polygon fill=\"#ffffff\" stroke=\"#000000\" points=\"3008.5,-68 2907.5,-68 2907.5,0 3008.5,0 3008.5,-68\"/>\n<text text-anchor=\"middle\" x=\"2958\" y=\"-52.8\" font-family=\"Helvetica,sans-Serif\" font-size=\"14.00\" fill=\"#000000\">entropy = 1.0</text>\n<text text-anchor=\"middle\" x=\"2958\" y=\"-37.8\" font-family=\"Helvetica,sans-Serif\" font-size=\"14.00\" fill=\"#000000\">samples = 2</text>\n<text text-anchor=\"middle\" x=\"2958\" y=\"-22.8\" font-family=\"Helvetica,sans-Serif\" font-size=\"14.00\" fill=\"#000000\">value = [1, 1]</text>\n<text text-anchor=\"middle\" x=\"2958\" y=\"-7.8\" font-family=\"Helvetica,sans-Serif\" font-size=\"14.00\" fill=\"#000000\">class = 0</text>\n</g>\n<!-- 43&#45;&gt;45 -->\n<g id=\"edge45\" class=\"edge\">\n<title>43&#45;&gt;45</title>\n<path fill=\"none\" stroke=\"#000000\" d=\"M2883.3112,-103.9815C2893.3163,-94.607 2903.9354,-84.6572 2913.9304,-75.2921\"/>\n<polygon fill=\"#000000\" stroke=\"#000000\" points=\"2916.5274,-77.6551 2921.4316,-68.2637 2911.7412,-72.547 2916.5274,-77.6551\"/>\n</g>\n<!-- 47 -->\n<g id=\"node48\" class=\"node\">\n<title>47</title>\n<polygon fill=\"#eda876\" stroke=\"#000000\" points=\"3392.5,-306 3217.5,-306 3217.5,-223 3392.5,-223 3392.5,-306\"/>\n<text text-anchor=\"middle\" x=\"3305\" y=\"-290.8\" font-family=\"Helvetica,sans-Serif\" font-size=\"14.00\" fill=\"#000000\">products_number &lt;= 1.5</text>\n<text text-anchor=\"middle\" x=\"3305\" y=\"-275.8\" font-family=\"Helvetica,sans-Serif\" font-size=\"14.00\" fill=\"#000000\">entropy = 0.787</text>\n<text text-anchor=\"middle\" x=\"3305\" y=\"-260.8\" font-family=\"Helvetica,sans-Serif\" font-size=\"14.00\" fill=\"#000000\">samples = 1162</text>\n<text text-anchor=\"middle\" x=\"3305\" y=\"-245.8\" font-family=\"Helvetica,sans-Serif\" font-size=\"14.00\" fill=\"#000000\">value = [889, 273]</text>\n<text text-anchor=\"middle\" x=\"3305\" y=\"-230.8\" font-family=\"Helvetica,sans-Serif\" font-size=\"14.00\" fill=\"#000000\">class = 0</text>\n</g>\n<!-- 46&#45;&gt;47 -->\n<g id=\"edge47\" class=\"edge\">\n<title>46&#45;&gt;47</title>\n<path fill=\"none\" stroke=\"#000000\" d=\"M3305,-341.8796C3305,-333.6838 3305,-324.9891 3305,-316.5013\"/>\n<polygon fill=\"#000000\" stroke=\"#000000\" points=\"3308.5001,-316.298 3305,-306.2981 3301.5001,-316.2981 3308.5001,-316.298\"/>\n</g>\n<!-- 54 -->\n<g id=\"node55\" class=\"node\">\n<title>54</title>\n<polygon fill=\"#44a3e6\" stroke=\"#000000\" points=\"3737,-306 3575,-306 3575,-223 3737,-223 3737,-306\"/>\n<text text-anchor=\"middle\" x=\"3656\" y=\"-290.8\" font-family=\"Helvetica,sans-Serif\" font-size=\"14.00\" fill=\"#000000\">balance &lt;= 57003.365</text>\n<text text-anchor=\"middle\" x=\"3656\" y=\"-275.8\" font-family=\"Helvetica,sans-Serif\" font-size=\"14.00\" fill=\"#000000\">entropy = 0.305</text>\n<text text-anchor=\"middle\" x=\"3656\" y=\"-260.8\" font-family=\"Helvetica,sans-Serif\" font-size=\"14.00\" fill=\"#000000\">samples = 55</text>\n<text text-anchor=\"middle\" x=\"3656\" y=\"-245.8\" font-family=\"Helvetica,sans-Serif\" font-size=\"14.00\" fill=\"#000000\">value = [3, 52]</text>\n<text text-anchor=\"middle\" x=\"3656\" y=\"-230.8\" font-family=\"Helvetica,sans-Serif\" font-size=\"14.00\" fill=\"#000000\">class = 1</text>\n</g>\n<!-- 46&#45;&gt;54 -->\n<g id=\"edge54\" class=\"edge\">\n<title>46&#45;&gt;54</title>\n<path fill=\"none\" stroke=\"#000000\" d=\"M3392.6667,-353.7782C3445.2347,-335.956 3511.9684,-313.3312 3565.1022,-295.3172\"/>\n<polygon fill=\"#000000\" stroke=\"#000000\" points=\"3566.512,-298.535 3574.8587,-292.0094 3564.2644,-291.9056 3566.512,-298.535\"/>\n</g>\n<!-- 48 -->\n<g id=\"node49\" class=\"node\">\n<title>48</title>\n<polygon fill=\"#f2bf9a\" stroke=\"#000000\" points=\"3299.5,-187 3122.5,-187 3122.5,-104 3299.5,-104 3299.5,-187\"/>\n<text text-anchor=\"middle\" x=\"3211\" y=\"-171.8\" font-family=\"Helvetica,sans-Serif\" font-size=\"14.00\" fill=\"#000000\">country_Germany &lt;= 0.5</text>\n<text text-anchor=\"middle\" x=\"3211\" y=\"-156.8\" font-family=\"Helvetica,sans-Serif\" font-size=\"14.00\" fill=\"#000000\">entropy = 0.913</text>\n<text text-anchor=\"middle\" x=\"3211\" y=\"-141.8\" font-family=\"Helvetica,sans-Serif\" font-size=\"14.00\" fill=\"#000000\">samples = 649</text>\n<text text-anchor=\"middle\" x=\"3211\" y=\"-126.8\" font-family=\"Helvetica,sans-Serif\" font-size=\"14.00\" fill=\"#000000\">value = [436, 213]</text>\n<text text-anchor=\"middle\" x=\"3211\" y=\"-111.8\" font-family=\"Helvetica,sans-Serif\" font-size=\"14.00\" fill=\"#000000\">class = 0</text>\n</g>\n<!-- 47&#45;&gt;48 -->\n<g id=\"edge48\" class=\"edge\">\n<title>47&#45;&gt;48</title>\n<path fill=\"none\" stroke=\"#000000\" d=\"M3272.1234,-222.8796C3265.0803,-213.9633 3257.5707,-204.4565 3250.3126,-195.268\"/>\n<polygon fill=\"#000000\" stroke=\"#000000\" points=\"3252.9621,-192.9757 3244.017,-187.2981 3247.4691,-197.3147 3252.9621,-192.9757\"/>\n</g>\n<!-- 51 -->\n<g id=\"node52\" class=\"node\">\n<title>51</title>\n<polygon fill=\"#e89253\" stroke=\"#000000\" points=\"3480,-187 3318,-187 3318,-104 3480,-104 3480,-187\"/>\n<text text-anchor=\"middle\" x=\"3399\" y=\"-171.8\" font-family=\"Helvetica,sans-Serif\" font-size=\"14.00\" fill=\"#000000\">balance &lt;= 43031.969</text>\n<text text-anchor=\"middle\" x=\"3399\" y=\"-156.8\" font-family=\"Helvetica,sans-Serif\" font-size=\"14.00\" fill=\"#000000\">entropy = 0.521</text>\n<text text-anchor=\"middle\" x=\"3399\" y=\"-141.8\" font-family=\"Helvetica,sans-Serif\" font-size=\"14.00\" fill=\"#000000\">samples = 513</text>\n<text text-anchor=\"middle\" x=\"3399\" y=\"-126.8\" font-family=\"Helvetica,sans-Serif\" font-size=\"14.00\" fill=\"#000000\">value = [453, 60]</text>\n<text text-anchor=\"middle\" x=\"3399\" y=\"-111.8\" font-family=\"Helvetica,sans-Serif\" font-size=\"14.00\" fill=\"#000000\">class = 0</text>\n</g>\n<!-- 47&#45;&gt;51 -->\n<g id=\"edge51\" class=\"edge\">\n<title>47&#45;&gt;51</title>\n<path fill=\"none\" stroke=\"#000000\" d=\"M3337.8766,-222.8796C3344.9197,-213.9633 3352.4293,-204.4565 3359.6874,-195.268\"/>\n<polygon fill=\"#000000\" stroke=\"#000000\" points=\"3362.5309,-197.3147 3365.983,-187.2981 3357.0379,-192.9757 3362.5309,-197.3147\"/>\n</g>\n<!-- 49 -->\n<g id=\"node50\" class=\"node\">\n<title>49</title>\n<polygon fill=\"#eead7d\" stroke=\"#000000\" points=\"3159,-68 3027,-68 3027,0 3159,0 3159,-68\"/>\n<text text-anchor=\"middle\" x=\"3093\" y=\"-52.8\" font-family=\"Helvetica,sans-Serif\" font-size=\"14.00\" fill=\"#000000\">entropy = 0.822</text>\n<text text-anchor=\"middle\" x=\"3093\" y=\"-37.8\" font-family=\"Helvetica,sans-Serif\" font-size=\"14.00\" fill=\"#000000\">samples = 475</text>\n<text text-anchor=\"middle\" x=\"3093\" y=\"-22.8\" font-family=\"Helvetica,sans-Serif\" font-size=\"14.00\" fill=\"#000000\">value = [353, 122]</text>\n<text text-anchor=\"middle\" x=\"3093\" y=\"-7.8\" font-family=\"Helvetica,sans-Serif\" font-size=\"14.00\" fill=\"#000000\">class = 0</text>\n</g>\n<!-- 48&#45;&gt;49 -->\n<g id=\"edge49\" class=\"edge\">\n<title>48&#45;&gt;49</title>\n<path fill=\"none\" stroke=\"#000000\" d=\"M3167.0612,-103.9815C3157.1402,-94.607 3146.6103,-84.6572 3136.6992,-75.2921\"/>\n<polygon fill=\"#000000\" stroke=\"#000000\" points=\"3138.9334,-72.5878 3129.2611,-68.2637 3134.1257,-77.6757 3138.9334,-72.5878\"/>\n</g>\n<!-- 50 -->\n<g id=\"node51\" class=\"node\">\n<title>50</title>\n<polygon fill=\"#eef6fd\" stroke=\"#000000\" points=\"3295,-68 3177,-68 3177,0 3295,0 3295,-68\"/>\n<text text-anchor=\"middle\" x=\"3236\" y=\"-52.8\" font-family=\"Helvetica,sans-Serif\" font-size=\"14.00\" fill=\"#000000\">entropy = 0.998</text>\n<text text-anchor=\"middle\" x=\"3236\" y=\"-37.8\" font-family=\"Helvetica,sans-Serif\" font-size=\"14.00\" fill=\"#000000\">samples = 174</text>\n<text text-anchor=\"middle\" x=\"3236\" y=\"-22.8\" font-family=\"Helvetica,sans-Serif\" font-size=\"14.00\" fill=\"#000000\">value = [83, 91]</text>\n<text text-anchor=\"middle\" x=\"3236\" y=\"-7.8\" font-family=\"Helvetica,sans-Serif\" font-size=\"14.00\" fill=\"#000000\">class = 1</text>\n</g>\n<!-- 48&#45;&gt;50 -->\n<g id=\"edge50\" class=\"edge\">\n<title>48&#45;&gt;50</title>\n<path fill=\"none\" stroke=\"#000000\" d=\"M3220.3091,-103.9815C3222.2049,-95.5261 3224.2057,-86.6026 3226.1206,-78.0623\"/>\n<polygon fill=\"#000000\" stroke=\"#000000\" points=\"3229.5449,-78.7872 3228.3176,-68.2637 3222.7144,-77.2556 3229.5449,-78.7872\"/>\n</g>\n<!-- 52 -->\n<g id=\"node53\" class=\"node\">\n<title>52</title>\n<polygon fill=\"#e68641\" stroke=\"#000000\" points=\"3437,-68 3313,-68 3313,0 3437,0 3437,-68\"/>\n<text text-anchor=\"middle\" x=\"3375\" y=\"-52.8\" font-family=\"Helvetica,sans-Serif\" font-size=\"14.00\" fill=\"#000000\">entropy = 0.236</text>\n<text text-anchor=\"middle\" x=\"3375\" y=\"-37.8\" font-family=\"Helvetica,sans-Serif\" font-size=\"14.00\" fill=\"#000000\">samples = 285</text>\n<text text-anchor=\"middle\" x=\"3375\" y=\"-22.8\" font-family=\"Helvetica,sans-Serif\" font-size=\"14.00\" fill=\"#000000\">value = [274, 11]</text>\n<text text-anchor=\"middle\" x=\"3375\" y=\"-7.8\" font-family=\"Helvetica,sans-Serif\" font-size=\"14.00\" fill=\"#000000\">class = 0</text>\n</g>\n<!-- 51&#45;&gt;52 -->\n<g id=\"edge52\" class=\"edge\">\n<title>51&#45;&gt;52</title>\n<path fill=\"none\" stroke=\"#000000\" d=\"M3390.0633,-103.9815C3388.2433,-95.5261 3386.3225,-86.6026 3384.4843,-78.0623\"/>\n<polygon fill=\"#000000\" stroke=\"#000000\" points=\"3387.9011,-77.3032 3382.3751,-68.2637 3381.0579,-78.7763 3387.9011,-77.3032\"/>\n</g>\n<!-- 53 -->\n<g id=\"node54\" class=\"node\">\n<title>53</title>\n<polygon fill=\"#eca36f\" stroke=\"#000000\" points=\"3579,-68 3455,-68 3455,0 3579,0 3579,-68\"/>\n<text text-anchor=\"middle\" x=\"3517\" y=\"-52.8\" font-family=\"Helvetica,sans-Serif\" font-size=\"14.00\" fill=\"#000000\">entropy = 0.751</text>\n<text text-anchor=\"middle\" x=\"3517\" y=\"-37.8\" font-family=\"Helvetica,sans-Serif\" font-size=\"14.00\" fill=\"#000000\">samples = 228</text>\n<text text-anchor=\"middle\" x=\"3517\" y=\"-22.8\" font-family=\"Helvetica,sans-Serif\" font-size=\"14.00\" fill=\"#000000\">value = [179, 49]</text>\n<text text-anchor=\"middle\" x=\"3517\" y=\"-7.8\" font-family=\"Helvetica,sans-Serif\" font-size=\"14.00\" fill=\"#000000\">class = 0</text>\n</g>\n<!-- 51&#45;&gt;53 -->\n<g id=\"edge53\" class=\"edge\">\n<title>51&#45;&gt;53</title>\n<path fill=\"none\" stroke=\"#000000\" d=\"M3442.9388,-103.9815C3452.8598,-94.607 3463.3897,-84.6572 3473.3008,-75.2921\"/>\n<polygon fill=\"#000000\" stroke=\"#000000\" points=\"3475.8743,-77.6757 3480.7389,-68.2637 3471.0666,-72.5878 3475.8743,-77.6757\"/>\n</g>\n<!-- 55 -->\n<g id=\"node56\" class=\"node\">\n<title>55</title>\n<polygon fill=\"#61b1ea\" stroke=\"#000000\" points=\"3711,-187 3601,-187 3601,-104 3711,-104 3711,-187\"/>\n<text text-anchor=\"middle\" x=\"3656\" y=\"-171.8\" font-family=\"Helvetica,sans-Serif\" font-size=\"14.00\" fill=\"#000000\">age &lt;= 42.5</text>\n<text text-anchor=\"middle\" x=\"3656\" y=\"-156.8\" font-family=\"Helvetica,sans-Serif\" font-size=\"14.00\" fill=\"#000000\">entropy = 0.65</text>\n<text text-anchor=\"middle\" x=\"3656\" y=\"-141.8\" font-family=\"Helvetica,sans-Serif\" font-size=\"14.00\" fill=\"#000000\">samples = 18</text>\n<text text-anchor=\"middle\" x=\"3656\" y=\"-126.8\" font-family=\"Helvetica,sans-Serif\" font-size=\"14.00\" fill=\"#000000\">value = [3, 15]</text>\n<text text-anchor=\"middle\" x=\"3656\" y=\"-111.8\" font-family=\"Helvetica,sans-Serif\" font-size=\"14.00\" fill=\"#000000\">class = 1</text>\n</g>\n<!-- 54&#45;&gt;55 -->\n<g id=\"edge55\" class=\"edge\">\n<title>54&#45;&gt;55</title>\n<path fill=\"none\" stroke=\"#000000\" d=\"M3656,-222.8796C3656,-214.6838 3656,-205.9891 3656,-197.5013\"/>\n<polygon fill=\"#000000\" stroke=\"#000000\" points=\"3659.5001,-197.298 3656,-187.2981 3652.5001,-197.2981 3659.5001,-197.298\"/>\n</g>\n<!-- 58 -->\n<g id=\"node59\" class=\"node\">\n<title>58</title>\n<polygon fill=\"#399de5\" stroke=\"#000000\" points=\"3836.5,-179.5 3729.5,-179.5 3729.5,-111.5 3836.5,-111.5 3836.5,-179.5\"/>\n<text text-anchor=\"middle\" x=\"3783\" y=\"-164.3\" font-family=\"Helvetica,sans-Serif\" font-size=\"14.00\" fill=\"#000000\">entropy = 0.0</text>\n<text text-anchor=\"middle\" x=\"3783\" y=\"-149.3\" font-family=\"Helvetica,sans-Serif\" font-size=\"14.00\" fill=\"#000000\">samples = 37</text>\n<text text-anchor=\"middle\" x=\"3783\" y=\"-134.3\" font-family=\"Helvetica,sans-Serif\" font-size=\"14.00\" fill=\"#000000\">value = [0, 37]</text>\n<text text-anchor=\"middle\" x=\"3783\" y=\"-119.3\" font-family=\"Helvetica,sans-Serif\" font-size=\"14.00\" fill=\"#000000\">class = 1</text>\n</g>\n<!-- 54&#45;&gt;58 -->\n<g id=\"edge58\" class=\"edge\">\n<title>54&#45;&gt;58</title>\n<path fill=\"none\" stroke=\"#000000\" d=\"M3700.4184,-222.8796C3712.8579,-211.2237 3726.3743,-198.5587 3738.801,-186.9148\"/>\n<polygon fill=\"#000000\" stroke=\"#000000\" points=\"3741.4741,-189.2065 3746.3782,-179.8149 3736.6879,-184.0985 3741.4741,-189.2065\"/>\n</g>\n<!-- 56 -->\n<g id=\"node57\" class=\"node\">\n<title>56</title>\n<polygon fill=\"#f2c09c\" stroke=\"#000000\" points=\"3715,-68 3597,-68 3597,0 3715,0 3715,-68\"/>\n<text text-anchor=\"middle\" x=\"3656\" y=\"-52.8\" font-family=\"Helvetica,sans-Serif\" font-size=\"14.00\" fill=\"#000000\">entropy = 0.918</text>\n<text text-anchor=\"middle\" x=\"3656\" y=\"-37.8\" font-family=\"Helvetica,sans-Serif\" font-size=\"14.00\" fill=\"#000000\">samples = 3</text>\n<text text-anchor=\"middle\" x=\"3656\" y=\"-22.8\" font-family=\"Helvetica,sans-Serif\" font-size=\"14.00\" fill=\"#000000\">value = [2, 1]</text>\n<text text-anchor=\"middle\" x=\"3656\" y=\"-7.8\" font-family=\"Helvetica,sans-Serif\" font-size=\"14.00\" fill=\"#000000\">class = 0</text>\n</g>\n<!-- 55&#45;&gt;56 -->\n<g id=\"edge56\" class=\"edge\">\n<title>55&#45;&gt;56</title>\n<path fill=\"none\" stroke=\"#000000\" d=\"M3656,-103.9815C3656,-95.618 3656,-86.7965 3656,-78.3409\"/>\n<polygon fill=\"#000000\" stroke=\"#000000\" points=\"3659.5001,-78.2636 3656,-68.2637 3652.5001,-78.2637 3659.5001,-78.2636\"/>\n</g>\n<!-- 57 -->\n<g id=\"node58\" class=\"node\">\n<title>57</title>\n<polygon fill=\"#47a4e7\" stroke=\"#000000\" points=\"3851,-68 3733,-68 3733,0 3851,0 3851,-68\"/>\n<text text-anchor=\"middle\" x=\"3792\" y=\"-52.8\" font-family=\"Helvetica,sans-Serif\" font-size=\"14.00\" fill=\"#000000\">entropy = 0.353</text>\n<text text-anchor=\"middle\" x=\"3792\" y=\"-37.8\" font-family=\"Helvetica,sans-Serif\" font-size=\"14.00\" fill=\"#000000\">samples = 15</text>\n<text text-anchor=\"middle\" x=\"3792\" y=\"-22.8\" font-family=\"Helvetica,sans-Serif\" font-size=\"14.00\" fill=\"#000000\">value = [1, 14]</text>\n<text text-anchor=\"middle\" x=\"3792\" y=\"-7.8\" font-family=\"Helvetica,sans-Serif\" font-size=\"14.00\" fill=\"#000000\">class = 1</text>\n</g>\n<!-- 55&#45;&gt;57 -->\n<g id=\"edge57\" class=\"edge\">\n<title>55&#45;&gt;57</title>\n<path fill=\"none\" stroke=\"#000000\" d=\"M3706.6414,-103.9815C3718.2999,-94.4232 3730.688,-84.2668 3742.3059,-74.7419\"/>\n<polygon fill=\"#000000\" stroke=\"#000000\" points=\"3744.6933,-77.3105 3750.2075,-68.2637 3740.2552,-71.8972 3744.6933,-77.3105\"/>\n</g>\n</g>\n</svg>\n"
          },
          "metadata": {},
          "execution_count": 32
        }
      ]
    },
    {
      "cell_type": "code",
      "source": [
        "pred_train_gini=model_gini.predict(x_train)\n",
        "pred_train_entropy=model_entropy.predict(x_train)\n",
        "pred_test_gini=model_gini.predict(x_test)\n",
        "pred_test_entropy=model_entropy.predict(x_test)"
      ],
      "metadata": {
        "id": "V_uRvQxtLO3z"
      },
      "execution_count": null,
      "outputs": []
    },
    {
      "cell_type": "markdown",
      "source": [
        "將訓練資料與測試資料做評估"
      ],
      "metadata": {
        "id": "3PzRxrRcXQsS"
      }
    },
    {
      "cell_type": "code",
      "source": [
        "print('Train Result\\nGini:\\n',f\"Confusion Matrix:\\n {confusion_matrix(y_train, pred_train_gini)}\")\n",
        "print('Entropy:\\n',f\"Confusion Matrix:\\n {confusion_matrix(y_train, pred_train_entropy)}\")"
      ],
      "metadata": {
        "colab": {
          "base_uri": "https://localhost:8080/"
        },
        "id": "Is-YlaniW5_f",
        "outputId": "b2a13f02-9d11-4d21-e809-758b6cbfea2c"
      },
      "execution_count": null,
      "outputs": [
        {
          "output_type": "stream",
          "name": "stdout",
          "text": [
            "Train Result\n",
            "Gini:\n",
            " Confusion Matrix:\n",
            " [[5409  138]\n",
            " [ 901  552]]\n",
            "Entropy:\n",
            " Confusion Matrix:\n",
            " [[5345  202]\n",
            " [ 799  654]]\n"
          ]
        }
      ]
    },
    {
      "cell_type": "code",
      "source": [
        "print(\"Gini:\\n\",  classification_report(y_train, pred_train_gini))\n",
        "print(\"Entropy: \\n\",classification_report(y_train, pred_train_entropy))"
      ],
      "metadata": {
        "colab": {
          "base_uri": "https://localhost:8080/"
        },
        "id": "rlEyhyDDKp7N",
        "outputId": "1e789d2e-6744-48ff-aaa3-d64651056fe0"
      },
      "execution_count": null,
      "outputs": [
        {
          "output_type": "stream",
          "name": "stdout",
          "text": [
            "Gini:\n",
            "               precision    recall  f1-score   support\n",
            "\n",
            "           0       0.86      0.98      0.91      5547\n",
            "           1       0.80      0.38      0.52      1453\n",
            "\n",
            "    accuracy                           0.85      7000\n",
            "   macro avg       0.83      0.68      0.71      7000\n",
            "weighted avg       0.85      0.85      0.83      7000\n",
            "\n",
            "Entropy: \n",
            "               precision    recall  f1-score   support\n",
            "\n",
            "           0       0.87      0.96      0.91      5547\n",
            "           1       0.76      0.45      0.57      1453\n",
            "\n",
            "    accuracy                           0.86      7000\n",
            "   macro avg       0.82      0.71      0.74      7000\n",
            "weighted avg       0.85      0.86      0.84      7000\n",
            "\n"
          ]
        }
      ]
    },
    {
      "cell_type": "code",
      "source": [
        "print('Test Result\\nGini:\\n',f\"Confusion Matrix:\\n {confusion_matrix(y_test, pred_test_gini)}\")\n",
        "print('Entropy:\\n',f\"Confusion Matrix:\\n {confusion_matrix(y_test, pred_test_entropy)}\")"
      ],
      "metadata": {
        "colab": {
          "base_uri": "https://localhost:8080/"
        },
        "id": "4CxyUW1pWWpp",
        "outputId": "c40de68a-651b-4e68-d733-fdca9f4f8908"
      },
      "execution_count": null,
      "outputs": [
        {
          "output_type": "stream",
          "name": "stdout",
          "text": [
            "Test Result\n",
            "Gini:\n",
            " Confusion Matrix:\n",
            " [[2361   55]\n",
            " [ 373  211]]\n",
            "Entropy:\n",
            " Confusion Matrix:\n",
            " [[2332   84]\n",
            " [ 329  255]]\n"
          ]
        }
      ]
    },
    {
      "cell_type": "code",
      "source": [
        "from sklearn.metrics import confusion_matrix, classification_report\n",
        "print(\"Gini:\\n\",  classification_report(y_test, pred_test_gini))\n",
        "print(\"Entropy: \\n\",classification_report(y_test, pred_test_entropy))"
      ],
      "metadata": {
        "colab": {
          "base_uri": "https://localhost:8080/"
        },
        "id": "RkxBHp-zhlYy",
        "outputId": "6480b545-f2ff-42dd-9b51-87325acdb509"
      },
      "execution_count": null,
      "outputs": [
        {
          "output_type": "stream",
          "name": "stdout",
          "text": [
            "Gini:\n",
            "               precision    recall  f1-score   support\n",
            "\n",
            "           0       0.86      0.98      0.92      2416\n",
            "           1       0.79      0.36      0.50       584\n",
            "\n",
            "    accuracy                           0.86      3000\n",
            "   macro avg       0.83      0.67      0.71      3000\n",
            "weighted avg       0.85      0.86      0.84      3000\n",
            "\n",
            "Entropy: \n",
            "               precision    recall  f1-score   support\n",
            "\n",
            "           0       0.88      0.97      0.92      2416\n",
            "           1       0.75      0.44      0.55       584\n",
            "\n",
            "    accuracy                           0.86      3000\n",
            "   macro avg       0.81      0.70      0.74      3000\n",
            "weighted avg       0.85      0.86      0.85      3000\n",
            "\n"
          ]
        }
      ]
    },
    {
      "cell_type": "markdown",
      "source": [
        "其他模型\n"
      ],
      "metadata": {
        "id": "JO8Z2LVAXWHL"
      }
    },
    {
      "cell_type": "code",
      "source": [
        "logistic_model = linear_model.LogisticRegression()\n",
        "score=cross_val_score(logistic_model,x_train,y_train.values.ravel(),cv=10,scoring='accuracy').mean()\n",
        "print(\"logistic accuray=\",score)\n",
        "svm_model = svm.SVC()\n",
        "score=cross_val_score(svm_model,x_train,y_train.values.ravel(),cv=10,scoring='accuracy').mean()\n",
        "print(\"svm accuray=\",score)\n",
        "randomforest_model = ensemble.RandomForestClassifier()\n",
        "score=cross_val_score(randomforest_model,x_train,y_train.values.ravel(),cv=10,scoring='accuracy').mean()\n",
        "print(\"randomforest accuray=\",score)"
      ],
      "metadata": {
        "colab": {
          "base_uri": "https://localhost:8080/"
        },
        "id": "Txk-sxHFJNDN",
        "outputId": "ebbf36f5-94bc-4466-b2b9-0d0651e9999a"
      },
      "execution_count": null,
      "outputs": [
        {
          "output_type": "stream",
          "name": "stdout",
          "text": [
            "logistic accuray= 0.7847142857142858\n",
            "svm accuray= 0.7924285714285715\n",
            "randomforest accuray= 0.8575714285714285\n"
          ]
        }
      ]
    }
  ]
}